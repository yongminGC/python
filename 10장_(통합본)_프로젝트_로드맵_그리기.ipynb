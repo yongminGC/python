{
  "nbformat": 4,
  "nbformat_minor": 0,
  "metadata": {
    "colab": {
      "name": "10장_(통합본)_프로젝트 로드맵 그리기.ipynb",
      "provenance": [],
      "collapsed_sections": [],
      "authorship_tag": "ABX9TyNcB/79ptBRDQM5KqfXKFMK",
      "include_colab_link": true
    },
    "kernelspec": {
      "name": "python3",
      "display_name": "Python 3"
    }
  },
  "cells": [
    {
      "cell_type": "markdown",
      "metadata": {
        "id": "view-in-github",
        "colab_type": "text"
      },
      "source": [
        "<a href=\"https://colab.research.google.com/github/teacher-jiejie/Lets-get-it-Python-Lecture/blob/main/10%EC%9E%A5_(%ED%86%B5%ED%95%A9%EB%B3%B8)_%ED%94%84%EB%A1%9C%EC%A0%9D%ED%8A%B8_%EB%A1%9C%EB%93%9C%EB%A7%B5_%EA%B7%B8%EB%A6%AC%EA%B8%B0.ipynb\" target=\"_parent\"><img src=\"https://colab.research.google.com/assets/colab-badge.svg\" alt=\"Open In Colab\"/></a>"
      ]
    },
    {
      "cell_type": "markdown",
      "metadata": {
        "id": "AJJmdk2i7Fb-"
      },
      "source": [
        "<img src='https://github.com/teacher-jiejie/allinone_AI/blob/images/87_%EB%A1%9C%EB%93%9C%EB%A7%B5.png?raw=true' width=700>"
      ]
    },
    {
      "cell_type": "markdown",
      "metadata": {
        "id": "FzBW2NLn7J5t"
      },
      "source": [
        "# 1. 프로젝트 목표 수립\n",
        "\n",
        "### 1) 목표 수립하기"
      ]
    },
    {
      "cell_type": "markdown",
      "metadata": {
        "id": "qNIT40Qr80c1"
      },
      "source": [
        "목표 : 10-12월 카드 이용 내역을 분석해 소비 패턴과 불필요한 지출 규모 파악하기"
      ]
    },
    {
      "cell_type": "markdown",
      "metadata": {
        "id": "UDpGnB7q84Pa"
      },
      "source": [
        "하위 목표 1 : 10-12월의 월별 지출액 파악하기\n",
        "\n",
        "<img src='https://github.com/teacher-jiejie/allinone_AI/blob/images/83_%ED%95%98%EC%9C%84%EB%AA%A9%ED%91%9C1.png?raw=true' width=300>"
      ]
    },
    {
      "cell_type": "markdown",
      "metadata": {
        "id": "oGaVvTH59CNE"
      },
      "source": [
        "하위 목표 2 : 10-12월의 월별 택시비와 배달음식 지출액 파악하기\n",
        "\n",
        "<img src='https://github.com/teacher-jiejie/allinone_AI/blob/images/84_%ED%95%98%EC%9C%84%EB%AA%A9%ED%91%9C2.png?raw=true' width=300>"
      ]
    },
    {
      "cell_type": "markdown",
      "metadata": {
        "id": "HJq4l9v99CPY"
      },
      "source": [
        "하위 목표 3 : 3개월간 지출액이 가장 높은 가맹점 10개 뽑기\n",
        "\n",
        "<img src='https://github.com/teacher-jiejie/allinone_AI/blob/images/84_%ED%95%98%EC%9C%84%EB%AA%A9%ED%91%9C3.png?raw=true' width=300>"
      ]
    },
    {
      "cell_type": "markdown",
      "metadata": {
        "id": "uKteuac_-whw"
      },
      "source": [
        "### 2) 데이터 선정"
      ]
    },
    {
      "cell_type": "markdown",
      "metadata": {
        "id": "TrWwpz3u-zXl"
      },
      "source": [
        "데이터 : 10-12월 카드 이용내역 파일"
      ]
    },
    {
      "cell_type": "markdown",
      "metadata": {
        "id": "VX8PeeJDE4fS"
      },
      "source": [
        "\n",
        "[프로젝트 목표수립]에서 1) 목표수립과 2) 데이터 선정은 순서를 바꿔서 진행할 수도 있어요\n",
        "\n",
        "1) 데이터 선정 --> 2) 목표 수립하기\n",
        "\n",
        "<br/>\n",
        "데이터를 선정했는데, 미리 생각한 목표를 달성할 수 없는 경우도 있고, 데이터를 보고 분석하고 싶은 내용이 달라지는 (프로젝트 목표가 달라지는) 경우도 있어요. 유연하게 두 순서를 수정하면서 상황에 맞게 하는 것이 중요합니다.\n",
        "<br/>\n"
      ]
    },
    {
      "cell_type": "markdown",
      "metadata": {
        "id": "wu-Q9n8KHAtJ"
      },
      "source": [
        "<img src='https://github.com/teacher-jiejie/allinone_AI/blob/images/87_%EB%A1%9C%EB%93%9C%EB%A7%B5.png?raw=true' width=700>"
      ]
    },
    {
      "cell_type": "markdown",
      "metadata": {
        "id": "8tv7s4JY-5ff"
      },
      "source": [
        "# 2. 프로그램 구현 \n"
      ]
    },
    {
      "cell_type": "markdown",
      "metadata": {
        "id": "PhuepFwZ_CM4"
      },
      "source": [
        "## 하위목표 1\n",
        "### 1) 알고리즘 작성 \n",
        "\n",
        "```\n",
        "1. 10~12월의 월별 지출액을 저장할 리스트를 만들고 초깃값 0 저장하기\n",
        "2. 전체 이용 내역을 돌며 반복하기\n",
        "   2.1. 각 이용내역에서 매입상태가 '전표매입'이라면\n",
        "       2.1.1. 해당 건의 이용월과 이용 금액 구하기\n",
        "       2.1.2. 이용월에서 10을 빼 월별 지출액 리스트의 인덱스 구하기\n",
        "       2.1.3. 2.1.2.에서 구한 인덱스의 값에 과정 2.1.1.에서 구한 이용금액 더하기\n",
        "3. 월별 지출액 리스트로 막대그래프 그리기\n",
        "```\n",
        "\n"
      ]
    },
    {
      "cell_type": "markdown",
      "metadata": {
        "id": "I6kwQD9a_1kx"
      },
      "source": [
        "### 2) 코드 작성하기\n",
        "알고리즘을 바탕으로 코딩하기\n",
        "\n",
        "```\n",
        "s_mon = [0, 0, 0]\n",
        "\n",
        "for row in data : \n",
        "    if row[-1] == '전표매입' : \n",
        "        mon = int(row[0].split('-')[1]) \n",
        "        idx = mon - 10                \n",
        "        payment = int(row[6])\n",
        "        s_mon[idx] += payment\n",
        "\n",
        "plt.rc('font',family ='NanumGothic')\n",
        "plt.title('10-12월 지출현황')\n",
        "plt.bar(['10월','11월','12월'], s_mon, color = 'royalblue')\n",
        "plt.show()\n",
        "```\n",
        "\n"
      ]
    },
    {
      "cell_type": "markdown",
      "metadata": {
        "id": "TDE8CZXyJ5_B"
      },
      "source": [
        "<img src='https://github.com/teacher-jiejie/allinone_AI/blob/images/88_%EC%95%8C%EA%B3%A0%EB%A6%AC%EC%A6%98%EA%B3%BC%20%EC%BD%94%EB%93%9C.png?raw=true' width=600>"
      ]
    },
    {
      "cell_type": "markdown",
      "metadata": {
        "id": "bA3D1y4XJa6h"
      },
      "source": [
        "## 하위목표 2\n",
        "### 1) 알고리즘 작성 \n",
        "\n",
        "\n",
        "```\n",
        "1. 10-12월의 월별 택시비 지출액을 저장할 리스트(taxi)를 만들고 각 월별 택시 지출액의 초깃값을 0으로 저장하기\n",
        "2. 전체 이용내역(data)를 돌며 반복하기\n",
        "  2.1 매입상태(row[-1])가 '전표매입'이고, 가맹점명에 '택시'가 있다면\n",
        "    2.1.1 해당 건의 이용월 구하고, 이용금액도 구하기\n",
        "    2.1.2 이용월에서 10을 빼서 taxi의 인덱스 구하기\n",
        "    2.1.3 taxi[인덱스] += 이용금액\n",
        "3. 월별 지출액 리스트로 선그래프 그리기\n",
        "\n",
        "(중략)\n",
        "\n",
        "```\n",
        "\n"
      ]
    },
    {
      "cell_type": "markdown",
      "metadata": {
        "id": "mBC4IT0MJa6p"
      },
      "source": [
        "### 2) 코드 작성하기\n",
        "알고리즘을 바탕으로 코딩하기\n",
        "\n",
        "```\n",
        "taxi = [0, 0, 0]\n",
        "\n",
        "for row in data : \n",
        "    if row[-1] == '전표매입' and '택시' in row[5] : \n",
        "        mon = int(row[0].split('-')[1])\n",
        "        payment = int(row[-3])\n",
        "        idx = mon-10\n",
        "        taxi[idx] += payment\n",
        "\n",
        "plt.title('10-12월 택시비 지출 현황')\n",
        "plt.plot(['10월','11월','12월'],taxi, color = 'crimson', label ='택시 지출액')\n",
        "\n",
        "(중략)\n",
        "\n",
        "```\n",
        "\n"
      ]
    },
    {
      "cell_type": "markdown",
      "metadata": {
        "id": "MlsruMDUHBZy"
      },
      "source": [
        "<img src='https://github.com/teacher-jiejie/allinone_AI/blob/images/87_%EB%A1%9C%EB%93%9C%EB%A7%B5.png?raw=true' width=700>"
      ]
    },
    {
      "cell_type": "markdown",
      "metadata": {
        "id": "JUAtr0b5LkKX"
      },
      "source": [
        "## 하위목표1의 결과분석\n",
        "\n",
        "<img src ='https://github.com/teacher-jiejie/allinone_AI/blob/images/89_%EA%B2%B0%EA%B3%BC%EB%B6%84%EC%84%9D1.png?raw=true' width=400>\n",
        "\n",
        "\n",
        "```\n",
        "- 10월, 12월 지출액은 200만원 근처인 반면, 11월 지출액은 그 두배인 400만원 정도이다.\n",
        "- 11월에 무슨 일(?)이 발생했음이 틀림없다.\n",
        "```\n",
        "\n",
        "\n"
      ]
    },
    {
      "cell_type": "markdown",
      "metadata": {
        "id": "V0FDXtXxF0_u"
      },
      "source": [
        "## 하위목표2의 결과분석\n",
        "\n",
        "<img src ='https://github.com/teacher-jiejie/allinone_AI/blob/images/92_%EA%B2%B0%EA%B3%BC%EB%B6%84%EC%84%9D4.png?raw=true' width=400>\n",
        "\n",
        "\n",
        "```\n",
        "- 전반적으로 택시보다 배달음식 지출이 크다.\n",
        "- 10월 택시이용액은 최저인 반면 배달음식은 최고 수준이어서 야외활동이 적었을 것이다. \n",
        "- 11월과 비교해 12월에는 택시, 배달음식에서의 불필요한 지출이 다소 감소한 추이\n",
        "```\n",
        "\n",
        "\n"
      ]
    },
    {
      "cell_type": "code",
      "metadata": {
        "id": "GZbBk0EyF6eD"
      },
      "source": [
        ""
      ],
      "execution_count": null,
      "outputs": []
    }
  ]
}