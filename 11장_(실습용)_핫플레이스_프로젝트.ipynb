{
  "nbformat": 4,
  "nbformat_minor": 0,
  "metadata": {
    "colab": {
      "name": "11장_(실습용)_핫플레이스 프로젝트.ipynb",
      "provenance": [],
      "collapsed_sections": [],
      "authorship_tag": "ABX9TyNaffqtUxP7Ibe9PEyxzVMf",
      "include_colab_link": true
    },
    "kernelspec": {
      "name": "python3",
      "display_name": "Python 3"
    }
  },
  "cells": [
    {
      "cell_type": "markdown",
      "metadata": {
        "id": "view-in-github",
        "colab_type": "text"
      },
      "source": [
        "<a href=\"https://colab.research.google.com/github/teacher-jiejie/Lets-get-it-Python-Lecture/blob/main/11%EC%9E%A5_(%EC%8B%A4%EC%8A%B5%EC%9A%A9)_%ED%95%AB%ED%94%8C%EB%A0%88%EC%9D%B4%EC%8A%A4_%ED%94%84%EB%A1%9C%EC%A0%9D%ED%8A%B8.ipynb\" target=\"_parent\"><img src=\"https://colab.research.google.com/assets/colab-badge.svg\" alt=\"Open In Colab\"/></a>"
      ]
    },
    {
      "cell_type": "markdown",
      "metadata": {
        "id": "oQlXJLnwF7pK"
      },
      "source": [
        "들어가기 전에)\n",
        "<br/>\n",
        "11장은 코랩이 아닌 **주피터 노트북** 에서 진행해주세요"
      ]
    },
    {
      "cell_type": "markdown",
      "metadata": {
        "id": "AJJmdk2i7Fb-"
      },
      "source": [
        "<img src='https://github.com/teacher-jiejie/allinone_AI/blob/images/87_%EB%A1%9C%EB%93%9C%EB%A7%B5.png?raw=true' width=700>"
      ]
    },
    {
      "cell_type": "markdown",
      "metadata": {
        "id": "FzBW2NLn7J5t"
      },
      "source": [
        "# 1. 프로젝트 목표 수립\n"
      ]
    },
    {
      "cell_type": "markdown",
      "metadata": {
        "id": "qNIT40Qr80c1"
      },
      "source": [
        "**핫플레이스, 언제 가야 가장 덜 붐빌까?**\n",
        "\n",
        "그런데, 데이터가 있나?"
      ]
    },
    {
      "cell_type": "markdown",
      "metadata": {
        "id": "uKteuac_-whw"
      },
      "source": [
        "### 1) 데이터 선정\n",
        "\n",
        "데이터 : 구글에서 데이터를 찾아보자!\n",
        "\n",
        "구글에 '서울 시간대별 인구 데이터' 검색\n",
        "\n",
        "> \n",
        "<br/>\n",
        ">  "
      ]
    },
    {
      "cell_type": "markdown",
      "metadata": {
        "id": "9Tuar_6tUQK5"
      },
      "source": [
        "<img src='https://github.com/teacher-jiejie/allinone_AI/blob/images/99_%EB%8D%B0%EC%9D%B4%ED%84%B0%ED%97%A4%EB%8D%94.png?raw=true' width=800>"
      ]
    },
    {
      "cell_type": "markdown",
      "metadata": {
        "id": "cIbzo9JiFLdb"
      },
      "source": [
        "### 2) 목표 수립하기"
      ]
    },
    {
      "cell_type": "markdown",
      "metadata": {
        "id": "qublb2aUsXL4"
      },
      "source": [
        "하위 목표 1 : "
      ]
    },
    {
      "cell_type": "markdown",
      "metadata": {
        "id": "UDpGnB7q84Pa"
      },
      "source": [
        "\n",
        "\n",
        "<img src='https://github.com/teacher-jiejie/allinone_AI/blob/images/93_%ED%95%AB%ED%94%8C_%ED%95%98%EC%9C%84%EB%AA%A9%ED%91%9C1.png?raw=true' width=300>"
      ]
    },
    {
      "cell_type": "markdown",
      "metadata": {
        "id": "oCYC1DMNsYBa"
      },
      "source": [
        "하위 목표 2 : "
      ]
    },
    {
      "cell_type": "markdown",
      "metadata": {
        "id": "oGaVvTH59CNE"
      },
      "source": [
        "\n",
        "<img src='https://github.com/teacher-jiejie/allinone_AI/blob/images/94_%ED%95%AB%ED%94%8C_%ED%95%98%EC%9C%84%EB%AA%A9%ED%91%9C2.png?raw=true' width=300>"
      ]
    },
    {
      "cell_type": "markdown",
      "metadata": {
        "id": "U3ii1z1YsavQ"
      },
      "source": [
        "하위 목표 3 : "
      ]
    },
    {
      "cell_type": "markdown",
      "metadata": {
        "id": "HJq4l9v99CPY"
      },
      "source": [
        "<img src='https://github.com/teacher-jiejie/allinone_AI/blob/images/95_%ED%95%AB%ED%94%8C_%ED%95%98%EC%9C%84%EB%AA%A9%ED%91%9C3.png?raw=true' width=300>"
      ]
    },
    {
      "cell_type": "markdown",
      "metadata": {
        "id": "Ba6UfnbQsc2M"
      },
      "source": [
        "하위 목표 4 : "
      ]
    },
    {
      "cell_type": "markdown",
      "metadata": {
        "id": "wPQbcCw0LdQg"
      },
      "source": [
        "<img src='https://github.com/teacher-jiejie/allinone_AI/blob/images/96_%ED%95%AB%ED%94%8C_%ED%95%98%EC%9C%84%EB%AA%A9%ED%91%9C4.png?raw=true' width=300>"
      ]
    },
    {
      "cell_type": "markdown",
      "metadata": {
        "id": "8tv7s4JY-5ff"
      },
      "source": [
        "# 2. 프로그램 구현 \n"
      ]
    },
    {
      "cell_type": "markdown",
      "metadata": {
        "id": "ub-qn9GtNTh5"
      },
      "source": [
        "**프로젝트에 필요한 데이터 파일 읽기**\n",
        "\n",
        "```\n",
        "import csv\n",
        "\n",
        "f = open('파일이름.csv', encoding='utf8') # 또는  'eur-kr', 'cp949'\n",
        "data = csv.reader(f)\n",
        "next(data)\n",
        "data = list(data)\n",
        "```\n",
        "주의사항! 파이썬 파일과 데이터 파일을 같은 폴더에 위치시킨 후 코드 작성하기\n"
      ]
    },
    {
      "cell_type": "code",
      "metadata": {
        "id": "qM8Tpf_pNlMk"
      },
      "source": [
        "# 인구데이터 파일 읽기\n",
        "\n"
      ],
      "execution_count": null,
      "outputs": []
    },
    {
      "cell_type": "code",
      "metadata": {
        "id": "nruSYN0jNlR4"
      },
      "source": [
        "# 행정동코드 데이터 파일 읽기\n",
        "\n"
      ],
      "execution_count": null,
      "outputs": []
    },
    {
      "cell_type": "code",
      "metadata": {
        "id": "jcUObnTtNovl"
      },
      "source": [
        "# 인구데이터 확인해보기\n",
        "\n"
      ],
      "execution_count": null,
      "outputs": []
    },
    {
      "cell_type": "markdown",
      "metadata": {
        "id": "VPahQssoO-Iz"
      },
      "source": [
        "**데이터타입 미리 변환하기**\n",
        "\n",
        "인구수를 계량화하려면 연산이 필수!\n",
        "\n"
      ]
    },
    {
      "cell_type": "markdown",
      "metadata": {
        "id": "lT_YzPgrPu9C"
      },
      "source": [
        "인구데이터의 타입 변환하기\n",
        "\n",
        "\n",
        "```\n",
        "for row in data: \n",
        "    row[1] = int(row[1])       # 시간대구분\n",
        "    row[2] = int(row[1])       # 행정동코드\n",
        "    row[3] = float(row[1])     # 총생활인구수\n",
        "    row[4] = float(row[1])     # 남자0세부터9세생활인구수\n",
        "    ... \n",
        "    row[31] = float(row[31])   # 여자70세이상생활인구수\n",
        "\n",
        "```\n",
        "\n"
      ]
    },
    {
      "cell_type": "code",
      "metadata": {
        "id": "kLHSbQKuO6Yq"
      },
      "source": [
        "\n"
      ],
      "execution_count": null,
      "outputs": []
    },
    {
      "cell_type": "markdown",
      "metadata": {
        "id": "uUusiTHiP_2u"
      },
      "source": [
        "코드 데이터의 타입 변환하기"
      ]
    },
    {
      "cell_type": "code",
      "metadata": {
        "id": "eMgC5q8GQTPK"
      },
      "source": [
        "# 프로젝트에서 사용할 예정인 행자부 행정동코드만 숫자로 변경\n",
        "\n"
      ],
      "execution_count": null,
      "outputs": []
    },
    {
      "cell_type": "markdown",
      "metadata": {
        "id": "ryc8Gpy2Qbiu"
      },
      "source": [
        "**사용자에게 행정동명을 입력받고, 대응되는 행정동코드를 찾기**"
      ]
    },
    {
      "cell_type": "markdown",
      "metadata": {
        "id": "BSLbTec-Qomi"
      },
      "source": [
        "```\n",
        "1. \n",
        "2. \n",
        "  2-1. \n",
        "    2-1-1. \n",
        "```\n",
        "\n"
      ]
    },
    {
      "cell_type": "code",
      "metadata": {
        "id": "DlwLBCqlQ0gk"
      },
      "source": [
        "\n"
      ],
      "execution_count": null,
      "outputs": []
    },
    {
      "cell_type": "markdown",
      "metadata": {
        "id": "PhuepFwZ_CM4"
      },
      "source": [
        "## 하위목표 1  :  핫플레이스가 있는 행정동의 시간대별 평균인구 그래프 그려 분석하기\n",
        "\n",
        "\n",
        "<img src='https://github.com/teacher-jiejie/allinone_AI/blob/images/93_%ED%95%AB%ED%94%8C_%ED%95%98%EC%9C%84%EB%AA%A9%ED%91%9C1.png?raw=true' width=200>\n",
        "<img src='https://github.com/teacher-jiejie/allinone_AI/blob/images/97_%EC%9D%B8%EA%B5%AC%EB%A6%AC%EC%8A%A4%ED%8A%B8.png?raw=true' width=600>\n",
        "\n",
        "<br/>\n",
        "<br/>\n",
        "\n",
        "<img src='https://github.com/teacher-jiejie/allinone_AI/blob/images/98_%ED%95%98%EC%9C%84%EB%AA%A9%ED%91%9C1%EC%95%8C%EA%B3%A0%EB%A6%AC%EC%A6%98.png?raw=true' width=800>"
      ]
    },
    {
      "cell_type": "markdown",
      "metadata": {
        "id": "6qOyGvrzRMxV"
      },
      "source": [
        "### 1) 알고리즘 작성 \n",
        "\n",
        "```\n",
        "1. \n",
        "2. \n",
        "  2.1 \n",
        "    2.1.1 \n",
        "    2.1.2 \n",
        "3. \n",
        "4. \n",
        "```\n",
        "\n"
      ]
    },
    {
      "cell_type": "markdown",
      "metadata": {
        "id": "I6kwQD9a_1kx"
      },
      "source": [
        "### 2) 코드 작성하기\n"
      ]
    },
    {
      "cell_type": "code",
      "metadata": {
        "id": "VJrvFr8KMDss"
      },
      "source": [
        "\n"
      ],
      "execution_count": null,
      "outputs": []
    },
    {
      "cell_type": "markdown",
      "metadata": {
        "id": "gQelqHL1XA2l"
      },
      "source": [
        "**추가로 배워봅시다!**\n",
        "\n",
        "1) 리스트 내포\n",
        "\n",
        "```\n",
        "population = []\n",
        "for i in range(24): \n",
        "    population.append(0)\n",
        "```\n",
        "코드라인 세줄 -> 한 줄\n",
        "\n",
        "\n",
        "```\n",
        "population = [0 for i in range(24)]\n",
        "```\n",
        "\n",
        "\n"
      ]
    },
    {
      "cell_type": "code",
      "metadata": {
        "id": "Y2khGtRgWm5A"
      },
      "source": [
        "# 리스트에 숫자 0을 24개 동시에 저장하기\n",
        "\n"
      ],
      "execution_count": null,
      "outputs": []
    },
    {
      "cell_type": "code",
      "metadata": {
        "id": "AJT05e7Ho6Nd"
      },
      "source": [
        "# 리스트의 모든 원소를 31로 나누기\n",
        "\n"
      ],
      "execution_count": null,
      "outputs": []
    },
    {
      "cell_type": "markdown",
      "metadata": {
        "id": "JbA-0UkcXHw_"
      },
      "source": [
        "2) 변수 여러 개 코드라인 한 줄로 만들기"
      ]
    },
    {
      "cell_type": "code",
      "metadata": {
        "id": "sPzyk2W1WohU"
      },
      "source": [
        "\n"
      ],
      "execution_count": null,
      "outputs": []
    },
    {
      "cell_type": "markdown",
      "metadata": {
        "id": "8YXBk8HAXo3I"
      },
      "source": [
        "**추가로 배운 내용 적용하여 코드 간단하게 만들기**"
      ]
    },
    {
      "cell_type": "code",
      "metadata": {
        "id": "ujUmQ42WR9jO"
      },
      "source": [
        "\n"
      ],
      "execution_count": null,
      "outputs": []
    },
    {
      "cell_type": "markdown",
      "metadata": {
        "id": "JUAtr0b5LkKX"
      },
      "source": [
        "## 하위목표1의 결과분석\n",
        "\n",
        "```\n",
        "- 압구정동은 새벽 1~6시에 인구가 가장 적음 \n",
        "  (새벽에는 인구이동이 매우 적으므로 이 시간에 인구는 대부분 압구정에 거주하는 사람으로 추측할 수 있다.)\n",
        "- 12~18시가 인구가 가장 많음\n",
        "- 압구정동에 있는 핫플레이스를 가려면 10~11시쯤 브런치 약속이나 19시 이후 저녁약속을 잡으면 될 것 같다.\n",
        "```\n",
        "\n",
        "\n"
      ]
    },
    {
      "cell_type": "markdown",
      "metadata": {
        "id": "bA3D1y4XJa6h"
      },
      "source": [
        "## 하위목표 2  :  핫플레이스가 있는 행정동의 주중/주말 시간대별 평균인구 그래프 그리고 분석하기\n",
        "\n",
        "\n",
        "<img src='https://github.com/teacher-jiejie/allinone_AI/blob/images/94_%ED%95%AB%ED%94%8C_%ED%95%98%EC%9C%84%EB%AA%A9%ED%91%9C2.png?raw=true' width=300>\n",
        "\n",
        "\n",
        "\n"
      ]
    },
    {
      "cell_type": "markdown",
      "metadata": {
        "id": "iJpI1Y3cWBRH"
      },
      "source": [
        "**요일을 알려주는 datetime 라이브러리**\n",
        "<br/>\n",
        "0 - 월, 1 - 화, 2 - 수, 3 - 목, 4 - 금, 5 - 토, 6 - 일"
      ]
    },
    {
      "cell_type": "code",
      "metadata": {
        "id": "Nn4QcOzHWHhM"
      },
      "source": [
        "\n"
      ],
      "execution_count": null,
      "outputs": []
    },
    {
      "cell_type": "markdown",
      "metadata": {
        "id": "rSWgtftdVU6j"
      },
      "source": [
        "\n",
        "### 1) 알고리즘 작성 \n",
        "\n",
        "```\n",
        "1. \n",
        "2. \n",
        "  2.1 \n",
        "    2.1.1 \n",
        "    2.1.2 \n",
        "    2.1.3 \n",
        "\n",
        "# 주중인구와 주말인구의 평균을 구하기 위해 2019년 12월의 주중일수와 주말일수를 알아야 함 (3~4)\n",
        "3. \n",
        "4. \n",
        "  4.1 \n",
        "5. \n",
        "6. \n",
        "```"
      ]
    },
    {
      "cell_type": "markdown",
      "metadata": {
        "id": "mBC4IT0MJa6p"
      },
      "source": [
        "### 2) 코드 작성하기"
      ]
    },
    {
      "cell_type": "code",
      "metadata": {
        "id": "r9OTLu7pMChK"
      },
      "source": [
        "\n"
      ],
      "execution_count": null,
      "outputs": []
    },
    {
      "cell_type": "code",
      "metadata": {
        "id": "R0J6hV14VWEo"
      },
      "source": [
        "# 2019년 12월의 주중/주말 일수 구하기\n",
        "\n"
      ],
      "execution_count": null,
      "outputs": []
    },
    {
      "cell_type": "code",
      "metadata": {
        "id": "zt9AjDVMqh8G"
      },
      "source": [
        "\n"
      ],
      "execution_count": null,
      "outputs": []
    },
    {
      "cell_type": "markdown",
      "metadata": {
        "id": "V0FDXtXxF0_u"
      },
      "source": [
        "## 하위목표2의 결과분석\n",
        "\n",
        "```\n",
        "- 압구정동은 주말보다 주중 인구가 더 많다.\n",
        "- 주말에 압구정에 간다면 그리 걱정하지 않아도 된다.\n",
        "```\n",
        "\n",
        "\n"
      ]
    },
    {
      "cell_type": "markdown",
      "metadata": {
        "id": "ZLt60QqXVHP7"
      },
      "source": [
        "## 하위목표 3  :  핫플레이스가 있는 행정동의 남/녀 시간대별 평균인구 그래프 그리고 분석하기\n",
        "\n",
        "\n",
        "<img src='https://github.com/teacher-jiejie/allinone_AI/blob/images/95_%ED%95%AB%ED%94%8C_%ED%95%98%EC%9C%84%EB%AA%A9%ED%91%9C3.png?raw=true' width=300>\n",
        "\n",
        "<br/>\n",
        "<br/>\n",
        "## 하위목표 3  :  핫플레이스가 있는 행정동의 남/녀 시간대별 평균인구 그래프 그리고 분석하기\n",
        "<br/>\n",
        "\n",
        "<img src='https://github.com/teacher-jiejie/allinone_AI/blob/images/95_%ED%95%AB%ED%94%8C_%ED%95%98%EC%9C%84%EB%AA%A9%ED%91%9C3.png?raw=true' width=300>\n",
        "\n",
        "<br/>\n",
        "<br/>\n",
        "\n",
        "<img src='https://github.com/teacher-jiejie/allinone_AI/blob/images/123_%E1%84%92%E1%85%A1%E1%86%BA%E1%84%91%E1%85%B3%E1%86%AF%E1%84%85%E1%85%A6%E1%84%8B%E1%85%B5%E1%84%89%E1%85%B3%20%E1%84%91%E1%85%B3%E1%84%85%E1%85%A9%E1%84%8C%E1%85%A6%E1%86%A8%E1%84%90%E1%85%B33-1.png?raw=true' width=750>\n",
        "\n",
        "<br/>\n",
        "<br/>\n",
        "\n",
        "<img src='https://github.com/teacher-jiejie/allinone_AI/blob/images/124_%E1%84%92%E1%85%A1%E1%86%BA%E1%84%91%E1%85%B3%E1%86%AF%E1%84%85%E1%85%A6%E1%84%8B%E1%85%B5%E1%84%89%E1%85%B3%20%E1%84%91%E1%85%B3%E1%84%85%E1%85%A9%E1%84%8C%E1%85%A6%E1%86%A8%E1%84%90%E1%85%B33-2.png?raw=true' width=750>\n",
        "\n",
        "<img src='https://github.com/teacher-jiejie/allinone_AI/blob/images/125_%E1%84%92%E1%85%A1%E1%86%BA%E1%84%91%E1%85%B3%E1%86%AF%E1%84%85%E1%85%A6%E1%84%8B%E1%85%B5%E1%84%89%E1%85%B3%20%E1%84%91%E1%85%B3%E1%84%85%E1%85%A9%E1%84%8C%E1%85%A6%E1%86%A8%E1%84%90%E1%85%B33-3.png?raw=true' width=750>\n",
        "\n"
      ]
    },
    {
      "cell_type": "markdown",
      "metadata": {
        "id": "nvGIKM4iq1OY"
      },
      "source": [
        "### 1) 알고리즘 작성 \n",
        "\n",
        "\n",
        "```\n",
        "1. \n",
        "2. \n",
        "  2.1 \n",
        "    2.1.1 \n",
        "    2.1.2 \n",
        "    2.1.3 \n",
        "3. \n",
        "4. \n",
        "```\n",
        "\n"
      ]
    },
    {
      "cell_type": "markdown",
      "metadata": {
        "id": "J5Zcpi8QVHP7"
      },
      "source": [
        "### 2) 코드 작성하기"
      ]
    },
    {
      "cell_type": "code",
      "metadata": {
        "id": "UrGeGDBWVHP8"
      },
      "source": [
        "\n"
      ],
      "execution_count": null,
      "outputs": []
    },
    {
      "cell_type": "code",
      "metadata": {
        "id": "fzDnFt4MVcwy"
      },
      "source": [
        "\n"
      ],
      "execution_count": null,
      "outputs": []
    },
    {
      "cell_type": "markdown",
      "metadata": {
        "id": "bdms2-YpVHP8"
      },
      "source": [
        "## 하위목표3의 결과분석\n",
        "\n",
        "```\n",
        "- 압구정동에는 여성이 남성보다 항상 더 많다.\n",
        "- 남성 인구의 증감폭보다 여성 인구의 증감폭이 더 크다.\n",
        "- 만약 압구정동의 여성이 선호하는 핫플레이스라면 점심시간에 붐빌수도 있다.\n",
        "```\n",
        "\n",
        "\n"
      ]
    },
    {
      "cell_type": "markdown",
      "metadata": {
        "id": "1nvf9GALVkW6"
      },
      "source": [
        "## 하위목표 4  :  핫플레이스가 있는 행정동과 익숙한 행정동의 시간대별 평균인구 그래프 그려서 비교 분석하기\n",
        "\n",
        "<img src='https://github.com/teacher-jiejie/allinone_AI/blob/images/96_%ED%95%AB%ED%94%8C_%ED%95%98%EC%9C%84%EB%AA%A9%ED%91%9C4.png?raw=true' width=300>\n",
        "\n",
        "\n"
      ]
    },
    {
      "cell_type": "markdown",
      "metadata": {
        "id": "A8dCGBuBVt0S"
      },
      "source": [
        "\n",
        "### 1) 알고리즘 작성 \n",
        "\n",
        "```\n",
        "1. 사용자에게서 행정동명을 입력받아 행정동코드를 구한 후 이 값을 dong_code에 저장하기\n",
        "2. 비교할 행정동명을 입력받아 행정동코드를 구한 후 이 값을 dong_code2에 저장하기\n",
        "3. 핫플레이스의 행정동 인구를 저장할 리스트(population)와 비교할 행정동 인구를 저장할 리스트(population2)를 길이 24로 만들고 초깃값 0 저장하기\n",
        "4. 인구 데이터(data)의 첫 행부터 마지막 행까지 돌며 반복하기\n",
        "  4.1 사용자가 입력한 행정동의 행정동코드(dong_code)와 인구 데이터(data)의 행정동코드(row[2])가 같다면\n",
        "    4.1.1 해당 행의 시간대(row[1])와 총생활인구수(row[3])를 각각 변수(time, p)에 저장하기\n",
        "    4.1.2 인덱스가 time인 population 리스트의 요소(population[time])에 총생활인구수(p)를 더하기\n",
        "4.2 비교할 행정동의 행정동코드(dong_code2)와 인구 데이터(data)의 행정동코드(열 인덱스 [2])가 같다면\n",
        "    4.2.1 해당 행의 시간대(열 인덱스[1])와 총생활인구수(열 인덱스[3])를 각각 변수(time, p)에 저장하기\n",
        "    4.2.2 인덱스가 time인 population2 리스트의 요소(population2[time])에 총생활인구수(p)를 더하기\n",
        "5. 반복이 끝나면 두 리스트(population, population2)의 모든 값을 31로 나누어 다시 저장하기\n",
        "6. 완성된 리스트로 두 지역의 시간대별 평균인구 그래프 그리기\n",
        "```\n"
      ]
    },
    {
      "cell_type": "markdown",
      "metadata": {
        "id": "AtPrU6amVkW8"
      },
      "source": [
        "### 2) 코드 작성하기"
      ]
    },
    {
      "cell_type": "code",
      "metadata": {
        "id": "xzQYBKpJVkW9"
      },
      "source": [
        "# 핫플레이스가 있는 행정동\n",
        "\n",
        "\n",
        "\n",
        "# 비교할 행정동\n",
        "\n",
        "\n"
      ],
      "execution_count": null,
      "outputs": []
    },
    {
      "cell_type": "code",
      "metadata": {
        "id": "Dgt2J3KnVkW-"
      },
      "source": [
        "\n"
      ],
      "execution_count": null,
      "outputs": []
    },
    {
      "cell_type": "code",
      "metadata": {
        "id": "fy2ZuOaLrsXv"
      },
      "source": [
        "\n"
      ],
      "execution_count": null,
      "outputs": []
    },
    {
      "cell_type": "markdown",
      "metadata": {
        "id": "fnyDIzCXVkW_"
      },
      "source": [
        "## 하위목표4의 결과분석\n",
        "\n",
        "```\n",
        "- 인구이동이 적은 새벽 인구가 해당 동에 거주하는 인구라 가정한다면, 역삼 2동이 압구정동보다 거주 인구가 많다.\n",
        "- 인구 이동은 역삼 2동보다 압구정동이 더 많다. \n",
        "- 대부분의 시간에는 역삼2동의 인구가 더 많지만 17~20시 사이에는 압구정동이 더 많다. \n",
        "- 17~20시에는 역삼2동으로, 그 외 시간대에는 압구정동으로 가는 것이 사람이 덜 붐빈다.\n",
        "```\n",
        "\n",
        "\n"
      ]
    },
    {
      "cell_type": "code",
      "metadata": {
        "id": "etnWKBDSVkW_"
      },
      "source": [
        ""
      ],
      "execution_count": null,
      "outputs": []
    }
  ]
}