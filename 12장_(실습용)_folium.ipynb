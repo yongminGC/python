{
  "nbformat": 4,
  "nbformat_minor": 0,
  "metadata": {
    "colab": {
      "name": "12장_(실습용)_folium.ipynb",
      "provenance": [],
      "collapsed_sections": [],
      "authorship_tag": "ABX9TyPdxKVXmMq/TtTelOPY07Wq",
      "include_colab_link": true
    },
    "kernelspec": {
      "name": "python3",
      "display_name": "Python 3"
    }
  },
  "cells": [
    {
      "cell_type": "markdown",
      "metadata": {
        "id": "view-in-github",
        "colab_type": "text"
      },
      "source": [
        "<a href=\"https://colab.research.google.com/github/teacher-jiejie/Lets-get-it-Python-Lecture/blob/main/12%EC%9E%A5_(%EC%8B%A4%EC%8A%B5%EC%9A%A9)_folium.ipynb\" target=\"_parent\"><img src=\"https://colab.research.google.com/assets/colab-badge.svg\" alt=\"Open In Colab\"/></a>"
      ]
    },
    {
      "cell_type": "markdown",
      "metadata": {
        "id": "rOAc6z73_T2C"
      },
      "source": [
        "# 1. folium 설치"
      ]
    },
    {
      "cell_type": "code",
      "metadata": {
        "id": "ViMeRpysDKYa"
      },
      "source": [
        ""
      ],
      "execution_count": null,
      "outputs": []
    },
    {
      "cell_type": "markdown",
      "metadata": {
        "id": "z19xDMv9E9Ri"
      },
      "source": [
        "### 좌표 구하기\n",
        "\n",
        "구글 검색 -> 지도 -> 마커 우클릭\n",
        "\n",
        "<img src='https://github.com/teacher-jiejie/allinone_AI/blob/images/104_%EC%97%AC%EC%9D%98%EB%8F%84%EA%B3%B5%EC%9B%90.png?raw=true' width=700>"
      ]
    },
    {
      "cell_type": "markdown",
      "metadata": {
        "id": "uZn2IpbWFSx0"
      },
      "source": [
        "# 2. 지도 생성하기 \n",
        "\n",
        "\n",
        "```\n",
        "import folium\n",
        "\n",
        "지도이름 = folium.Map([위도, 경도])\n",
        "지도이름\n",
        "```\n",
        "\n"
      ]
    },
    {
      "cell_type": "code",
      "metadata": {
        "id": "odu2MJwWDjfO"
      },
      "source": [
        ""
      ],
      "execution_count": null,
      "outputs": []
    },
    {
      "cell_type": "markdown",
      "metadata": {
        "id": "3xjBdCFDlbGC"
      },
      "source": [
        "#### 지도 비율 조절하기 \n",
        "\n",
        "\n",
        "```\n",
        "지도이름 = folium.Map([위도, 경도], zoom_start=숫자)\n",
        "지도이름\n",
        "```\n",
        "\n"
      ]
    },
    {
      "cell_type": "code",
      "metadata": {
        "id": "h5WrQSBRFrxW"
      },
      "source": [
        ""
      ],
      "execution_count": null,
      "outputs": []
    },
    {
      "cell_type": "code",
      "metadata": {
        "id": "i070Te3HlnSR"
      },
      "source": [
        "# 위도와 경도를 변수에 저장하여 사용하기\n",
        "\n"
      ],
      "execution_count": null,
      "outputs": []
    },
    {
      "cell_type": "markdown",
      "metadata": {
        "id": "mkntC_nDl6af"
      },
      "source": [
        "# 3. 지도에 마커 표시하기\n",
        "\n",
        "\n",
        "```\n",
        "folium.Marker([마커 표시 위도, 마커 표시 경도]).add_to(지도이름)\n",
        "```\n"
      ]
    },
    {
      "cell_type": "code",
      "metadata": {
        "id": "hH0pEiKjlzj9"
      },
      "source": [
        "\n"
      ],
      "execution_count": null,
      "outputs": []
    },
    {
      "cell_type": "markdown",
      "metadata": {
        "id": "X4G-dL8kmSwN"
      },
      "source": [
        "#### 여러 위치에 마커 표시하기\n",
        "\n",
        "<img src='https://github.com/teacher-jiejie/allinone_AI/blob/images/105_%EC%97%AC%EC%9D%98%EB%8F%84%EA%B3%B5%EC%9B%90.png?raw=true' width=700>\n"
      ]
    },
    {
      "cell_type": "code",
      "metadata": {
        "id": "ygQ3Po20mNCK"
      },
      "source": [
        "\n"
      ],
      "execution_count": null,
      "outputs": []
    },
    {
      "cell_type": "markdown",
      "metadata": {
        "id": "D91Vgju1m1DP"
      },
      "source": [
        "#### 마커에 텍스트 표시하기 - 툴팁으로 표현\n",
        "\n",
        "```\n",
        "folium.Marker([마커 표시 위도, 마커 표시 경도], tooltip='텍스트').add_to(지도이름)\n",
        "```\n"
      ]
    },
    {
      "cell_type": "code",
      "metadata": {
        "id": "-emS0MmWmy8y"
      },
      "source": [
        "\n"
      ],
      "execution_count": null,
      "outputs": []
    },
    {
      "cell_type": "markdown",
      "metadata": {
        "id": "Jxq_DoUznVtL"
      },
      "source": [
        "#### 마커에 텍스트 표시하기 - 팝업으로 표현\n",
        "```\n",
        "folium.Marker([마커 표시 위도, 마커 표시 경도], popup='텍스트').add_to(지도이름)\n",
        "```"
      ]
    },
    {
      "cell_type": "code",
      "metadata": {
        "id": "46T-2hERnF4B"
      },
      "source": [
        "\n"
      ],
      "execution_count": null,
      "outputs": []
    },
    {
      "cell_type": "markdown",
      "metadata": {
        "id": "5TInFx66oFYA"
      },
      "source": [
        "툴팁에서 한글이 깨져 보인다면\n",
        "\n",
        "1. 다음 코드를 실행해 패키지를 설치합니다. \n",
        "\n",
        "```\n",
        "!pip install git+https://github.com/python-visualization/branca.git@master\n",
        "```\n",
        "2. 메뉴에서 [런타임 → 런타임 다시 시작]을 클릭합니다.\n",
        "3. 한글이 포함된 코드를 재실행합니다.\n"
      ]
    },
    {
      "cell_type": "code",
      "metadata": {
        "id": "uVNJrubIrJCK"
      },
      "source": [
        "# 샛강생태공원 추가\n",
        "\n"
      ],
      "execution_count": null,
      "outputs": []
    },
    {
      "cell_type": "markdown",
      "metadata": {
        "id": "7tFnhIxBoUa8"
      },
      "source": [
        "#### 마커의 색상 변경\n",
        "```\n",
        "folium.Marker([마커 표시 위도, 마커 표시 경도], icon = folium.Icon(color='색상명')).add_to(지도이름)\n",
        "```\n",
        "\n",
        "<br/>\n",
        "설정 가능한 색상\n",
        "\n",
        "> 'red', 'blue', 'green', 'purple', 'orange', 'darkred', 'lightred', 'beige', 'darkblue', 'darkgreen', 'cadetblue', 'darkpurple', 'white', 'pink', 'lightblue', 'lightgreen', 'gray', 'black', 'lightgray'"
      ]
    },
    {
      "cell_type": "code",
      "metadata": {
        "id": "MCGp4v9Rnb8y"
      },
      "source": [
        "\n"
      ],
      "execution_count": null,
      "outputs": []
    },
    {
      "cell_type": "markdown",
      "metadata": {
        "id": "AQHSk8KzoUf7"
      },
      "source": [
        "#### 마커의 아이콘 표현\n",
        "```\n",
        "folium.Marker([마커 표시 위도, 마커 표시 경도], icon = folium.Icon(color='색상명', icon='아이콘모양')).add_to(지도이름)\n",
        "```"
      ]
    },
    {
      "cell_type": "code",
      "metadata": {
        "id": "dMIyVAxGoW68"
      },
      "source": [
        "\n"
      ],
      "execution_count": null,
      "outputs": []
    },
    {
      "cell_type": "markdown",
      "metadata": {
        "id": "Kt3-xQ-FoUkZ"
      },
      "source": [
        "#### 다양한 마커 아이콘 \n",
        "\n",
        "[https://fontawesome.com/v4.7.0/icons](https://fontawesome.com/v4.7.0/icons)\n",
        "\n",
        "fontawesome의 아이콘을 사용할 때에는 prefix='fa' 옵션을 추가"
      ]
    },
    {
      "cell_type": "code",
      "metadata": {
        "id": "mrtXKlAmoXYW"
      },
      "source": [
        "\n"
      ],
      "execution_count": null,
      "outputs": []
    },
    {
      "cell_type": "markdown",
      "metadata": {
        "id": "OFovjG10oUqE"
      },
      "source": [
        "#### 반복문으로 마커 여러 개 표현하기\n",
        "\n",
        "\n",
        "\n",
        "```\n",
        "# 반복되는 패턴 \n",
        "folium.Marker(\n",
        "    [위도, 경도], tooltip='텍스트', \n",
        "    icon=folium.Icon(color='색상', icon='아이콘모양', prefix='fa')\n",
        ").add_to(지도이름)\n",
        "```\n",
        "\n",
        "\n",
        "\n",
        "<img src='https://github.com/teacher-jiejie/allinone_AI/blob/images/107_folium%20%EB%A6%AC%EC%8A%A4%ED%8A%B8.png?raw=true' width=600>\n",
        "<br/>\n",
        "<img src='https://github.com/teacher-jiejie/allinone_AI/blob/images/111_folium_%EB%B0%98%EB%B3%B5%EB%AC%B8.png?raw=true' width=800>"
      ]
    },
    {
      "cell_type": "code",
      "metadata": {
        "id": "oh3Fltq7oXvk"
      },
      "source": [
        "\n"
      ],
      "execution_count": null,
      "outputs": []
    }
  ]
}