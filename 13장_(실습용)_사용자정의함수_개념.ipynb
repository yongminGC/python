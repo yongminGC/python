{
  "nbformat": 4,
  "nbformat_minor": 0,
  "metadata": {
    "colab": {
      "name": "13장_(실습용)_사용자정의함수 - 개념.ipynb",
      "provenance": [],
      "collapsed_sections": [],
      "authorship_tag": "ABX9TyO1K+BgPg4fDHxb0W1Wv4QM",
      "include_colab_link": true
    },
    "kernelspec": {
      "name": "python3",
      "display_name": "Python 3"
    },
    "language_info": {
      "name": "python"
    }
  },
  "cells": [
    {
      "cell_type": "markdown",
      "metadata": {
        "id": "view-in-github",
        "colab_type": "text"
      },
      "source": [
        "<a href=\"https://colab.research.google.com/github/teacher-jiejie/Lets-get-it-Python-Lecture/blob/main/13%EC%9E%A5_(%EC%8B%A4%EC%8A%B5%EC%9A%A9)_%EC%82%AC%EC%9A%A9%EC%9E%90%EC%A0%95%EC%9D%98%ED%95%A8%EC%88%98_%EA%B0%9C%EB%85%90.ipynb\" target=\"_parent\"><img src=\"https://colab.research.google.com/assets/colab-badge.svg\" alt=\"Open In Colab\"/></a>"
      ]
    },
    {
      "cell_type": "markdown",
      "metadata": {
        "id": "OwOJ1q6YJd_j"
      },
      "source": [
        "# 사용자 정의 함수란? \n",
        "\n",
        "- 내장 함수 : 파이썬을 설치하기만 하면 바로 사용할 수 있는 함수 \n",
        "<br/> ex. print(), input() 등\n",
        "\n",
        "- 사용자 정의 함수 : 파이썬을 설치와 동시에 사용할 수 있는 명령어는 아니지만, 프로그램을 작성하는 사용자가 직접 만드는(정의하는) 명령어\n",
        "\n",
        "ex. 게임 단축키에서 직진하기는 ctrl+G, 공격하기는 crtl+alt+enter\n",
        "<br/> \"직진 후 공격\"을 동시에 수행하는 단축키를 만들기 ctrl+A\n"
      ]
    },
    {
      "cell_type": "markdown",
      "metadata": {
        "id": "E8Oec8ZmMW6y"
      },
      "source": [
        "# 1. 사용자 정의 함수 사용법\n",
        "\n",
        "#### Step 1. 사용자 정의 함수 만들기 (=정의하기)\n",
        "\n",
        "```\n",
        "def 함수이름() : \n",
        "    함수 내용 \n",
        "```\n",
        "\n",
        "#### Step 2. 만든 사용자 정의 함수 사용하기 (=호출하기)\n",
        "\n",
        "\n",
        "```\n",
        "함수이름()\n",
        "```\n",
        "\n",
        "\n"
      ]
    },
    {
      "cell_type": "code",
      "metadata": {
        "id": "dz-4oYO4LvXh"
      },
      "source": [
        "# 사용자 정의 함수 정의\n"
      ],
      "execution_count": null,
      "outputs": []
    },
    {
      "cell_type": "code",
      "metadata": {
        "id": "opLKSMVZNT13"
      },
      "source": [
        "# 사용자 정의 함수 호출\n"
      ],
      "execution_count": null,
      "outputs": []
    },
    {
      "cell_type": "code",
      "metadata": {
        "id": "ZVmoSoCTOdj9"
      },
      "source": [
        ""
      ],
      "execution_count": null,
      "outputs": []
    },
    {
      "cell_type": "markdown",
      "metadata": {
        "id": "qrDhw-WPPARH"
      },
      "source": [
        "**step1. 함수 정의 --> step2. 함수 호출**\n",
        "\n",
        "<img src='https://github.com/teacher-jiejie/allinone_AI/blob/images/112_%EC%82%AC%EC%9A%A9%EC%9E%90%EC%A0%95%EC%9D%98%ED%95%A8%EC%88%98.png?raw=true' width=600>"
      ]
    },
    {
      "cell_type": "markdown",
      "metadata": {
        "id": "x17OEG1VPUeM"
      },
      "source": [
        "# 2. 사용자 정의 함수의 입출력\n",
        "\n",
        "## 2-1. 사용자 정의 함수에 데이터 전달하기\n",
        "> Q. print('hello!')처럼 함수 괄호 안에 데이터를 전달할 수는 없을까?\n",
        "\n",
        "```\n",
        "def 함수이름(매개변수) : \n",
        "    함수 내용 \n",
        "```\n",
        "매개변수란, 함수 외부의 데이터를 전달받는 변수 \n",
        "<br/>(= 함수 외부와 내부를 매개하는 변수)"
      ]
    },
    {
      "cell_type": "code",
      "metadata": {
        "id": "KxvMpWEpOgSs"
      },
      "source": [
        "# 이름을 전달하면, 정해진 포맷에 맞춰 자기소개하는 함수\n"
      ],
      "execution_count": null,
      "outputs": []
    },
    {
      "cell_type": "code",
      "metadata": {
        "id": "FA6rO0xsQslB"
      },
      "source": [
        ""
      ],
      "execution_count": null,
      "outputs": []
    },
    {
      "cell_type": "markdown",
      "metadata": {
        "id": "lIqomssyRBrw"
      },
      "source": [
        "<img src= 'https://github.com/teacher-jiejie/allinone_AI/blob/images/113_%EC%82%AC%EC%9A%A9%EC%9E%90%EC%A0%95%EC%9D%98%ED%95%A8%EC%88%98_%EC%9D%B8%EC%9E%90.png?raw=true' width=800>"
      ]
    },
    {
      "cell_type": "code",
      "metadata": {
        "id": "i9eBQk6QQyAm"
      },
      "source": [
        "()"
      ],
      "execution_count": null,
      "outputs": []
    },
    {
      "cell_type": "markdown",
      "metadata": {
        "id": "uW4e6P4KRtzG"
      },
      "source": [
        "#### 매개변수 여러 개 만들기"
      ]
    },
    {
      "cell_type": "code",
      "metadata": {
        "id": "4vtik-u5RBEP"
      },
      "source": [
        ""
      ],
      "execution_count": null,
      "outputs": []
    },
    {
      "cell_type": "code",
      "metadata": {
        "id": "bitL3CaRRrVn"
      },
      "source": [
        ""
      ],
      "execution_count": null,
      "outputs": []
    },
    {
      "cell_type": "code",
      "metadata": {
        "id": "3BTrK5NtR_CU"
      },
      "source": [
        "# 함수 호출 시 매개변수 생략하기\n"
      ],
      "execution_count": null,
      "outputs": []
    },
    {
      "cell_type": "code",
      "metadata": {
        "id": "yNhQDx6gSJ3C"
      },
      "source": [
        "# 매개변수를 생략할 때에는 순서에 유의하기\n"
      ],
      "execution_count": null,
      "outputs": []
    },
    {
      "cell_type": "markdown",
      "metadata": {
        "id": "D3ejBUeHZpLO"
      },
      "source": [
        "<img src='https://github.com/teacher-jiejie/allinone_AI/blob/images/114_%EC%82%AC%EC%9A%A9%EC%9E%90%EC%A0%95%EC%9D%98%ED%95%A8%EC%88%98_%EC%9C%84%EC%B9%98%EC%9D%B8%EC%9E%90.png?raw=true' width=700>"
      ]
    },
    {
      "cell_type": "code",
      "metadata": {
        "id": "lEJJTvD3SSNG"
      },
      "source": [
        ""
      ],
      "execution_count": null,
      "outputs": []
    },
    {
      "cell_type": "markdown",
      "metadata": {
        "id": "T0Pwl_3fZ8sM"
      },
      "source": [
        "## 2-2. 사용자 정의 함수 내부의 데이터를 함수 밖으로 전달하기\n"
      ]
    },
    {
      "cell_type": "code",
      "metadata": {
        "id": "n55D9HrzZz2Y"
      },
      "source": [
        "# 두 수를 더하는 사용자 정의 함수 plus\n"
      ],
      "execution_count": null,
      "outputs": []
    },
    {
      "cell_type": "markdown",
      "metadata": {
        "id": "bcJQyk87cxOv"
      },
      "source": [
        "함수의 내부와 외부 구분하기\n",
        "<br/>\n",
        "<img src='https://github.com/teacher-jiejie/allinone_AI/blob/images/115_%EC%82%AC%EC%9A%A9%EC%9E%90%EC%A0%95%EC%9D%98%ED%95%A8%EC%88%98_return.png?raw=true' width=600>\n",
        "\n",
        "<br/>\n",
        "함수 내부의 값 result를 함수 외부에서도 확인할 수 없을까?\n",
        "\n",
        "\n",
        "```\n",
        "def 함수이름(매개변수) : \n",
        "    함수 내용\n",
        "    return 전달할 데이터\n",
        "```\n"
      ]
    },
    {
      "cell_type": "code",
      "metadata": {
        "id": "CD0CrYs_aMJe"
      },
      "source": [
        ""
      ],
      "execution_count": null,
      "outputs": []
    },
    {
      "cell_type": "markdown",
      "metadata": {
        "id": "XqoyWi_5dl26"
      },
      "source": [
        "<img src='https://github.com/teacher-jiejie/allinone_AI/blob/images/116_%EC%82%AC%EC%9A%A9%EC%9E%90%EC%A0%95%EC%9D%98%ED%95%A8%EC%88%98.png?raw=true' width=600>"
      ]
    },
    {
      "cell_type": "code",
      "metadata": {
        "id": "7uCAHkFldD_f"
      },
      "source": [
        "# return 과 동시에 함수 실행이 종료됨\n"
      ],
      "execution_count": null,
      "outputs": []
    },
    {
      "cell_type": "markdown",
      "metadata": {
        "id": "NAFNcSpGeBOy"
      },
      "source": [
        "# 3. 사용자 정의 함수의 활용 \n",
        "\n",
        "\n",
        "\n",
        "```\n",
        "국어, 영어, 수학 점수를 입력받아 환산점수를 계산하는 함수 작성하기\n",
        "\n",
        "- 국어 30%, 영어 30%, 수학 40%\n",
        "- 환산점수를 반환하기\n",
        "```\n",
        "\n"
      ]
    },
    {
      "cell_type": "code",
      "metadata": {
        "id": "0_2PsfLDd39R"
      },
      "source": [
        "\n",
        "\n",
        "# 국어 99, 영어 80, 수학 72일때 환산점수는?\n"
      ],
      "execution_count": null,
      "outputs": []
    },
    {
      "cell_type": "markdown",
      "metadata": {
        "id": "RoQ9BZKFe4OL"
      },
      "source": [
        "\n",
        "\n",
        "```\n",
        "만약 환산 점수가 80점 초과라면 합격, 80점 이하라면 탈락이라고 출력하기\n",
        "```\n",
        "\n"
      ]
    },
    {
      "cell_type": "code",
      "metadata": {
        "id": "4lR8WkpAe2yb"
      },
      "source": [
        "# 함수의 반환값을 변수에 저장하기\n"
      ],
      "execution_count": null,
      "outputs": []
    },
    {
      "cell_type": "markdown",
      "metadata": {
        "id": "XrNCna68fY-C"
      },
      "source": [
        "#### 여러 개의 값을 반환하기\n",
        "```\n",
        "국어, 영어, 수학 점수를 입력받아 환산점수를 계산하는 함수 작성하기\n",
        "\n",
        "- 국어 30%, 영어 30%, 수학 40%\n",
        "- 80점이 넘으면 합격(yes), 80점 이하라면 불합격(no)\n",
        "- 환산점수와 합격 유무를 반환하기\n",
        "```\n"
      ]
    },
    {
      "cell_type": "code",
      "metadata": {
        "id": "0YPIzY03fPyS"
      },
      "source": [
        ""
      ],
      "execution_count": null,
      "outputs": []
    },
    {
      "cell_type": "code",
      "metadata": {
        "id": "h8OefDawgDFD"
      },
      "source": [
        ""
      ],
      "execution_count": null,
      "outputs": []
    },
    {
      "cell_type": "code",
      "metadata": {
        "id": "jOy_7_chgH5t"
      },
      "source": [
        "# 여러 반환값을 변수에 저장하기\n"
      ],
      "execution_count": null,
      "outputs": []
    },
    {
      "cell_type": "markdown",
      "metadata": {
        "id": "emMDXgQdks9j"
      },
      "source": [
        "# 4. 지역변수와 전역변수\n",
        "\n",
        "### 4-1. 지역변수\n",
        "* 특정 지역(함수 내부)에서만 사용됨\n",
        "* 함수 내부에서 만들어진 변수\n",
        "\n"
      ]
    },
    {
      "cell_type": "code",
      "metadata": {
        "id": "vKYBPVJSgXMT"
      },
      "source": [
        ""
      ],
      "execution_count": null,
      "outputs": []
    },
    {
      "cell_type": "markdown",
      "metadata": {
        "id": "_uvN0PwQcgwa"
      },
      "source": [
        "<img src='https://github.com/teacher-jiejie/allinone_AI/blob/images/117_%EC%A7%80%EC%97%AD%EB%B3%80%EC%88%981.png?raw=true' width=600>\n",
        "\n",
        "<br/>\n",
        "<img src='https://github.com/teacher-jiejie/allinone_AI/blob/images/118_%EC%A7%80%EC%97%AD%EB%B3%80%EC%88%982.png?raw=true' width=600>"
      ]
    },
    {
      "cell_type": "code",
      "metadata": {
        "id": "UCRQVl7llAAo"
      },
      "source": [
        "# 지역변수에 저장된 값을 함수 외부에서 사용하려면 \n",
        "# return을 활용해 반환하기\n"
      ],
      "execution_count": null,
      "outputs": []
    },
    {
      "cell_type": "markdown",
      "metadata": {
        "id": "LejuyPHmkyZU"
      },
      "source": [
        "### 4-2. 프로그램 전체에서 사용되는 전역변수\n",
        "* 함수 외부에서 만들어진 변수\n",
        "* 프로그램 전역에서 (함수 외부, 내부 가리지 않고) 사용됨"
      ]
    },
    {
      "cell_type": "code",
      "metadata": {
        "id": "RcZnswielAMk"
      },
      "source": [
        ""
      ],
      "execution_count": null,
      "outputs": []
    },
    {
      "cell_type": "markdown",
      "metadata": {
        "id": "ylFWPYePhPvd"
      },
      "source": [
        "-> 함수 내부에서 전역변수의 값을 읽을 수 있다."
      ]
    },
    {
      "cell_type": "code",
      "metadata": {
        "id": "eeTwEfeEk0o0"
      },
      "source": [
        ""
      ],
      "execution_count": null,
      "outputs": []
    },
    {
      "cell_type": "markdown",
      "metadata": {
        "id": "utnh-wxghjPP"
      },
      "source": [
        "**-> 함수 내부에서 전역변수의 값을 읽을 수는 있지만 변경할 수는 없다.** \n",
        "\n",
        "변경하고 싶으면 키워드 global을 붙여야 함"
      ]
    },
    {
      "cell_type": "code",
      "metadata": {
        "id": "RUfXq-Vphfws"
      },
      "source": [
        ""
      ],
      "execution_count": null,
      "outputs": []
    },
    {
      "cell_type": "code",
      "metadata": {
        "id": "olLUP7LPiK5I"
      },
      "source": [
        ""
      ],
      "execution_count": null,
      "outputs": []
    },
    {
      "cell_type": "code",
      "metadata": {
        "id": "3yygBSvXiODX"
      },
      "source": [
        ""
      ],
      "execution_count": null,
      "outputs": []
    },
    {
      "cell_type": "markdown",
      "metadata": {
        "id": "4NBzsJWUiZWH"
      },
      "source": [
        "#### 상벌점 사용자 정의 함수 reward_penalty()\n",
        "\n",
        "\n",
        "```\n",
        "# 매개변수 \n",
        "  상점, 벌점 종류 = kind\n",
        "  점수 = points\n",
        "```\n",
        "\n"
      ]
    },
    {
      "cell_type": "code",
      "metadata": {
        "id": "kgWk-4uPiO4N"
      },
      "source": [
        ""
      ],
      "execution_count": null,
      "outputs": []
    },
    {
      "cell_type": "code",
      "metadata": {
        "id": "50hYQQpC66xn"
      },
      "source": [
        ""
      ],
      "execution_count": null,
      "outputs": []
    }
  ]
}