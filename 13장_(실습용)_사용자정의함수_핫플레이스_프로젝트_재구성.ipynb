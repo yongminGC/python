{
  "nbformat": 4,
  "nbformat_minor": 0,
  "metadata": {
    "colab": {
      "name": "13장_(실습용)_사용자정의함수 - 핫플레이스 프로젝트 재구성.ipynb",
      "provenance": [],
      "collapsed_sections": [],
      "authorship_tag": "ABX9TyNnsEzMIr4gSS+eSCsav+Uv",
      "include_colab_link": true
    },
    "kernelspec": {
      "name": "python3",
      "display_name": "Python 3"
    },
    "language_info": {
      "name": "python"
    }
  },
  "cells": [
    {
      "cell_type": "markdown",
      "metadata": {
        "id": "view-in-github",
        "colab_type": "text"
      },
      "source": [
        "<a href=\"https://colab.research.google.com/github/teacher-jiejie/Lets-get-it-Python-Lecture/blob/main/13%EC%9E%A5_(%EC%8B%A4%EC%8A%B5%EC%9A%A9)_%EC%82%AC%EC%9A%A9%EC%9E%90%EC%A0%95%EC%9D%98%ED%95%A8%EC%88%98_%ED%95%AB%ED%94%8C%EB%A0%88%EC%9D%B4%EC%8A%A4_%ED%94%84%EB%A1%9C%EC%A0%9D%ED%8A%B8_%EC%9E%AC%EA%B5%AC%EC%84%B1.ipynb\" target=\"_parent\"><img src=\"https://colab.research.google.com/assets/colab-badge.svg\" alt=\"Open In Colab\"/></a>"
      ]
    },
    {
      "cell_type": "markdown",
      "metadata": {
        "id": "vHuTNPuiPfFs"
      },
      "source": [
        "들어가기 전에)\n",
        "<br/> 핫플레이스 프로젝트 재구성은 구글 코랩이 아닌 주피터 노트북에서 진행하는 것을 권장합니다. \n",
        "<br/>(파일 업로드에 시간이 매우 많이 걸립니다.)\n"
      ]
    },
    {
      "cell_type": "markdown",
      "metadata": {
        "id": "0966vK6xE3lK"
      },
      "source": [
        "# 핫플레이스 프로젝트를 기능 단위로 쪼개기\n",
        "\n",
        "<img src ='https://github.com/teacher-jiejie/allinone_AI/blob/images/119_%ED%95%AB%ED%94%8C%ED%94%84%EB%A1%9C%EC%A0%9D%ED%8A%B8_%ED%95%A8%EC%88%981.png?raw=true' width=300>\n"
      ]
    },
    {
      "cell_type": "markdown",
      "metadata": {
        "id": "BxnMDJbgFOUX"
      },
      "source": [
        "\n",
        "<img src='https://github.com/teacher-jiejie/allinone_AI/blob/images/120_%ED%95%AB%ED%94%8C%ED%94%84%EB%A1%9C%EC%A0%9D%ED%8A%B8_%ED%95%A8%EC%88%982.png?raw=true' width=600>\n"
      ]
    },
    {
      "cell_type": "markdown",
      "metadata": {
        "id": "eg1VAF3BFPq9"
      },
      "source": [
        "# 공통적인 기능은 하나의 함수로 묶기\n",
        "\n",
        "<img src='https://github.com/teacher-jiejie/allinone_AI/blob/images/121_%ED%95%AB%ED%94%8C%ED%94%84%EB%A1%9C%EC%A0%9D%ED%8A%B8_%ED%95%A8%EC%88%983.png?raw=true' width=900>"
      ]
    },
    {
      "cell_type": "markdown",
      "metadata": {
        "id": "at8oA76tFdhJ"
      },
      "source": [
        "# 독립적인 기능을 함수로 구성하기\n",
        "<img src='https://github.com/teacher-jiejie/allinone_AI/blob/images/122_%ED%95%AB%ED%94%8C%ED%94%84%EB%A1%9C%EC%A0%9D%ED%8A%B8_%ED%95%A8%EC%88%984.png?raw=true' width=900>"
      ]
    },
    {
      "cell_type": "markdown",
      "metadata": {
        "id": "ZnfC1_p8hZEF"
      },
      "source": [
        "\n",
        "# 1. 파일 읽기\n",
        "\n",
        "<변경 전>\n",
        "```\n",
        "import csv\n",
        "\n",
        "f = open('LOCAL_PEOPLE_DONG_201912.csv', encoding='utf8') # 또는 'eur-kr', 'CP949'\n",
        "data = csv.reader(f)\n",
        "next(data)\n",
        "data = list(data)\n",
        "\n",
        "f2 = open('dong_code.csv', encoding = 'utf8') # 또는 'eur-kr', 'CP949'\n",
        "code_data = csv.reader(f2)\n",
        "next(code_data)\n",
        "next(code_data)\n",
        "code_data = list(code_data)\n",
        "\n",
        "for row in data: \n",
        "    for i in range(1, 32): \n",
        "        if i <= 2:\n",
        "            row[i] = int(row[i])\n",
        "        else:\n",
        "            row[i] = float(row[i])\n",
        "\n",
        "for row in code_data: \n",
        "    row[1] = int(row[1])\n",
        "```\n"
      ]
    },
    {
      "cell_type": "markdown",
      "metadata": {
        "id": "Iqmv4qXTGTay"
      },
      "source": [
        "file_open() 설계 \n",
        "\n",
        "  * 매개변수 : 없음\n",
        "  * 반환값 : 인구데이터, 행정동 코드데이터"
      ]
    },
    {
      "cell_type": "code",
      "metadata": {
        "id": "uXV2_G3PSYiU"
      },
      "source": [
        ""
      ],
      "execution_count": null,
      "outputs": []
    },
    {
      "cell_type": "code",
      "metadata": {
        "id": "YftC12fEhg3p"
      },
      "source": [
        ""
      ],
      "execution_count": null,
      "outputs": []
    },
    {
      "cell_type": "markdown",
      "metadata": {
        "id": "e8W00EvmiOaC"
      },
      "source": [
        "# 2. 행정동명과 행정동코드 연결\n",
        "<변경 전> \n",
        "```\n",
        "dong_name = input('핫플레이스가 위치한 행정동을 입력하세요 --> ')\n",
        "for row in code_data: \n",
        "    if row[-1] == dong_name: \n",
        "        dong_code = row[1]\n",
        "print(dong_name, '-',dong_code, '을(를) 분석합니다!')\n",
        "```\n",
        "\n"
      ]
    },
    {
      "cell_type": "markdown",
      "metadata": {
        "id": "VeCdm1YCGk6K"
      },
      "source": [
        "dong_search() 설계 \n",
        "\n",
        "  * 매개변수 :  행정동이름(dong_name)\n",
        "  * 반환값   :  행정동코드(code)"
      ]
    },
    {
      "cell_type": "code",
      "metadata": {
        "id": "bARqqnY5iTtz"
      },
      "source": [
        ""
      ],
      "execution_count": null,
      "outputs": []
    },
    {
      "cell_type": "markdown",
      "metadata": {
        "id": "lQ_1oRoONSAv"
      },
      "source": [
        "# 3. 그래프 그리기\n",
        "\n",
        "<변경 전> \n",
        "```\n",
        "import matplotlib.pyplot as plt\n",
        "\n",
        "# 하위 목표 1의 그래프 그리기\n",
        "plt.rc('font', family='Malgun Gothic')\n",
        "plt.title(dong_name+' 시간대별 평균인구') \n",
        "plt.plot(range(24), population, color='indigo') \n",
        "plt.xticks(range(24), range(24)) \n",
        "plt.xlabel('시간대') \n",
        "plt.ylabel('평균인구수')\n",
        "plt.show()\n",
        "\n",
        "# 하위 목표 2의 그래프 그리기\n",
        "plt.rc('font', family='Malgun Gothic')\n",
        "plt.title(dong_name+ ' 주중/주말 시간대별 평균인구')\n",
        "plt.plot(weekday, color='indigo', label='주중')\n",
        "plt.plot(weekend, color='orangered', label='주말')\n",
        "plt.legend()\n",
        "plt.xlabel('시간대')\n",
        "plt.ylabel('평균인구수')\n",
        "plt.xticks(range(24), range(24))\n",
        "plt.show()\n",
        "\n",
        "# 하위 목표 4의 그래프 그리기\n",
        "plt.rc('font', family='Malgun Gothic')\n",
        "plt.title(dong_name+ '과 ' +dong_name2+ ' 시간대별 평균인구 비교')\n",
        "plt.plot(population, color='m', label=dong_name)\n",
        "plt.plot(population2, color='orange', label=dong_name2)\n",
        "plt.legend()\n",
        "plt.xlabel('시간대')\n",
        "plt.ylabel('평균인구수')\n",
        "plt.xticks(range(24), range(24))\n",
        "plt.show()\n",
        "```"
      ]
    },
    {
      "cell_type": "markdown",
      "metadata": {
        "id": "GUpyg2XgNSAz"
      },
      "source": [
        "\n",
        "< 공통되는 부분 >\n",
        "\n",
        "```\n",
        "plt.rc('font', family='Malgun Gothic')\n",
        "plt.title( *그래프 제목* )\n",
        "plt.plot( *인구리스트*, label=*라벨*)\n",
        "plt.plot( *인구리스트*, label=*라벨*)\n",
        "plt.legend()\n",
        "plt.xlabel('시간대')\n",
        "plt.ylabel('평균인구수')\n",
        "plt.xticks(range(24), range(24))\n",
        "plt.show()\n",
        "```\n",
        "\n",
        "\n",
        "\n",
        "\n",
        "\n",
        "\n",
        "<img src='https://github.com/teacher-jiejie/allinone_AI/blob/images/126_%ED%95%AB%ED%94%8C_%ED%95%A8%EC%88%98_graphplot.png?raw=true' width=700>\n",
        "<br/>\n",
        "<br/>\n",
        "<img src='https://github.com/teacher-jiejie/allinone_AI/blob/images/127_%ED%95%AB%ED%94%8C_%ED%95%A8%EC%88%98_graphplot2.png?raw=true' width=900>"
      ]
    },
    {
      "cell_type": "markdown",
      "metadata": {
        "id": "jv1jf9grNSA0"
      },
      "source": [
        "graph_plot() 설계 \n",
        "\n",
        "  * 매개변수  :  인구리스트(popu_list), 라벨리스트(label_list), 그래프제목(graph_title)\n",
        "  * 반환값  : 없음"
      ]
    },
    {
      "cell_type": "code",
      "metadata": {
        "id": "lZvDVmKJNSA0"
      },
      "source": [
        ""
      ],
      "execution_count": null,
      "outputs": []
    },
    {
      "cell_type": "markdown",
      "metadata": {
        "id": "Azau4CV7GyO4"
      },
      "source": [
        "# 4. 하위목표1 - 시간대별 인구 분석\n",
        "\n",
        "<변경 전>\n",
        "\n",
        "\n",
        "```\n",
        "population = [0 for i in range(24)]\n",
        "for row in data: \n",
        "    if row[2] == dong_code: \n",
        "        time, p = row[1], row[3]\n",
        "        population[time] += p\n",
        "population = [p/31 for p in population]\n",
        "\n",
        "plt.rc('font', family='Malgun Gothic')\n",
        "plt.title(dong_name+' 시간대별 평균인구) \n",
        "plt.plot(range(24), population, color='indigo') \n",
        "plt.xticks(range(24), range(24)) \n",
        "plt.xlabel('시간대') \n",
        "plt.ylabel('평균인구수') \n",
        "plt.show()\n",
        "```\n",
        "\n"
      ]
    },
    {
      "cell_type": "markdown",
      "metadata": {
        "id": "dISnloa_Luym"
      },
      "source": [
        "analysis1() 설계 \n",
        "\n",
        "  * 매개변수  :  행정동이름(dong_name), 행정동코드(dong_code)\n",
        "  * 반환값  : 없음"
      ]
    },
    {
      "cell_type": "code",
      "metadata": {
        "id": "h7b-pkN7LeP2"
      },
      "source": [
        ""
      ],
      "execution_count": null,
      "outputs": []
    },
    {
      "cell_type": "markdown",
      "metadata": {
        "id": "LgcAmsQTM1IN"
      },
      "source": [
        "# 5. 하위목표 1 - 주중/주말 시간대별 인구 분석하기 \n",
        "\n",
        "<변경 전>\n",
        "\n",
        "\n",
        "```\n",
        "import datetime\n",
        "\n",
        "weekday = [0 for i in range(24)]\n",
        "weekend = [0 for i in range(24)]\n",
        "\n",
        "for row in data: \n",
        "    if row[2] == dong_code: \n",
        "        time, p = row[1], row[3]\n",
        "        year, mon, day = int(row[0][:4]), int(row[0][4:6]), int(row[0][6:])\n",
        "        num = datetime.date(year, mon, day).weekday()\n",
        "        if num < 5: \n",
        "            weekday[time] += p\n",
        "        else: \n",
        "            weekend[time] += p\n",
        "\n",
        "# 2019년 12월의 주중/주말 일수 구하기\n",
        "weekday_cnt, weekend_cnt = 0, 0\n",
        "\n",
        "for i in range(1, 32): \n",
        "    if datetime.date(2019,12,i).weekday() < 5:\n",
        "        weekday_cnt += 1\n",
        "    else: \n",
        "        weekend_cnt += 1\n",
        "\n",
        "print('2019년 12월의 주중 일수 =', weekday_cnt, '주말 일수 =',weekend_cnt)\n",
        "\n",
        "weekday = [w/weekday_cnt for w in weekday]\n",
        "weekend = [w/weekend_cnt for w in weekend]\n",
        "\n",
        "plt.rc('font', family='Malgun Gothic')\n",
        "plt.title(dong_name+ ' 주중/주말 시간대별 인구')\n",
        "plt.plot(weekday, color='indigo', label='주중')\n",
        "plt.plot(weekend, color='orangered', label='주말')\n",
        "plt.legend()\n",
        "plt.xlabel('시간대')\n",
        "plt.ylabel('평균인구수')\n",
        "plt.xticks(range(24), range(24))\n",
        "plt.show()\n",
        "```\n",
        "\n"
      ]
    },
    {
      "cell_type": "markdown",
      "metadata": {
        "id": "n_4Z2mL6M1IO"
      },
      "source": [
        "analysis2() 설계 \n",
        "\n",
        "  * 매개변수  :  행정동이름(dong_name), 행정동코드(dong_code)\n",
        "  * 반환값  : 없음"
      ]
    },
    {
      "cell_type": "code",
      "metadata": {
        "id": "vrXsNyN8M1IP"
      },
      "source": [
        ""
      ],
      "execution_count": null,
      "outputs": []
    },
    {
      "cell_type": "markdown",
      "metadata": {
        "id": "hMgCMgQmM1mt"
      },
      "source": [
        "# 6. 하위목표3 - 남녀 시간대별 인구 분석\n",
        "\n",
        "<변경 전>\n",
        "\n",
        "\n",
        "```\n",
        "male = [0 for i in range(24)]\n",
        "female = [0 for i in range(24)]\n",
        "\n",
        "for row in data: \n",
        "    if row[2] == dong_code: \n",
        "        time = int(row[1])\n",
        "        male[time] += sum(row[4:18])\n",
        "        female[time] += sum(row[18:32])\n",
        "male = [m/31 for m in male]\n",
        "female = [f/31 for f in female]\n",
        "\n",
        "plt.rc('font', family='Malgun Gothic')\n",
        "plt.title(dong_name+' 남녀 시간대별 평균인구')\n",
        "plt.plot(male, color='b', label='남성')\n",
        "plt.plot(female, color='r', label='여성')\n",
        "plt.xlabel('시간대')\n",
        "plt.ylabel('평균인구수')\n",
        "plt.legend()\n",
        "plt.xticks(range(24), range(24))\n",
        "plt.show()\n",
        "```\n",
        "\n"
      ]
    },
    {
      "cell_type": "markdown",
      "metadata": {
        "id": "P7voFpCYM1mu"
      },
      "source": [
        "analysis3() 설계 \n",
        "\n",
        "  * 매개변수  :  행정동이름(dong_name), 행정동코드(dong_code)\n",
        "  * 반환값  : 없음"
      ]
    },
    {
      "cell_type": "code",
      "metadata": {
        "id": "l-f-AsJLM1mv"
      },
      "source": [
        ""
      ],
      "execution_count": null,
      "outputs": []
    },
    {
      "cell_type": "markdown",
      "metadata": {
        "id": "NklwX44hM13t"
      },
      "source": [
        "# 7. 하위목표 4 - 다른 지역과 인구 비교 분석 \n",
        "\n",
        "<변경 전>\n",
        "\n",
        "\n",
        "```\n",
        "# 핫플레이스가 있는 행정동\n",
        "dong_name = input('핫플레이스가 위치한 행정동을 입력하세요 --> ')\n",
        "for row in code_data: \n",
        "    if row[-1] == dong_name: \n",
        "        dong_code = row[1]\n",
        "\n",
        "# 비교할 행정동\n",
        "dong_name2 = input('비교할 행정동을 입력하세요 --> ')\n",
        "for row in code_data: \n",
        "    if row[-1] == dong_name2: \n",
        "        dong_code2 = row[1]\n",
        "\n",
        "population = [0 for i in range(24)]\n",
        "population2 = [0 for i in range(24)]\n",
        "\n",
        "for row in data: \n",
        "    # 핫플레이스가 있는 행정동인 경우\n",
        "    if row[2] == dong_code: \n",
        "        time, p = row[1], row[3]\n",
        "        population[time] += p\n",
        "    # 비교할 지역의 행정동인 경우\n",
        "    elif row[2] == dong_code2: \n",
        "        time, p = row[1], row[3]\n",
        "        population2[time] += p\n",
        "\n",
        "population = [p/31 for p in population]\n",
        "population2 = [p/31 for p in population2]\n",
        "\n",
        "plt.rc('font', family='Malgun Gothic')\n",
        "plt.title(dong_name + '과 ' + dong_name2 + ' 시간대별 평균인구 비교')\n",
        "plt.plot(population, color='m', label=dong_name)\n",
        "plt.plot(population2, color='orange', label=dong_name2)\n",
        "plt.legend()\n",
        "plt.xlabel('시간대')\n",
        "plt.ylabel('평균인구수')\n",
        "plt.xticks(range(24), range(24))\n",
        "plt.show()\n",
        "```\n",
        "\n"
      ]
    },
    {
      "cell_type": "markdown",
      "metadata": {
        "id": "k4nxsP8QM13u"
      },
      "source": [
        "< 변경 전 analysis1() >\n",
        "```\n",
        "def analysis1(dong_name, dong_code): \n",
        "    # 3.1 입력된 행정동의 시간대별 평균인구 구하기\n",
        "    population = [0 for i in range(24)]\n",
        "    for row in data: \n",
        "        if row[2] == dong_code: \n",
        "            time, p = row[1], row[3]\n",
        "            population[time] += p\n",
        "    population = [p/31 for p in population]\n",
        "\n",
        "    # 3.2 3.1에서 구한 평균인구 리스트로 꺾은선 그래프 그리기\n",
        "    population = [population]\n",
        "    labels = ['평균인구']\n",
        "    title = dong_name + ' 시간대별 평균인구'\n",
        "    graph_plot(popu_list = population, label_list = labels, graph_title = title)\n",
        "```\n",
        "analysis1() 설계 변경\n",
        "\n",
        "  * 매개변수  :  행정동이름(dong_name), 행정동코드(dong_code), 그래프 유무(graph_yn)\n",
        "  * 반환값  : 없음\n"
      ]
    },
    {
      "cell_type": "code",
      "metadata": {
        "id": "0yASdGYIM13v"
      },
      "source": [
        ""
      ],
      "execution_count": null,
      "outputs": []
    },
    {
      "cell_type": "code",
      "metadata": {
        "id": "A5slg-gdOpG0"
      },
      "source": [
        ""
      ],
      "execution_count": null,
      "outputs": []
    },
    {
      "cell_type": "code",
      "metadata": {
        "id": "qRMuwZZLM13w"
      },
      "source": [
        ""
      ],
      "execution_count": null,
      "outputs": []
    },
    {
      "cell_type": "markdown",
      "metadata": {
        "id": "1Dzfg_W0PT44"
      },
      "source": [
        "# 8. 실제 프로그램처럼 다듬기"
      ]
    },
    {
      "cell_type": "code",
      "metadata": {
        "id": "gfZpdCeWPRlR"
      },
      "source": [
        ""
      ],
      "execution_count": null,
      "outputs": []
    }
  ]
}