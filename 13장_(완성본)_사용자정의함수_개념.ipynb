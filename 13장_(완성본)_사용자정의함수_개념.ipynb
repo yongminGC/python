{
  "nbformat": 4,
  "nbformat_minor": 0,
  "metadata": {
    "colab": {
      "name": "13장_(완성본)_사용자정의함수 - 개념.ipynb",
      "provenance": [],
      "collapsed_sections": [],
      "authorship_tag": "ABX9TyOgufJZVgmlQ4BZf35XBT6S",
      "include_colab_link": true
    },
    "kernelspec": {
      "name": "python3",
      "display_name": "Python 3"
    },
    "language_info": {
      "name": "python"
    }
  },
  "cells": [
    {
      "cell_type": "markdown",
      "metadata": {
        "id": "view-in-github",
        "colab_type": "text"
      },
      "source": [
        "<a href=\"https://colab.research.google.com/github/teacher-jiejie/Lets-get-it-Python-Lecture/blob/main/13%EC%9E%A5_(%EC%99%84%EC%84%B1%EB%B3%B8)_%EC%82%AC%EC%9A%A9%EC%9E%90%EC%A0%95%EC%9D%98%ED%95%A8%EC%88%98_%EA%B0%9C%EB%85%90.ipynb\" target=\"_parent\"><img src=\"https://colab.research.google.com/assets/colab-badge.svg\" alt=\"Open In Colab\"/></a>"
      ]
    },
    {
      "cell_type": "markdown",
      "metadata": {
        "id": "OwOJ1q6YJd_j"
      },
      "source": [
        "# 사용자 정의 함수란? \n",
        "\n",
        "- 내장 함수 : 파이썬을 설치하기만 하면 바로 사용할 수 있는 함수 \n",
        "<br/> ex. print(), input() 등\n",
        "\n",
        "- 사용자 정의 함수 : 파이썬을 설치와 동시에 사용할 수 있는 명령어는 아니지만, 프로그램을 작성하는 사용자가 직접 만드는(정의하는) 명령어\n",
        "\n",
        "ex. 게임 단축키에서 직진하기는 ctrl+G, 공격하기는 crtl+alt+enter\n",
        "<br/> \"직진 후 공격\"을 동시에 수행하는 단축키를 만들기 ctrl+A\n"
      ]
    },
    {
      "cell_type": "markdown",
      "metadata": {
        "id": "E8Oec8ZmMW6y"
      },
      "source": [
        "# 1. 사용자 정의 함수 사용법\n",
        "\n",
        "#### Step 1. 사용자 정의 함수 만들기 (=정의하기)\n",
        "\n",
        "```\n",
        "def 함수이름() : \n",
        "    함수 내용 \n",
        "```\n",
        "\n",
        "#### Step 2. 만든 사용자 정의 함수 사용하기 (=호출하기)\n",
        "\n",
        "\n",
        "```\n",
        "함수이름()\n",
        "```\n",
        "\n",
        "\n"
      ]
    },
    {
      "cell_type": "code",
      "metadata": {
        "id": "dz-4oYO4LvXh"
      },
      "source": [
        "# 사용자 정의 함수 정의\n",
        "def hi() : \n",
        "    print('hi!')\n",
        "    print('My name is Python!')"
      ],
      "execution_count": null,
      "outputs": []
    },
    {
      "cell_type": "code",
      "metadata": {
        "colab": {
          "base_uri": "https://localhost:8080/"
        },
        "id": "opLKSMVZNT13",
        "outputId": "00efb05c-06a5-4b0a-e6e8-58ab8963646b"
      },
      "source": [
        "# 사용자 정의 함수 호출\n",
        "hi()"
      ],
      "execution_count": null,
      "outputs": [
        {
          "output_type": "stream",
          "text": [
            "hi!\n",
            "My name is Python!\n"
          ],
          "name": "stdout"
        }
      ]
    },
    {
      "cell_type": "code",
      "metadata": {
        "colab": {
          "base_uri": "https://localhost:8080/"
        },
        "id": "ZVmoSoCTOdj9",
        "outputId": "695e7eb3-4076-4fd7-a55d-d5e88f1d56fc"
      },
      "source": [
        "hi()\n",
        "hi()"
      ],
      "execution_count": null,
      "outputs": [
        {
          "output_type": "stream",
          "text": [
            "hi!\n",
            "My name is Python!\n",
            "hi!\n",
            "My name is Python!\n"
          ],
          "name": "stdout"
        }
      ]
    },
    {
      "cell_type": "markdown",
      "metadata": {
        "id": "qrDhw-WPPARH"
      },
      "source": [
        "**step1. 함수 정의 --> step2. 함수 호출**\n",
        "\n",
        "<img src='https://github.com/teacher-jiejie/allinone_AI/blob/images/112_%EC%82%AC%EC%9A%A9%EC%9E%90%EC%A0%95%EC%9D%98%ED%95%A8%EC%88%98.png?raw=true' width=600>"
      ]
    },
    {
      "cell_type": "markdown",
      "metadata": {
        "id": "x17OEG1VPUeM"
      },
      "source": [
        "# 2. 사용자 정의 함수의 입출력\n",
        "\n",
        "## 2-1. 사용자 정의 함수에 데이터 전달하기\n",
        "> Q. print('hello!')처럼 함수 괄호 안에 데이터를 전달할 수는 없을까?\n",
        "\n",
        "```\n",
        "def 함수이름(매개변수) : \n",
        "    함수 내용 \n",
        "```\n",
        "매개변수란, 함수 외부의 데이터를 전달받는 변수 \n",
        "<br/>(= 함수 외부와 내부를 매개하는 변수)"
      ]
    },
    {
      "cell_type": "code",
      "metadata": {
        "colab": {
          "base_uri": "https://localhost:8080/"
        },
        "id": "KxvMpWEpOgSs",
        "outputId": "c8a2c590-2cbe-4d2a-978e-aa558101572c"
      },
      "source": [
        "# 이름을 전달하면, 정해진 포맷에 맞춰 자기소개하는 함수\n",
        "def hi(name) : \n",
        "    print('hi!')\n",
        "    print('My name is', name, '!')\n",
        "\n",
        "hi(name = 'dragon')"
      ],
      "execution_count": null,
      "outputs": [
        {
          "output_type": "stream",
          "text": [
            "hi!\n",
            "My name is dragon !\n"
          ],
          "name": "stdout"
        }
      ]
    },
    {
      "cell_type": "code",
      "metadata": {
        "colab": {
          "base_uri": "https://localhost:8080/"
        },
        "id": "FA6rO0xsQslB",
        "outputId": "d86a4a34-711f-4976-ce35-b65603127bd1"
      },
      "source": [
        "hi(name = '졔졔쌤')"
      ],
      "execution_count": null,
      "outputs": [
        {
          "output_type": "stream",
          "text": [
            "hi!\n",
            "My name is 졔졔쌤 !\n"
          ],
          "name": "stdout"
        }
      ]
    },
    {
      "cell_type": "markdown",
      "metadata": {
        "id": "lIqomssyRBrw"
      },
      "source": [
        "<img src= 'https://github.com/teacher-jiejie/allinone_AI/blob/images/113_%EC%82%AC%EC%9A%A9%EC%9E%90%EC%A0%95%EC%9D%98%ED%95%A8%EC%88%98_%EC%9D%B8%EC%9E%90.png?raw=true' width=800>"
      ]
    },
    {
      "cell_type": "code",
      "metadata": {
        "colab": {
          "base_uri": "https://localhost:8080/",
          "height": 170
        },
        "id": "i9eBQk6QQyAm",
        "outputId": "5aafe4a1-705d-470a-e65c-eebb4c93cfea"
      },
      "source": [
        "hi()"
      ],
      "execution_count": null,
      "outputs": [
        {
          "output_type": "error",
          "ename": "TypeError",
          "evalue": "ignored",
          "traceback": [
            "\u001b[0;31m---------------------------------------------------------------------------\u001b[0m",
            "\u001b[0;31mTypeError\u001b[0m                                 Traceback (most recent call last)",
            "\u001b[0;32m<ipython-input-16-ce8dd9c0d491>\u001b[0m in \u001b[0;36m<module>\u001b[0;34m()\u001b[0m\n\u001b[0;32m----> 1\u001b[0;31m \u001b[0mhi\u001b[0m\u001b[0;34m(\u001b[0m\u001b[0;34m)\u001b[0m\u001b[0;34m\u001b[0m\u001b[0;34m\u001b[0m\u001b[0m\n\u001b[0m",
            "\u001b[0;31mTypeError\u001b[0m: hi() missing 1 required positional argument: 'name'"
          ]
        }
      ]
    },
    {
      "cell_type": "markdown",
      "metadata": {
        "id": "uW4e6P4KRtzG"
      },
      "source": [
        "#### 매개변수 여러 개 만들기"
      ]
    },
    {
      "cell_type": "code",
      "metadata": {
        "colab": {
          "base_uri": "https://localhost:8080/"
        },
        "id": "4vtik-u5RBEP",
        "outputId": "f6216b0c-8d69-4b6e-dc78-cc593369d87f"
      },
      "source": [
        "def hi_2(name, job): \n",
        "    print('hi!')\n",
        "    print('My name is', name, 'and My job is', job, '!')\n",
        "\n",
        "hi_2(name = '고라니', job = 'programmer')"
      ],
      "execution_count": null,
      "outputs": [
        {
          "output_type": "stream",
          "text": [
            "hi!\n",
            "My name is 고라니 and My job is programmer !\n"
          ],
          "name": "stdout"
        }
      ]
    },
    {
      "cell_type": "code",
      "metadata": {
        "colab": {
          "base_uri": "https://localhost:8080/"
        },
        "id": "bitL3CaRRrVn",
        "outputId": "6bbd5b0a-c524-4694-e191-16ff0a11b8a1"
      },
      "source": [
        "hi_2(job = 'programmer', name = '고라니')"
      ],
      "execution_count": null,
      "outputs": [
        {
          "output_type": "stream",
          "text": [
            "hi!\n",
            "My name is 고라니 and My job is programmer !\n"
          ],
          "name": "stdout"
        }
      ]
    },
    {
      "cell_type": "code",
      "metadata": {
        "colab": {
          "base_uri": "https://localhost:8080/"
        },
        "id": "3BTrK5NtR_CU",
        "outputId": "5e8591c1-ddee-4a84-ac91-fd37073fba63"
      },
      "source": [
        "# 함수 호출 시 매개변수 생략하기\n",
        "hi_2('고라니', 'programmer')"
      ],
      "execution_count": null,
      "outputs": [
        {
          "output_type": "stream",
          "text": [
            "hi!\n",
            "My name is 고라니 and My job is programmer !\n"
          ],
          "name": "stdout"
        }
      ]
    },
    {
      "cell_type": "code",
      "metadata": {
        "colab": {
          "base_uri": "https://localhost:8080/"
        },
        "id": "yNhQDx6gSJ3C",
        "outputId": "41e896bb-05da-4d4e-fb87-1c57ba7ac6b0"
      },
      "source": [
        "# 매개변수를 생략할 때에는 순서에 유의하기\n",
        "hi_2('programmer', '고라니')"
      ],
      "execution_count": null,
      "outputs": [
        {
          "output_type": "stream",
          "text": [
            "hi!\n",
            "My name is programmer and My job is 고라니 !\n"
          ],
          "name": "stdout"
        }
      ]
    },
    {
      "cell_type": "markdown",
      "metadata": {
        "id": "D3ejBUeHZpLO"
      },
      "source": [
        "<img src='https://github.com/teacher-jiejie/allinone_AI/blob/images/114_%EC%82%AC%EC%9A%A9%EC%9E%90%EC%A0%95%EC%9D%98%ED%95%A8%EC%88%98_%EC%9C%84%EC%B9%98%EC%9D%B8%EC%9E%90.png?raw=true' width=700>"
      ]
    },
    {
      "cell_type": "code",
      "metadata": {
        "colab": {
          "base_uri": "https://localhost:8080/",
          "height": 170
        },
        "id": "lEJJTvD3SSNG",
        "outputId": "1ba2ed1a-ad5a-4272-e15c-d9bed2ea9026"
      },
      "source": [
        "hi_2('programmer')"
      ],
      "execution_count": null,
      "outputs": [
        {
          "output_type": "error",
          "ename": "TypeError",
          "evalue": "ignored",
          "traceback": [
            "\u001b[0;31m---------------------------------------------------------------------------\u001b[0m",
            "\u001b[0;31mTypeError\u001b[0m                                 Traceback (most recent call last)",
            "\u001b[0;32m<ipython-input-22-9c5c88eed138>\u001b[0m in \u001b[0;36m<module>\u001b[0;34m()\u001b[0m\n\u001b[0;32m----> 1\u001b[0;31m \u001b[0mhi_2\u001b[0m\u001b[0;34m(\u001b[0m\u001b[0;34m'programmer'\u001b[0m\u001b[0;34m)\u001b[0m\u001b[0;34m\u001b[0m\u001b[0;34m\u001b[0m\u001b[0m\n\u001b[0m",
            "\u001b[0;31mTypeError\u001b[0m: hi_2() missing 1 required positional argument: 'job'"
          ]
        }
      ]
    },
    {
      "cell_type": "markdown",
      "metadata": {
        "id": "T0Pwl_3fZ8sM"
      },
      "source": [
        "## 2-2. 사용자 정의 함수 내부의 데이터를 함수 밖으로 전달하기\n"
      ]
    },
    {
      "cell_type": "code",
      "metadata": {
        "id": "n55D9HrzZz2Y"
      },
      "source": [
        "# 두 수를 더하는 사용자 정의 함수 plus\n",
        "def plus(num1, num2): \n",
        "    result = num1 + num2\n",
        "\n",
        "plus(486, 849)"
      ],
      "execution_count": null,
      "outputs": []
    },
    {
      "cell_type": "markdown",
      "metadata": {
        "id": "bcJQyk87cxOv"
      },
      "source": [
        "함수의 내부와 외부 구분하기\n",
        "<br/>\n",
        "<img src='https://github.com/teacher-jiejie/allinone_AI/blob/images/115_%EC%82%AC%EC%9A%A9%EC%9E%90%EC%A0%95%EC%9D%98%ED%95%A8%EC%88%98_return.png?raw=true' width=600>\n",
        "\n",
        "<br/>\n",
        "함수 내부의 값 result를 함수 외부에서도 확인할 수 없을까?\n",
        "\n",
        "\n",
        "```\n",
        "def 함수이름(매개변수) : \n",
        "    함수 내용\n",
        "    return 전달할 데이터\n",
        "```\n"
      ]
    },
    {
      "cell_type": "code",
      "metadata": {
        "colab": {
          "base_uri": "https://localhost:8080/"
        },
        "id": "CD0CrYs_aMJe",
        "outputId": "8a759a08-bea1-4dc9-8b77-37f48e2d2b8b"
      },
      "source": [
        "def plus(num1, num2): \n",
        "    result = num1 + num2\n",
        "    return result\n",
        "\n",
        "plus(486, 849)"
      ],
      "execution_count": null,
      "outputs": [
        {
          "output_type": "execute_result",
          "data": {
            "text/plain": [
              "1335"
            ]
          },
          "metadata": {
            "tags": []
          },
          "execution_count": 24
        }
      ]
    },
    {
      "cell_type": "markdown",
      "metadata": {
        "id": "XqoyWi_5dl26"
      },
      "source": [
        "<img src='https://github.com/teacher-jiejie/allinone_AI/blob/images/116_%EC%82%AC%EC%9A%A9%EC%9E%90%EC%A0%95%EC%9D%98%ED%95%A8%EC%88%98.png?raw=true' width=600>"
      ]
    },
    {
      "cell_type": "code",
      "metadata": {
        "colab": {
          "base_uri": "https://localhost:8080/"
        },
        "id": "7uCAHkFldD_f",
        "outputId": "82427728-0d67-4e18-b4cd-9950d943d517"
      },
      "source": [
        "# return 과 동시에 함수 실행이 종료됨\n",
        "def plus(num1, num2): \n",
        "    result = num1 + num2\n",
        "    return result\n",
        "    print(num1,'+', num2, '=', result)\n",
        "\n",
        "plus(486, 849)"
      ],
      "execution_count": null,
      "outputs": [
        {
          "output_type": "execute_result",
          "data": {
            "text/plain": [
              "1335"
            ]
          },
          "metadata": {
            "tags": []
          },
          "execution_count": 25
        }
      ]
    },
    {
      "cell_type": "markdown",
      "metadata": {
        "id": "NAFNcSpGeBOy"
      },
      "source": [
        "# 3. 사용자 정의 함수의 활용 \n",
        "\n",
        "\n",
        "\n",
        "```\n",
        "국어, 영어, 수학 점수를 입력받아 환산점수를 계산하는 함수 작성하기\n",
        "\n",
        "- 국어 30%, 영어 30%, 수학 40%\n",
        "- 환산점수를 반환하기\n",
        "```\n",
        "\n"
      ]
    },
    {
      "cell_type": "code",
      "metadata": {
        "colab": {
          "base_uri": "https://localhost:8080/"
        },
        "id": "0_2PsfLDd39R",
        "outputId": "2c80c7cf-f5a4-4000-eeb6-640e600ea934"
      },
      "source": [
        "def calculate_score(kor, eng, mat) : \n",
        "    score = kor*0.3 + eng*0.3 + mat*0.4\n",
        "    return score\n",
        "\n",
        "# 국어 99, 영어 80, 수학 72일때 환산점수는?\n",
        "calculate_score(99, 80, 72)"
      ],
      "execution_count": null,
      "outputs": [
        {
          "output_type": "execute_result",
          "data": {
            "text/plain": [
              "82.5"
            ]
          },
          "metadata": {
            "tags": []
          },
          "execution_count": 26
        }
      ]
    },
    {
      "cell_type": "markdown",
      "metadata": {
        "id": "RoQ9BZKFe4OL"
      },
      "source": [
        "\n",
        "\n",
        "```\n",
        "만약 환산 점수가 80점 초과라면 합격, 80점 이하라면 탈락이라고 출력하기\n",
        "```\n",
        "\n"
      ]
    },
    {
      "cell_type": "code",
      "metadata": {
        "colab": {
          "base_uri": "https://localhost:8080/"
        },
        "id": "4lR8WkpAe2yb",
        "outputId": "3244aaff-c74a-4d73-b5cc-351d5792c5c3"
      },
      "source": [
        "# 함수의 반환값을 변수에 저장하기\n",
        "student1 = calculate_score(99, 80, 72)\n",
        "\n",
        "if student1 > 80 :\n",
        "    print('합격입니다! 점수는', student1)\n",
        "else : \n",
        "    print('탈락입니다. 점수는', student1)"
      ],
      "execution_count": null,
      "outputs": [
        {
          "output_type": "stream",
          "text": [
            "합격입니다! 점수는 82.5\n"
          ],
          "name": "stdout"
        }
      ]
    },
    {
      "cell_type": "markdown",
      "metadata": {
        "id": "XrNCna68fY-C"
      },
      "source": [
        "#### 여러 개의 값을 반환하기\n",
        "```\n",
        "국어, 영어, 수학 점수를 입력받아 환산점수를 계산하는 함수 작성하기\n",
        "\n",
        "- 국어 30%, 영어 30%, 수학 40%\n",
        "- 80점이 넘으면 합격(yes), 80점 이하라면 불합격(no)\n",
        "- 환산점수와 합격 유무를 반환하기\n",
        "```\n"
      ]
    },
    {
      "cell_type": "code",
      "metadata": {
        "id": "0YPIzY03fPyS"
      },
      "source": [
        "def calculate_score(kor, eng, mat) : \n",
        "    score = kor*0.3 + eng*0.3 + mat*0.4\n",
        "    if score > 80 : \n",
        "        pass_yn = 'yes'\n",
        "    else : \n",
        "        pass_yn = 'no'\n",
        "    return score, pass_yn"
      ],
      "execution_count": null,
      "outputs": []
    },
    {
      "cell_type": "code",
      "metadata": {
        "colab": {
          "base_uri": "https://localhost:8080/"
        },
        "id": "h8OefDawgDFD",
        "outputId": "c678e2eb-7421-456b-df4e-a4b85d0fdcf1"
      },
      "source": [
        "calculate_score(99, 80, 72)"
      ],
      "execution_count": null,
      "outputs": [
        {
          "output_type": "execute_result",
          "data": {
            "text/plain": [
              "(82.5, 'yes')"
            ]
          },
          "metadata": {
            "tags": []
          },
          "execution_count": 30
        }
      ]
    },
    {
      "cell_type": "code",
      "metadata": {
        "colab": {
          "base_uri": "https://localhost:8080/"
        },
        "id": "jOy_7_chgH5t",
        "outputId": "d83588ef-5cfe-44b3-b257-8162aeb622ff"
      },
      "source": [
        "# 여러 반환값을 변수에 저장하기\n",
        "stu1_score, stu1_pass = calculate_score(99, 80, 72)\n",
        "print('환산점수 :', stu1_score, '합격 여부 :', stu1_pass)"
      ],
      "execution_count": null,
      "outputs": [
        {
          "output_type": "stream",
          "text": [
            "환산점수 : 82.5 합격 여부 : yes\n"
          ],
          "name": "stdout"
        }
      ]
    },
    {
      "cell_type": "markdown",
      "metadata": {
        "id": "emMDXgQdks9j"
      },
      "source": [
        "# 4. 지역변수와 전역변수\n",
        "\n",
        "### 4-1. 지역변수\n",
        "* 특정 지역(함수 내부)에서만 사용됨\n",
        "* 함수 내부에서 만들어진 변수\n",
        "\n"
      ]
    },
    {
      "cell_type": "code",
      "metadata": {
        "colab": {
          "base_uri": "https://localhost:8080/",
          "height": 277
        },
        "id": "vKYBPVJSgXMT",
        "outputId": "13c6b82b-009e-427f-8bca-ea86301d8399"
      },
      "source": [
        "def hi(): \n",
        "    name = input('이름은? ')\n",
        "    print('hi!')\n",
        "    print('My name is', name, '!')\n",
        "\n",
        "print('자기소개를 시작합니다.')\n",
        "hi()\n",
        "print(name, '님 안녕하세요.')"
      ],
      "execution_count": null,
      "outputs": [
        {
          "output_type": "stream",
          "text": [
            "자기소개를 시작합니다.\n",
            "이름은? 제임스\n",
            "hi!\n",
            "My name is 제임스 !\n"
          ],
          "name": "stdout"
        },
        {
          "output_type": "error",
          "ename": "NameError",
          "evalue": "ignored",
          "traceback": [
            "\u001b[0;31m---------------------------------------------------------------------------\u001b[0m",
            "\u001b[0;31mNameError\u001b[0m                                 Traceback (most recent call last)",
            "\u001b[0;32m<ipython-input-33-439e226cec26>\u001b[0m in \u001b[0;36m<module>\u001b[0;34m()\u001b[0m\n\u001b[1;32m      6\u001b[0m \u001b[0mprint\u001b[0m\u001b[0;34m(\u001b[0m\u001b[0;34m'자기소개를 시작합니다.'\u001b[0m\u001b[0;34m)\u001b[0m\u001b[0;34m\u001b[0m\u001b[0;34m\u001b[0m\u001b[0m\n\u001b[1;32m      7\u001b[0m \u001b[0mhi\u001b[0m\u001b[0;34m(\u001b[0m\u001b[0;34m)\u001b[0m\u001b[0;34m\u001b[0m\u001b[0;34m\u001b[0m\u001b[0m\n\u001b[0;32m----> 8\u001b[0;31m \u001b[0mprint\u001b[0m\u001b[0;34m(\u001b[0m\u001b[0mname\u001b[0m\u001b[0;34m,\u001b[0m \u001b[0;34m'님 안녕하세요.'\u001b[0m\u001b[0;34m)\u001b[0m\u001b[0;34m\u001b[0m\u001b[0;34m\u001b[0m\u001b[0m\n\u001b[0m",
            "\u001b[0;31mNameError\u001b[0m: name 'name' is not defined"
          ]
        }
      ]
    },
    {
      "cell_type": "markdown",
      "metadata": {
        "id": "_uvN0PwQcgwa"
      },
      "source": [
        "<img src='https://github.com/teacher-jiejie/allinone_AI/blob/images/117_%EC%A7%80%EC%97%AD%EB%B3%80%EC%88%981.png?raw=true' width=600>\n",
        "<br/>\n",
        "<img src='https://github.com/teacher-jiejie/allinone_AI/blob/images/118_%EC%A7%80%EC%97%AD%EB%B3%80%EC%88%982.png?raw=true' width=600>"
      ]
    },
    {
      "cell_type": "code",
      "metadata": {
        "colab": {
          "base_uri": "https://localhost:8080/"
        },
        "id": "UCRQVl7llAAo",
        "outputId": "b28acb63-8ef0-41a8-888b-a1988298d105"
      },
      "source": [
        "# 지역변수에 저장된 값을 함수 외부에서 사용하려면 \n",
        "# return을 활용해 반환하기\n",
        "def hi(): \n",
        "    name = input('이름은? ')\n",
        "    print('hi!')\n",
        "    print('My name is', name, '!')\n",
        "    return name\n",
        "\n",
        "print('자기소개를 시작합니다.')\n",
        "person = hi()\n",
        "print(person, '님 안녕하세요.')"
      ],
      "execution_count": null,
      "outputs": [
        {
          "output_type": "stream",
          "text": [
            "자기소개를 시작합니다.\n",
            "이름은? james\n",
            "hi!\n",
            "My name is james !\n",
            "james 님 안녕하세요.\n"
          ],
          "name": "stdout"
        }
      ]
    },
    {
      "cell_type": "markdown",
      "metadata": {
        "id": "LejuyPHmkyZU"
      },
      "source": [
        "### 4-2. 프로그램 전체에서 사용되는 전역변수\n",
        "* 함수 외부에서 만들어진 변수\n",
        "* 프로그램 전역에서 (함수 외부, 내부 가리지 않고) 사용됨"
      ]
    },
    {
      "cell_type": "code",
      "metadata": {
        "colab": {
          "base_uri": "https://localhost:8080/"
        },
        "id": "RcZnswielAMk",
        "outputId": "e9a52d78-7089-4634-88e8-d945e7a843b1"
      },
      "source": [
        "def func1() : \n",
        "    print(a, b)\n",
        "    \n",
        "a, b = 5, 10\n",
        "func1()"
      ],
      "execution_count": null,
      "outputs": [
        {
          "output_type": "stream",
          "text": [
            "5 10\n"
          ],
          "name": "stdout"
        }
      ]
    },
    {
      "cell_type": "markdown",
      "metadata": {
        "id": "ylFWPYePhPvd"
      },
      "source": [
        "-> 함수 내부에서 전역변수의 값을 읽을 수 있다."
      ]
    },
    {
      "cell_type": "code",
      "metadata": {
        "colab": {
          "base_uri": "https://localhost:8080/",
          "height": 331
        },
        "id": "eeTwEfeEk0o0",
        "outputId": "3c47df14-ed2f-4681-a691-243c24c560c5"
      },
      "source": [
        "def func1() : \n",
        "    a += 2\n",
        "    b *= 2\n",
        "    print(a, b)\n",
        "    \n",
        "a, b = 5, 10\n",
        "func1()"
      ],
      "execution_count": null,
      "outputs": [
        {
          "output_type": "error",
          "ename": "UnboundLocalError",
          "evalue": "ignored",
          "traceback": [
            "\u001b[0;31m---------------------------------------------------------------------------\u001b[0m",
            "\u001b[0;31mUnboundLocalError\u001b[0m                         Traceback (most recent call last)",
            "\u001b[0;32m<ipython-input-7-0ff2a51fc0ee>\u001b[0m in \u001b[0;36m<module>\u001b[0;34m()\u001b[0m\n\u001b[1;32m      5\u001b[0m \u001b[0;34m\u001b[0m\u001b[0m\n\u001b[1;32m      6\u001b[0m \u001b[0ma\u001b[0m\u001b[0;34m,\u001b[0m \u001b[0mb\u001b[0m \u001b[0;34m=\u001b[0m \u001b[0;36m5\u001b[0m\u001b[0;34m,\u001b[0m \u001b[0;36m10\u001b[0m\u001b[0;34m\u001b[0m\u001b[0;34m\u001b[0m\u001b[0m\n\u001b[0;32m----> 7\u001b[0;31m \u001b[0mfunc1\u001b[0m\u001b[0;34m(\u001b[0m\u001b[0;34m)\u001b[0m\u001b[0;34m\u001b[0m\u001b[0;34m\u001b[0m\u001b[0m\n\u001b[0m",
            "\u001b[0;32m<ipython-input-7-0ff2a51fc0ee>\u001b[0m in \u001b[0;36mfunc1\u001b[0;34m()\u001b[0m\n\u001b[1;32m      1\u001b[0m \u001b[0;32mdef\u001b[0m \u001b[0mfunc1\u001b[0m\u001b[0;34m(\u001b[0m\u001b[0;34m)\u001b[0m \u001b[0;34m:\u001b[0m\u001b[0;34m\u001b[0m\u001b[0;34m\u001b[0m\u001b[0m\n\u001b[0;32m----> 2\u001b[0;31m     \u001b[0ma\u001b[0m \u001b[0;34m+=\u001b[0m \u001b[0;36m2\u001b[0m\u001b[0;34m\u001b[0m\u001b[0;34m\u001b[0m\u001b[0m\n\u001b[0m\u001b[1;32m      3\u001b[0m     \u001b[0mb\u001b[0m \u001b[0;34m*=\u001b[0m \u001b[0;36m2\u001b[0m\u001b[0;34m\u001b[0m\u001b[0;34m\u001b[0m\u001b[0m\n\u001b[1;32m      4\u001b[0m     \u001b[0mprint\u001b[0m\u001b[0;34m(\u001b[0m\u001b[0ma\u001b[0m\u001b[0;34m,\u001b[0m \u001b[0mb\u001b[0m\u001b[0;34m)\u001b[0m\u001b[0;34m\u001b[0m\u001b[0;34m\u001b[0m\u001b[0m\n\u001b[1;32m      5\u001b[0m \u001b[0;34m\u001b[0m\u001b[0m\n",
            "\u001b[0;31mUnboundLocalError\u001b[0m: local variable 'a' referenced before assignment"
          ]
        }
      ]
    },
    {
      "cell_type": "markdown",
      "metadata": {
        "id": "utnh-wxghjPP"
      },
      "source": [
        "**-> 함수 내부에서 전역변수의 값을 읽을 수는 있지만 변경할 수는 없다.** \n",
        "\n",
        "변경하고 싶으면 키워드 global을 붙여야 함"
      ]
    },
    {
      "cell_type": "code",
      "metadata": {
        "colab": {
          "base_uri": "https://localhost:8080/"
        },
        "id": "RUfXq-Vphfws",
        "outputId": "a06800d2-b782-4ac2-d260-449a895e0053"
      },
      "source": [
        "def func1() : \n",
        "    global a, b  \n",
        "    a += 2\n",
        "    b *= 2\n",
        "    print(a, b)\n",
        "    \n",
        "a, b = 5, 10\n",
        "func1()"
      ],
      "execution_count": null,
      "outputs": [
        {
          "output_type": "stream",
          "text": [
            "7 20\n"
          ],
          "name": "stdout"
        }
      ]
    },
    {
      "cell_type": "code",
      "metadata": {
        "colab": {
          "base_uri": "https://localhost:8080/"
        },
        "id": "olLUP7LPiK5I",
        "outputId": "ee5adf55-2169-44e9-ea26-e19338c5098b"
      },
      "source": [
        "func1()"
      ],
      "execution_count": null,
      "outputs": [
        {
          "output_type": "stream",
          "text": [
            "9 40\n"
          ],
          "name": "stdout"
        }
      ]
    },
    {
      "cell_type": "code",
      "metadata": {
        "colab": {
          "base_uri": "https://localhost:8080/"
        },
        "id": "3yygBSvXiODX",
        "outputId": "96c69215-eb24-42ca-b551-5478196afa44"
      },
      "source": [
        "func1()"
      ],
      "execution_count": null,
      "outputs": [
        {
          "output_type": "stream",
          "text": [
            "11 80\n"
          ],
          "name": "stdout"
        }
      ]
    },
    {
      "cell_type": "markdown",
      "metadata": {
        "id": "4NBzsJWUiZWH"
      },
      "source": [
        "#### 상벌점 사용자 정의 함수 reward_penalty()\n",
        "\n",
        "\n",
        "```\n",
        "# 매개변수 \n",
        "  상점, 벌점 종류 = kind\n",
        "  점수 = points\n",
        "```\n",
        "\n"
      ]
    },
    {
      "cell_type": "code",
      "metadata": {
        "colab": {
          "base_uri": "https://localhost:8080/"
        },
        "id": "kgWk-4uPiO4N",
        "outputId": "78cf0ce1-0087-43b7-dc1d-b714c283ae3b"
      },
      "source": [
        "def reward_penalty(kind, points) : \n",
        "    global current_point\n",
        "    print('현재점수 :', current_point)\n",
        "    if kind == '상점' : \n",
        "        current_point += points\n",
        "    elif kind == '벌점' : \n",
        "        current_point -= points\n",
        "\n",
        "current_point = 5\n",
        "reward_penalty('상점', 5)\n",
        "print('최종 점수 :', current_point)"
      ],
      "execution_count": null,
      "outputs": [
        {
          "output_type": "stream",
          "text": [
            "현재점수 : 5\n",
            "최종 점수 : 10\n"
          ],
          "name": "stdout"
        }
      ]
    },
    {
      "cell_type": "code",
      "metadata": {
        "id": "50hYQQpC66xn"
      },
      "source": [
        ""
      ],
      "execution_count": null,
      "outputs": []
    }
  ]
}