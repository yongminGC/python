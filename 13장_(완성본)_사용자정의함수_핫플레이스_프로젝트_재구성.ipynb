{
  "nbformat": 4,
  "nbformat_minor": 0,
  "metadata": {
    "colab": {
      "name": "13장_(완성본)_사용자정의함수 - 핫플레이스 프로젝트 재구성.ipynb",
      "provenance": [],
      "collapsed_sections": [],
      "authorship_tag": "ABX9TyPlForif/zHHfDT+yKlqlHr",
      "include_colab_link": true
    },
    "kernelspec": {
      "name": "python3",
      "display_name": "Python 3"
    },
    "language_info": {
      "name": "python"
    }
  },
  "cells": [
    {
      "cell_type": "markdown",
      "metadata": {
        "id": "view-in-github",
        "colab_type": "text"
      },
      "source": [
        "<a href=\"https://colab.research.google.com/github/teacher-jiejie/Lets-get-it-Python-Lecture/blob/main/13%EC%9E%A5_(%EC%99%84%EC%84%B1%EB%B3%B8)_%EC%82%AC%EC%9A%A9%EC%9E%90%EC%A0%95%EC%9D%98%ED%95%A8%EC%88%98_%ED%95%AB%ED%94%8C%EB%A0%88%EC%9D%B4%EC%8A%A4_%ED%94%84%EB%A1%9C%EC%A0%9D%ED%8A%B8_%EC%9E%AC%EA%B5%AC%EC%84%B1.ipynb\" target=\"_parent\"><img src=\"https://colab.research.google.com/assets/colab-badge.svg\" alt=\"Open In Colab\"/></a>"
      ]
    },
    {
      "cell_type": "markdown",
      "metadata": {
        "id": "vHuTNPuiPfFs"
      },
      "source": [
        "들어가기 전에)\n",
        "<br/> 핫플레이스 프로젝트 재구성은 구글 코랩이 아닌 주피터 노트북에서 진행하는 것을 권장합니다. \n",
        "<br/>(파일 업로드에 시간이 매우 많이 걸립니다.)\n"
      ]
    },
    {
      "cell_type": "markdown",
      "metadata": {
        "id": "0966vK6xE3lK"
      },
      "source": [
        "# 핫플레이스 프로젝트를 기능 단위로 쪼개기\n",
        "\n",
        "<img src ='https://github.com/teacher-jiejie/allinone_AI/blob/images/119_%ED%95%AB%ED%94%8C%ED%94%84%EB%A1%9C%EC%A0%9D%ED%8A%B8_%ED%95%A8%EC%88%981.png?raw=true' width=300>\n"
      ]
    },
    {
      "cell_type": "markdown",
      "metadata": {
        "id": "BxnMDJbgFOUX"
      },
      "source": [
        "\n",
        "<img src='https://github.com/teacher-jiejie/allinone_AI/blob/images/120_%ED%95%AB%ED%94%8C%ED%94%84%EB%A1%9C%EC%A0%9D%ED%8A%B8_%ED%95%A8%EC%88%982.png?raw=true' width=600>\n"
      ]
    },
    {
      "cell_type": "markdown",
      "metadata": {
        "id": "eg1VAF3BFPq9"
      },
      "source": [
        "# 공통적인 기능은 하나의 함수로 묶기\n",
        "\n",
        "<img src='https://github.com/teacher-jiejie/allinone_AI/blob/images/121_%ED%95%AB%ED%94%8C%ED%94%84%EB%A1%9C%EC%A0%9D%ED%8A%B8_%ED%95%A8%EC%88%983.png?raw=true' width=900>"
      ]
    },
    {
      "cell_type": "markdown",
      "metadata": {
        "id": "at8oA76tFdhJ"
      },
      "source": [
        "# 독립적인 기능을 함수로 구성하기\n",
        "<img src='https://github.com/teacher-jiejie/allinone_AI/blob/images/122_%ED%95%AB%ED%94%8C%ED%94%84%EB%A1%9C%EC%A0%9D%ED%8A%B8_%ED%95%A8%EC%88%984.png?raw=true' width=900>"
      ]
    },
    {
      "cell_type": "markdown",
      "metadata": {
        "id": "ZnfC1_p8hZEF"
      },
      "source": [
        "\n",
        "# 1. 파일 읽기\n",
        "\n",
        "<변경 전>\n",
        "```\n",
        "import csv\n",
        "\n",
        "f = open('LOCAL_PEOPLE_DONG_201912.csv', encoding='utf8') # 또는 'eur-kr', 'CP949'\n",
        "data = csv.reader(f)\n",
        "next(data)\n",
        "data = list(data)\n",
        "\n",
        "f2 = open('dong_code.csv', encoding = 'utf8') # 또는 'eur-kr', 'CP949'\n",
        "code_data = csv.reader(f2)\n",
        "next(code_data)\n",
        "next(code_data)\n",
        "code_data = list(code_data)\n",
        "\n",
        "for row in data: \n",
        "    for i in range(1, 32): \n",
        "        if i <= 2:\n",
        "            row[i] = int(row[i])\n",
        "        else:\n",
        "            row[i] = float(row[i])\n",
        "\n",
        "for row in code_data: \n",
        "    row[1] = int(row[1])\n",
        "```\n"
      ]
    },
    {
      "cell_type": "markdown",
      "metadata": {
        "id": "Iqmv4qXTGTay"
      },
      "source": [
        "file_open() 설계 \n",
        "\n",
        "  * 매개변수 : 없음\n",
        "  * 반환값 : 인구데이터, 행정동 코드데이터"
      ]
    },
    {
      "cell_type": "code",
      "metadata": {
        "id": "YftC12fEhg3p"
      },
      "source": [
        "def file_open() : \n",
        "    f = open('LOCAL_PEOPLE_DONG_201912.csv', encoding='utf8') # 또는 'eur-kr', 'CP949'\n",
        "    data = csv.reader(f)\n",
        "    next(data)\n",
        "    data = list(data)\n",
        "    \n",
        "    f2 = open('dong_code.csv', encoding = 'utf8') # 또는 'eur-kr', 'CP949'\n",
        "    code_data = csv.reader(f2)\n",
        "    next(code_data)\n",
        "    next(code_data)\n",
        "    code_data = list(code_data)\n",
        "    \n",
        "    for row in data: \n",
        "        for i in range(1, 32): \n",
        "            if i <= 2:\n",
        "                row[i] = int(row[i])\n",
        "            else:\n",
        "                row[i] = float(row[i])\n",
        "    \n",
        "    for row in code_data: \n",
        "        row[1] = int(row[1])\n",
        "\n",
        "    return data, code_data"
      ],
      "execution_count": null,
      "outputs": []
    },
    {
      "cell_type": "markdown",
      "metadata": {
        "id": "e8W00EvmiOaC"
      },
      "source": [
        "# 2. 행정동명과 행정동코드 연결\n",
        "<변경 전> \n",
        "```\n",
        "dong_name = input('핫플레이스가 위치한 행정동을 입력하세요 --> ')\n",
        "for row in code_data: \n",
        "    if row[-1] == dong_name: \n",
        "        dong_code = row[1]\n",
        "print(dong_name, '-',dong_code, '을(를) 분석합니다!')\n",
        "```\n",
        "\n"
      ]
    },
    {
      "cell_type": "markdown",
      "metadata": {
        "id": "VeCdm1YCGk6K"
      },
      "source": [
        "dong_search() 설계 \n",
        "\n",
        "  * 매개변수 :  행정동이름(dong_name)\n",
        "  * 반환값   :  행정동코드(code)"
      ]
    },
    {
      "cell_type": "code",
      "metadata": {
        "id": "bARqqnY5iTtz"
      },
      "source": [
        "def dong_search(dong_name) : \n",
        "    for row in code_data: \n",
        "        if row[-1] == dong_name: \n",
        "            code = row[1]\n",
        "    print(dong_name, '-',code, '을(를) 분석합니다!')\n",
        "    \n",
        "    return code"
      ],
      "execution_count": null,
      "outputs": []
    },
    {
      "cell_type": "markdown",
      "metadata": {
        "id": "lQ_1oRoONSAv"
      },
      "source": [
        "# 3. 그래프 그리기\n",
        "\n",
        "<변경 전> \n",
        "```\n",
        "import matplotlib.pyplot as plt\n",
        "\n",
        "# 하위 목표 1의 그래프 그리기\n",
        "plt.rc('font', family='Malgun Gothic')\n",
        "plt.title(dong_name+' 시간대별 평균인구') \n",
        "plt.plot(range(24), population, color='indigo') \n",
        "plt.xticks(range(24), range(24)) \n",
        "plt.xlabel('시간대') \n",
        "plt.ylabel('평균인구수')\n",
        "plt.show()\n",
        "\n",
        "# 하위 목표 2의 그래프 그리기\n",
        "plt.rc('font', family='Malgun Gothic')\n",
        "plt.title(dong_name+ ' 주중/주말 시간대별 평균인구')\n",
        "plt.plot(weekday, color='indigo', label='주중')\n",
        "plt.plot(weekend, color='orangered', label='주말')\n",
        "plt.legend()\n",
        "plt.xlabel('시간대')\n",
        "plt.ylabel('평균인구수')\n",
        "plt.xticks(range(24), range(24))\n",
        "plt.show()\n",
        "\n",
        "# 하위 목표 4의 그래프 그리기\n",
        "plt.rc('font', family='Malgun Gothic')\n",
        "plt.title(dong_name+ '과 ' +dong_name2+ ' 시간대별 평균인구 비교')\n",
        "plt.plot(population, color='m', label=dong_name)\n",
        "plt.plot(population2, color='orange', label=dong_name2)\n",
        "plt.legend()\n",
        "plt.xlabel('시간대')\n",
        "plt.ylabel('평균인구수')\n",
        "plt.xticks(range(24), range(24))\n",
        "plt.show()\n",
        "```"
      ]
    },
    {
      "cell_type": "markdown",
      "metadata": {
        "id": "GUpyg2XgNSAz"
      },
      "source": [
        "\n",
        "< 공통되는 부분 >\n",
        "\n",
        "```\n",
        "plt.rc('font', family='Malgun Gothic')\n",
        "plt.title( *그래프 제목* )\n",
        "plt.plot( *인구리스트*, label=*라벨*)\n",
        "plt.plot( *인구리스트*, label=*라벨*)\n",
        "plt.legend()\n",
        "plt.xlabel('시간대')\n",
        "plt.ylabel('평균인구수')\n",
        "plt.xticks(range(24), range(24))\n",
        "plt.show()\n",
        "```\n",
        "\n",
        "\n",
        "\n",
        "\n",
        "\n",
        "\n",
        "<img src='https://github.com/teacher-jiejie/allinone_AI/blob/images/126_%ED%95%AB%ED%94%8C_%ED%95%A8%EC%88%98_graphplot.png?raw=true' width=700>\n",
        "<br/>\n",
        "<br/>\n",
        "<img src='https://github.com/teacher-jiejie/allinone_AI/blob/images/127_%ED%95%AB%ED%94%8C_%ED%95%A8%EC%88%98_graphplot2.png?raw=true' width=900>"
      ]
    },
    {
      "cell_type": "markdown",
      "metadata": {
        "id": "jv1jf9grNSA0"
      },
      "source": [
        "graph_plot() 설계 \n",
        "\n",
        "  * 매개변수  :  인구리스트(popu_list), 라벨리스트(label_list), 그래프제목(graph_title)\n",
        "  * 반환값  : 없음"
      ]
    },
    {
      "cell_type": "code",
      "metadata": {
        "id": "lZvDVmKJNSA0"
      },
      "source": [
        "import matplotlib.pyplot as plt\n",
        "\n",
        "def graph_plot(popu_list, label_list, graph_title):\n",
        "    plt.rc('font', family='Malgun Gothic')\n",
        "    plt.title(graph_title)\n",
        "    for i in range(len(popu_list)): \n",
        "        plt.plot(range(24), popu_list[i], label=label_list[i])\n",
        "    plt.legend()\n",
        "    plt.xlabel('시간대')\n",
        "    plt.ylabel('평균인구수')\n",
        "    plt.xticks(range(24), range(24))\n",
        "    plt.show()"
      ],
      "execution_count": null,
      "outputs": []
    },
    {
      "cell_type": "markdown",
      "metadata": {
        "id": "Azau4CV7GyO4"
      },
      "source": [
        "# 4. 하위목표1 - 시간대별 인구 분석\n",
        "\n",
        "<변경 전>\n",
        "\n",
        "\n",
        "```\n",
        "population = [0 for i in range(24)]\n",
        "for row in data: \n",
        "    if row[2] == dong_code: \n",
        "        time, p = row[1], row[3]\n",
        "        population[time] += p\n",
        "population = [p/31 for p in population]\n",
        "\n",
        "plt.rc('font', family='Malgun Gothic')\n",
        "plt.title(dong_name+' 시간대별 평균인구) \n",
        "plt.plot(range(24), population, color='indigo') \n",
        "plt.xticks(range(24), range(24)) \n",
        "plt.xlabel('시간대') \n",
        "plt.ylabel('평균인구수') \n",
        "plt.show()\n",
        "```\n",
        "\n"
      ]
    },
    {
      "cell_type": "markdown",
      "metadata": {
        "id": "dISnloa_Luym"
      },
      "source": [
        "analysis1() 설계 \n",
        "\n",
        "  * 매개변수  :  행정동이름(dong_name), 행정동코드(dong_code)\n",
        "  * 반환값  : 없음"
      ]
    },
    {
      "cell_type": "code",
      "metadata": {
        "id": "h7b-pkN7LeP2"
      },
      "source": [
        "def analysis1(dong_name, dong_code): \n",
        "    # 3.1 입력된 행정동의 시간대별 평균인구 구하기\n",
        "    population = [0 for i in range(24)]\n",
        "    for row in data: \n",
        "        if row[2] == dong_code: \n",
        "            time, p = row[1], row[3]\n",
        "            population[time] += p\n",
        "    population = [p/31 for p in population]\n",
        "\n",
        "    # 3.2 3.1에서 구한 평균인구 리스트로 꺾은선 그래프 그리기\n",
        "    population = [population]\n",
        "    labels = ['평균인구']\n",
        "    title = dong_name + ' 시간대별 평균인구'\n",
        "    graph_plot(popu_list = population, label_list = labels, graph_title = title)\n"
      ],
      "execution_count": null,
      "outputs": []
    },
    {
      "cell_type": "markdown",
      "metadata": {
        "id": "LgcAmsQTM1IN"
      },
      "source": [
        "# 5. 하위목표 1 - 주중/주말 시간대별 인구 분석하기 \n",
        "\n",
        "<변경 전>\n",
        "\n",
        "\n",
        "```\n",
        "import datetime\n",
        "\n",
        "weekday = [0 for i in range(24)]\n",
        "weekend = [0 for i in range(24)]\n",
        "\n",
        "for row in data: \n",
        "    if row[2] == dong_code: \n",
        "        time, p = row[1], row[3]\n",
        "        year, mon, day = int(row[0][:4]), int(row[0][4:6]), int(row[0][6:])\n",
        "        num = datetime.date(year, mon, day).weekday()\n",
        "        if num < 5: \n",
        "            weekday[time] += p\n",
        "        else: \n",
        "            weekend[time] += p\n",
        "\n",
        "# 2019년 12월의 주중/주말 일수 구하기\n",
        "weekday_cnt, weekend_cnt = 0, 0\n",
        "\n",
        "for i in range(1, 32): \n",
        "    if datetime.date(2019,12,i).weekday() < 5:\n",
        "        weekday_cnt += 1\n",
        "    else: \n",
        "        weekend_cnt += 1\n",
        "\n",
        "print('2019년 12월의 주중 일수 =', weekday_cnt, '주말 일수 =',weekend_cnt)\n",
        "\n",
        "weekday = [w/weekday_cnt for w in weekday]\n",
        "weekend = [w/weekend_cnt for w in weekend]\n",
        "\n",
        "plt.rc('font', family='Malgun Gothic')\n",
        "plt.title(dong_name+ ' 주중/주말 시간대별 인구')\n",
        "plt.plot(weekday, color='indigo', label='주중')\n",
        "plt.plot(weekend, color='orangered', label='주말')\n",
        "plt.legend()\n",
        "plt.xlabel('시간대')\n",
        "plt.ylabel('평균인구수')\n",
        "plt.xticks(range(24), range(24))\n",
        "plt.show()\n",
        "```\n",
        "\n"
      ]
    },
    {
      "cell_type": "markdown",
      "metadata": {
        "id": "n_4Z2mL6M1IO"
      },
      "source": [
        "analysis2() 설계 \n",
        "\n",
        "  * 매개변수  :  행정동이름(dong_name), 행정동코드(dong_code)\n",
        "  * 반환값  : 없음"
      ]
    },
    {
      "cell_type": "code",
      "metadata": {
        "id": "vrXsNyN8M1IP"
      },
      "source": [
        "import datetime\n",
        "\n",
        "def analysis2(dong_name, dong_code): \n",
        "    # 4.1 입력된 행정동의 주중/주말 시간대별 평균인구 구하기\n",
        "    weekday = [0 for i in range(24)]\n",
        "    weekend = [0 for i in range(24)]\n",
        "\n",
        "    for row in data: \n",
        "        if row[2] == dong_code: \n",
        "            time, p = row[1], row[3]\n",
        "            year, mon, day = int(row[0][:4]), int(row[0][4:6]), int(row[0][6:])\n",
        "            num = datetime.date(year, mon, day).weekday()\n",
        "            if num < 5: \n",
        "                weekday[time] += p\n",
        "            else: \n",
        "                weekend[time] += p\n",
        " \n",
        "    weekday_cnt, weekend_cnt = 0, 0\n",
        "    for i in range(1, 32): \n",
        "        if datetime.date(2019,12,i).weekday() < 5:\n",
        "            weekday_cnt += 1\n",
        "        else: \n",
        "            weekend_cnt += 1\n",
        "\n",
        "    weekday = [w/weekday_cnt for w in weekday]\n",
        "    weekend = [w/weekend_cnt for w in weekend]\n",
        "\n",
        "    # 4.2 4.1에서 구한 평균인구 리스트로 꺾은선 그래프 그리기 \n",
        "    data_set = [weekday, weekend]\n",
        "    labels = ['주중', '주말']\n",
        "    title = dong_name + ' 주중/주말 시간대별 평균인구'\n",
        "    graph_plot(popu_list = data_set, label_list = labels, graph_title = title)\n"
      ],
      "execution_count": null,
      "outputs": []
    },
    {
      "cell_type": "markdown",
      "metadata": {
        "id": "hMgCMgQmM1mt"
      },
      "source": [
        "# 6. 하위목표3 - 남녀 시간대별 인구 분석\n",
        "\n",
        "<변경 전>\n",
        "\n",
        "\n",
        "```\n",
        "male = [0 for i in range(24)]\n",
        "female = [0 for i in range(24)]\n",
        "\n",
        "for row in data: \n",
        "    if row[2] == dong_code: \n",
        "        time = int(row[1])\n",
        "        male[time] += sum(row[4:18])\n",
        "        female[time] += sum(row[18:32])\n",
        "male = [m/31 for m in male]\n",
        "female = [f/31 for f in female]\n",
        "\n",
        "plt.rc('font', family='Malgun Gothic')\n",
        "plt.title(dong_name+' 남녀 시간대별 평균인구')\n",
        "plt.plot(male, color='b', label='남성')\n",
        "plt.plot(female, color='r', label='여성')\n",
        "plt.xlabel('시간대')\n",
        "plt.ylabel('평균인구수')\n",
        "plt.legend()\n",
        "plt.xticks(range(24), range(24))\n",
        "plt.show()\n",
        "```\n",
        "\n"
      ]
    },
    {
      "cell_type": "markdown",
      "metadata": {
        "id": "P7voFpCYM1mu"
      },
      "source": [
        "analysis3() 설계 \n",
        "\n",
        "  * 매개변수  :  행정동이름(dong_name), 행정동코드(dong_code)\n",
        "  * 반환값  : 없음"
      ]
    },
    {
      "cell_type": "code",
      "metadata": {
        "id": "l-f-AsJLM1mv"
      },
      "source": [
        "def analysis3(dong_name, dong_code): \n",
        "    # 5.1 입력된 행정동의 남/녀 시간대별 평균인구 구하기\n",
        "    male = [0 for i in range(24)]\n",
        "    female = [0 for i in range(24)]\n",
        "\n",
        "    for row in data: \n",
        "        if row[2] == dong_code: \n",
        "            time = int(row[1])\n",
        "            male[time] += sum(row[4:18])\n",
        "            female[time] += sum(row[18:32])\n",
        "    male = [m/31 for m in male]\n",
        "    female = [f/31 for f in female]\n",
        "\n",
        "    # 5.2 5.1에서 구한 평균인구 리스트로 꺾은선 그래프 그리기\n",
        "    data_set = [male, female]\n",
        "    labels = ['남성', '여성']\n",
        "    title = dong_name + ' 남녀 시간대별 평균인구'\n",
        "    graph_plot(popu_list = data_set, label_list = labels, graph_title = title)"
      ],
      "execution_count": null,
      "outputs": []
    },
    {
      "cell_type": "markdown",
      "metadata": {
        "id": "NklwX44hM13t"
      },
      "source": [
        "# 7. 하위목표 4 - 다른 지역과 인구 비교 분석 \n",
        "\n",
        "<변경 전>\n",
        "\n",
        "\n",
        "```\n",
        "# 핫플레이스가 있는 행정동\n",
        "dong_name = input('핫플레이스가 위치한 행정동을 입력하세요 --> ')\n",
        "for row in code_data: \n",
        "    if row[-1] == dong_name: \n",
        "        dong_code = row[1]\n",
        "\n",
        "# 비교할 행정동\n",
        "dong_name2 = input('비교할 행정동을 입력하세요 --> ')\n",
        "for row in code_data: \n",
        "    if row[-1] == dong_name2: \n",
        "        dong_code2 = row[1]\n",
        "\n",
        "population = [0 for i in range(24)]\n",
        "population2 = [0 for i in range(24)]\n",
        "\n",
        "for row in data: \n",
        "    # 핫플레이스가 있는 행정동인 경우\n",
        "    if row[2] == dong_code: \n",
        "        time, p = row[1], row[3]\n",
        "        population[time] += p\n",
        "    # 비교할 지역의 행정동인 경우\n",
        "    elif row[2] == dong_code2: \n",
        "        time, p = row[1], row[3]\n",
        "        population2[time] += p\n",
        "\n",
        "population = [p/31 for p in population]\n",
        "population2 = [p/31 for p in population2]\n",
        "\n",
        "plt.rc('font', family='Malgun Gothic')\n",
        "plt.title(dong_name + '과 ' + dong_name2 + ' 시간대별 평균인구 비교')\n",
        "plt.plot(population, color='m', label=dong_name)\n",
        "plt.plot(population2, color='orange', label=dong_name2)\n",
        "plt.legend()\n",
        "plt.xlabel('시간대')\n",
        "plt.ylabel('평균인구수')\n",
        "plt.xticks(range(24), range(24))\n",
        "plt.show()\n",
        "```\n",
        "\n"
      ]
    },
    {
      "cell_type": "markdown",
      "metadata": {
        "id": "k4nxsP8QM13u"
      },
      "source": [
        "< 변경 전 analysis1() >\n",
        "```\n",
        "def analysis1(dong_name, dong_code): \n",
        "    # 3.1 입력된 행정동의 시간대별 평균인구 구하기\n",
        "    population = [0 for i in range(24)]\n",
        "    for row in data: \n",
        "        if row[2] == dong_code: \n",
        "            time, p = row[1], row[3]\n",
        "            population[time] += p\n",
        "    population = [p/31 for p in population]\n",
        "\n",
        "    # 3.2 3.1에서 구한 평균인구 리스트로 꺾은선 그래프 그리기\n",
        "    population = [population]\n",
        "    labels = ['평균인구']\n",
        "    title = dong_name + ' 시간대별 평균인구'\n",
        "    graph_plot(popu_list = population, label_list = labels, graph_title = title)\n",
        "```\n",
        "analysis1() 설계 변경\n",
        "\n",
        "  * 매개변수  :  행정동이름(dong_name), 행정동코드(dong_code), 그래프 유무(graph_yn)\n",
        "  * 반환값  : 없음\n"
      ]
    },
    {
      "cell_type": "code",
      "metadata": {
        "id": "0yASdGYIM13v"
      },
      "source": [
        "# graph_yn 매개변수 추가: 그래프 그리기가 필요하면 y, 필요하지 않으면 n\n",
        "def analysis1(dong_name, dong_code, graph_yn = 'y'):\n",
        "    population = [0 for i in range(24)]\n",
        "    for row in data: \n",
        "        if row[2] == dong_code: \n",
        "            time, p = row[1], row[3]\n",
        "            population[time] += p\n",
        "    population = [p/31 for p in population]\n",
        "\n",
        "    # 그래프를 그리지 않는 경우 인구 리스트만 반환하고 종료 \n",
        "    if graph_yn == 'n': \n",
        "        return population\n",
        "\n",
        "    population = [population]\n",
        "    labels = ['평균인구']\n",
        "    title = dong_name + ' 시간대별 평균인구'\n",
        "    graph_plot(popu_list = population, label_list = labels, graph_title = title)\n"
      ],
      "execution_count": null,
      "outputs": []
    },
    {
      "cell_type": "code",
      "metadata": {
        "id": "A5slg-gdOpG0"
      },
      "source": [
        "def analysis4(dong_name1, dong_code1):\n",
        "    # 6.1 비교할 지역을 입력받아 행정동코드 알아내기\n",
        "    dong_name2 = input('비교할 행정동을 입력하세요 --> ')\n",
        "    dong_code2 = dong_search(dong_name2)\n",
        "\n",
        "    # 6.2 두 지역의 시간대별 평균인구 구하기\n",
        "    population1 = analysis1(dong_name = dong_name1, dong_code = dong_code1, graph_yn = 'n')\n",
        "    population2 = analysis1(dong_name = dong_name2, dong_code = dong_code2, graph_yn = 'n') \n",
        "\n",
        "    # 6.3 6.2에서 구한 평균인구 리스트로 꺾은선 그래프 그리기\n",
        "    data_set = [population1, population2]\n",
        "    labels = [dong_name1, dong_name2]\n",
        "    title = dong_name1 + '과' + dong_name2 + ' 시간대별 평균인구'\n",
        "    graph_plot(popu_list = data_set, label_list = labels, graph_title = title)\n"
      ],
      "execution_count": null,
      "outputs": []
    },
    {
      "cell_type": "code",
      "metadata": {
        "id": "qRMuwZZLM13w"
      },
      "source": [
        "# 함수 호출 부분\n",
        "# data, code_data = file_open()\n",
        "\n",
        "input_name = input('핫플레이스가 위치한 행정동을 입력하세요 --> ')\n",
        "input_code = dong_search(input_name)\n",
        "\n",
        "# analysis1(dong_name = input_name, dong_code = input_code)\n",
        "# analysis2(dong_name = input_name, dong_code = input_code)\n",
        "# analysis3(dong_name = input_name, dong_code = input_code)\n",
        "analysis4(dong_name1 = input_name, dong_code1 = input_code)"
      ],
      "execution_count": null,
      "outputs": []
    },
    {
      "cell_type": "markdown",
      "metadata": {
        "id": "1Dzfg_W0PT44"
      },
      "source": [
        "# 8. 실제 프로그램처럼 다듬기"
      ]
    },
    {
      "cell_type": "code",
      "metadata": {
        "id": "gfZpdCeWPRlR"
      },
      "source": [
        "# 필요한 파일 읽기\n",
        "data, code_data = file_open()\n",
        "\n",
        "print('핫플레이스는 언제 가야 가장 덜 붐빌까?')\n",
        "\n",
        "# 핫플레이스가 있는 행정동 입력받기\n",
        "input_name = input('핫플레이스가 위치한 행정동을 입력하세요 --> ')\n",
        "input_code = dong_search(input_name)\n",
        "\n",
        "print('1. 시간대별 평균인구는 어떻게 될까?')\n",
        "print('2. 평일에 가야 할까, 주말에 가야 할까?')\n",
        "print('3. 남자가 많을까, 여자가 많을까?')\n",
        "print('4. 내가 익숙한 지역과 비교하면 얼마나 붐빌까?')\n",
        "\n",
        "selection = int(input('분석하고 싶은 내용의 번호를 입력해주세요 -->'))\n",
        "if selection == 1: \n",
        "    analysis1(dong_name = input_name, dong_code = input_code)\n",
        "elif selection == 2: \n",
        "    analysis2(dong_name = input_name, dong_code = input_code)\n",
        "elif selection == 3: \n",
        "    analysis3(dong_name = input_name, dong_code = input_code)\n",
        "elif selection == 4: \n",
        "    analysis4(dong_name1 = input_name, dong_code1 = input_code)\n",
        "else: \n",
        "    print('잘못된 입력입니다.')\n"
      ],
      "execution_count": null,
      "outputs": []
    }
  ]
}