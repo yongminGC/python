{
  "nbformat": 4,
  "nbformat_minor": 0,
  "metadata": {
    "colab": {
      "name": "14장_(실습용)_클래스와 객체.ipynb",
      "provenance": [],
      "collapsed_sections": [],
      "authorship_tag": "ABX9TyN/z52xQ09DwCGb8Hn0k3j9",
      "include_colab_link": true
    },
    "kernelspec": {
      "name": "python3",
      "display_name": "Python 3"
    },
    "language_info": {
      "name": "python"
    }
  },
  "cells": [
    {
      "cell_type": "markdown",
      "metadata": {
        "id": "view-in-github",
        "colab_type": "text"
      },
      "source": [
        "<a href=\"https://colab.research.google.com/github/teacher-jiejie/Lets-get-it-Python-Lecture/blob/main/14%EC%9E%A5_(%EC%8B%A4%EC%8A%B5%EC%9A%A9)_%ED%81%B4%EB%9E%98%EC%8A%A4%EC%99%80_%EA%B0%9D%EC%B2%B4.ipynb\" target=\"_parent\"><img src=\"https://colab.research.google.com/assets/colab-badge.svg\" alt=\"Open In Colab\"/></a>"
      ]
    },
    {
      "cell_type": "markdown",
      "metadata": {
        "id": "5p1E9T4yglX8"
      },
      "source": [
        "# 1. 클래스와 객체 \n",
        "<img src = 'https://github.com/teacher-jiejie/allinone_AI/blob/images/128_%ED%81%B4%EB%9E%98%EC%8A%A4%EC%99%80%20%EA%B0%9D%EC%B2%B4.png?raw=true' width=700 >\n",
        "<br/>\n",
        "객체는 인스턴스라고도 함.\n",
        "\n",
        "<br/>\n",
        "\n",
        "### 속성과 메서드 \n",
        "<img src = 'https://github.com/teacher-jiejie/allinone_AI/blob/images/129_%E1%84%86%E1%85%A6%E1%84%89%E1%85%A5%E1%84%83%E1%85%B3%E1%84%8B%E1%85%AA%20%E1%84%89%E1%85%A9%E1%86%A8%E1%84%89%E1%85%A5%E1%86%BC.png?raw=true' width=500>\n",
        "\n",
        "<br/>\n",
        "\n",
        "### 클래스 생성하기 \n",
        "\n",
        "```\n",
        "class 클래스이름 : \n",
        "    def __init__(self, a, b) :\n",
        "        속성1 = a\n",
        "        속성2 = b\n",
        "\n",
        "    def 메서드1() : \n",
        "\n",
        "    def 메서드2() : \n",
        "\n",
        "```\n",
        "\n",
        "### 객체 생성하기\n",
        "\n",
        "\n",
        "```\n",
        "객체이름 = 클래스이름()\n",
        "```\n",
        "\n",
        "\n",
        "\n"
      ]
    },
    {
      "cell_type": "code",
      "metadata": {
        "id": "OrsSfENYgPAA"
      },
      "source": [
        "# 캐릭터 클래스 생성하기\n"
      ],
      "execution_count": null,
      "outputs": []
    },
    {
      "cell_type": "code",
      "metadata": {
        "id": "yO5E5rpFqVxX"
      },
      "source": [
        "# 검술사 객체 생성하기\n"
      ],
      "execution_count": null,
      "outputs": []
    },
    {
      "cell_type": "markdown",
      "metadata": {
        "id": "7mkdxGx3qyR3"
      },
      "source": [
        "<img src='https://github.com/teacher-jiejie/allinone_AI/blob/images/130_%EA%B0%9D%EC%B2%B4%20%ED%95%9C%EA%B0%9C.png?raw=true' width=600>"
      ]
    },
    {
      "cell_type": "code",
      "metadata": {
        "id": "-K901lwbqYjd"
      },
      "source": [
        ""
      ],
      "execution_count": null,
      "outputs": []
    },
    {
      "cell_type": "code",
      "metadata": {
        "id": "U28LE5gmq47d"
      },
      "source": [
        "# 요정 객체 만들기\n",
        "\n",
        "# 도적 객체 만들기\n"
      ],
      "execution_count": null,
      "outputs": []
    },
    {
      "cell_type": "markdown",
      "metadata": {
        "id": "nXXYwgjkrUii"
      },
      "source": [
        "<img src='https://github.com/teacher-jiejie/allinone_AI/blob/images/131_%EA%B0%9D%EC%B2%B4%20%EC%84%B8%EA%B0%9C.png?raw=true' width=600>"
      ]
    },
    {
      "cell_type": "markdown",
      "metadata": {
        "id": "3ct9RrLgrbeE"
      },
      "source": [
        "### 객체가 메서드를 실행 \n",
        "\n",
        "\n",
        "```\n",
        "객체이름.메서드()\n",
        "```\n",
        "\n"
      ]
    },
    {
      "cell_type": "code",
      "metadata": {
        "id": "ism8UyqyrBX9"
      },
      "source": [
        "# 검술사가 hi()를 실행\n"
      ],
      "execution_count": null,
      "outputs": []
    },
    {
      "cell_type": "markdown",
      "metadata": {
        "id": "T772s419rqWR"
      },
      "source": [
        "* 메서드 호출 시에는 객체 이름이 \"자동으로\" 인자로 전달됨\n",
        "\n",
        "* 따라서, 메서드 정의 시, 자동으로 넘어오는 인자(객체)를 받을 매개변수가 필요 \n",
        "\n",
        "* 객체를 전달받는 변수는 파이썬에서 self를 사용\n",
        "\n"
      ]
    },
    {
      "cell_type": "code",
      "metadata": {
        "id": "M0uCNG91rmJE"
      },
      "source": [
        ""
      ],
      "execution_count": null,
      "outputs": []
    },
    {
      "cell_type": "markdown",
      "metadata": {
        "id": "H2ye09S8tN9i"
      },
      "source": [
        "<img src='https://github.com/teacher-jiejie/allinone_AI/blob/images/132_%EB%A9%94%EC%84%9C%EB%93%9Cself.png?raw=true' width=300>"
      ]
    },
    {
      "cell_type": "code",
      "metadata": {
        "id": "xWipZYRKtAZV"
      },
      "source": [
        "# 다음 코드에서 self로 전달되는 인자는?\n"
      ],
      "execution_count": null,
      "outputs": []
    },
    {
      "cell_type": "code",
      "metadata": {
        "id": "xMAzNHhmteGA"
      },
      "source": [
        "# 메서드 hi()에 매개변수 name 추가하기\n"
      ],
      "execution_count": null,
      "outputs": []
    },
    {
      "cell_type": "markdown",
      "metadata": {
        "id": "Zjk1EYYBt6j2"
      },
      "source": [
        "<img src='https://github.com/teacher-jiejie/allinone_AI/blob/images/133_%EB%A9%94%EC%84%9C%EB%93%9C_%EB%A7%A4%EA%B0%9C%EB%B3%80%EC%88%98.png?raw=true' width=300>"
      ]
    },
    {
      "cell_type": "code",
      "metadata": {
        "id": "v5r8T1tetrxo"
      },
      "source": [
        ""
      ],
      "execution_count": null,
      "outputs": []
    },
    {
      "cell_type": "code",
      "metadata": {
        "id": "IuSBLFCNtu1K"
      },
      "source": [
        "# Character 클래스에 메서드 attack() 추가\n"
      ],
      "execution_count": null,
      "outputs": []
    },
    {
      "cell_type": "markdown",
      "metadata": {
        "id": "FHSM50C7uavQ"
      },
      "source": [
        "# 2. 생성자와 인스턴스 속성\n",
        "\n",
        "인스턴스 속성 = 객체가 가지는 속성\n",
        "\n",
        "```\n",
        "객체이름.속성\n",
        "```\n",
        "\n",
        "<img src='https://github.com/teacher-jiejie/allinone_AI/blob/images/135_%EC%9D%B8%EC%8A%A4%ED%84%B4%EC%8A%A4%20%EC%86%8D%EC%84%B1.png?raw=true' width=800>\n",
        "\n",
        "### 각 객체가 생성될 때 속성에 개별적인 값이 저장되어야 한다. -> 생성자가 필요\n",
        "\n",
        "* 검술사라는 객체가 만들어질 때 체력에는 100, 공격력에는 10을 넣어 만들어야 함\n",
        "* 요정 객체를 만들 때 체력에는 60, 공격력에는 5를 넣어 만들어야 함\n",
        "* 도적을 만들 때는 체력에 85, 공격력에는 8을 넣어 생성해야 함\n",
        "\n",
        "<br/>\n",
        "\n",
        "## 생성자 \\_\\_init__()\n",
        "\n",
        "* 생성자는 메서드의 한 종류\n",
        "* 객체가 생성될 때 자동으로 실행되는 메서드\n",
        "* 객체의 속성(인스턴스 속성)을 세팅할 때 유용\n",
        "* 메서드 이름은 항상 \\_\\_init__()으로 함\n",
        "* 객체가 생성될 때 속성값을 전달하면 자동으로 인스턴스 속성에 전달받은 값을 세팅\n",
        "\n",
        "\n"
      ]
    },
    {
      "cell_type": "code",
      "metadata": {
        "id": "uQZewwJpuVzW"
      },
      "source": [
        ""
      ],
      "execution_count": null,
      "outputs": []
    },
    {
      "cell_type": "code",
      "metadata": {
        "id": "Jt-l23Og1CnO"
      },
      "source": [
        ""
      ],
      "execution_count": null,
      "outputs": []
    },
    {
      "cell_type": "code",
      "metadata": {
        "id": "qNtM0JBf1FEd"
      },
      "source": [
        ""
      ],
      "execution_count": null,
      "outputs": []
    },
    {
      "cell_type": "code",
      "metadata": {
        "id": "Go1WyhaE1I9V"
      },
      "source": [
        "# 인스턴스 속성을 알려주는 메서드 information() 추가\n"
      ],
      "execution_count": null,
      "outputs": []
    },
    {
      "cell_type": "code",
      "metadata": {
        "id": "ywTdSvGp1c5P"
      },
      "source": [
        ""
      ],
      "execution_count": null,
      "outputs": []
    },
    {
      "cell_type": "code",
      "metadata": {
        "id": "jXiiZg1x1iqt"
      },
      "source": [
        ""
      ],
      "execution_count": null,
      "outputs": []
    },
    {
      "cell_type": "code",
      "metadata": {
        "id": "r7nez-dz1mee"
      },
      "source": [
        "\n",
        "# 인스턴스의 속성 변경하기\n",
        "\n",
        "\n",
        "# 검술사 체력을 120, 공격력은 15으로 변경\n"
      ],
      "execution_count": null,
      "outputs": []
    },
    {
      "cell_type": "markdown",
      "metadata": {
        "id": "64UJohxP2OIP"
      },
      "source": [
        "# 3. 메서드의 매개변수로 객체 전달하기\n",
        "\n",
        "한 캐릭터가 다른 캐릭터를 공격해 체력이 감소되는 상황"
      ]
    },
    {
      "cell_type": "code",
      "metadata": {
        "id": "Rp1FCzW_15bE"
      },
      "source": [
        "# 인스턴스 속성을 알려주는 메서드 information() 추가\n"
      ],
      "execution_count": null,
      "outputs": []
    },
    {
      "cell_type": "code",
      "metadata": {
        "id": "qlLv0qFs3njm"
      },
      "source": [
        "# 검술사, 요정, 도적 객체 생성\n"
      ],
      "execution_count": null,
      "outputs": []
    },
    {
      "cell_type": "code",
      "metadata": {
        "id": "mGXl2kvW3p1L"
      },
      "source": [
        "# 검술사가 요정 공격\n"
      ],
      "execution_count": null,
      "outputs": []
    },
    {
      "cell_type": "code",
      "metadata": {
        "id": "0m3fox5p3rr2"
      },
      "source": [
        "# 도적이 검술사 공격\n"
      ],
      "execution_count": null,
      "outputs": []
    },
    {
      "cell_type": "code",
      "metadata": {
        "id": "9hrdeAeG3w1L"
      },
      "source": [
        "# 요정이 도적 공격\n"
      ],
      "execution_count": null,
      "outputs": []
    },
    {
      "cell_type": "markdown",
      "metadata": {
        "id": "FHV3_NHF4T9d"
      },
      "source": [
        "# 4. 온라인 쇼핑 프로그램 작성하기\n",
        "\n",
        "### 1) 상품 클래스\n",
        "<img src= 'https://github.com/teacher-jiejie/allinone_AI/blob/images/136_product%ED%81%B4%EB%9E%98%EC%8A%A4.png?raw=true' width=600>"
      ]
    },
    {
      "cell_type": "code",
      "metadata": {
        "id": "KNbPjHOf5rux"
      },
      "source": [
        ""
      ],
      "execution_count": null,
      "outputs": []
    },
    {
      "cell_type": "markdown",
      "metadata": {
        "id": "44dA0USf5ruy"
      },
      "source": [
        "### 2) 회원 클래스\n",
        "\n",
        "<img src='https://github.com/teacher-jiejie/allinone_AI/blob/images/137_member%ED%81%B4%EB%9E%98%EC%8A%A4.png?raw=true' width=600>"
      ]
    },
    {
      "cell_type": "code",
      "metadata": {
        "id": "Fu50nhAA5ruy"
      },
      "source": [
        ""
      ],
      "execution_count": null,
      "outputs": []
    },
    {
      "cell_type": "code",
      "metadata": {
        "id": "-Vi6UMGp5ruz"
      },
      "source": [
        "# 물건 등록\n",
        "\n",
        "\n",
        "# 회원가입\n"
      ],
      "execution_count": null,
      "outputs": []
    },
    {
      "cell_type": "code",
      "metadata": {
        "id": "hrIPXqlK5ru0"
      },
      "source": [
        ""
      ],
      "execution_count": null,
      "outputs": []
    },
    {
      "cell_type": "code",
      "metadata": {
        "id": "MwJ2A1of6SeB"
      },
      "source": [
        ""
      ],
      "execution_count": null,
      "outputs": []
    },
    {
      "cell_type": "code",
      "metadata": {
        "id": "ueZWTp5w6OHW"
      },
      "source": [
        ""
      ],
      "execution_count": null,
      "outputs": []
    },
    {
      "cell_type": "code",
      "metadata": {
        "id": "805IoFDc6dK4"
      },
      "source": [
        ""
      ],
      "execution_count": null,
      "outputs": []
    },
    {
      "cell_type": "code",
      "metadata": {
        "id": "jVOLeyiM6fqC"
      },
      "source": [
        ""
      ],
      "execution_count": null,
      "outputs": []
    },
    {
      "cell_type": "code",
      "metadata": {
        "id": "2mAwasvu6j5C"
      },
      "source": [
        ""
      ],
      "execution_count": null,
      "outputs": []
    },
    {
      "cell_type": "code",
      "metadata": {
        "id": "tRHt6OIR6mhB"
      },
      "source": [
        "# 새로운 물건 입고\n"
      ],
      "execution_count": null,
      "outputs": []
    },
    {
      "cell_type": "code",
      "metadata": {
        "id": "xw-5G_Ts6tw-"
      },
      "source": [
        ""
      ],
      "execution_count": null,
      "outputs": []
    }
  ]
}