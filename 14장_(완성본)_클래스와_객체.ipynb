{
  "nbformat": 4,
  "nbformat_minor": 0,
  "metadata": {
    "colab": {
      "name": "14장_(완성본)_클래스와 객체.ipynb",
      "provenance": [],
      "collapsed_sections": [],
      "authorship_tag": "ABX9TyPd22rqUF7mREIkAn3enJvK",
      "include_colab_link": true
    },
    "kernelspec": {
      "name": "python3",
      "display_name": "Python 3"
    },
    "language_info": {
      "name": "python"
    }
  },
  "cells": [
    {
      "cell_type": "markdown",
      "metadata": {
        "id": "view-in-github",
        "colab_type": "text"
      },
      "source": [
        "<a href=\"https://colab.research.google.com/github/teacher-jiejie/Lets-get-it-Python-Lecture/blob/main/14%EC%9E%A5_(%EC%99%84%EC%84%B1%EB%B3%B8)_%ED%81%B4%EB%9E%98%EC%8A%A4%EC%99%80_%EA%B0%9D%EC%B2%B4.ipynb\" target=\"_parent\"><img src=\"https://colab.research.google.com/assets/colab-badge.svg\" alt=\"Open In Colab\"/></a>"
      ]
    },
    {
      "cell_type": "markdown",
      "metadata": {
        "id": "5p1E9T4yglX8"
      },
      "source": [
        "# 1. 클래스와 객체 \n",
        "<img src = 'https://github.com/teacher-jiejie/allinone_AI/blob/images/128_%ED%81%B4%EB%9E%98%EC%8A%A4%EC%99%80%20%EA%B0%9D%EC%B2%B4.png?raw=true' width=700 >\n",
        "<br/>\n",
        "객체는 인스턴스라고도 함.\n",
        "\n",
        "<br/>\n",
        "\n",
        "### 속성과 메서드 \n",
        "<img src = 'https://github.com/teacher-jiejie/allinone_AI/blob/images/129_%E1%84%86%E1%85%A6%E1%84%89%E1%85%A5%E1%84%83%E1%85%B3%E1%84%8B%E1%85%AA%20%E1%84%89%E1%85%A9%E1%86%A8%E1%84%89%E1%85%A5%E1%86%BC.png?raw=true' width=500>\n",
        "\n",
        "<br/>\n",
        "\n",
        "### 클래스 생성하기 \n",
        "\n",
        "```\n",
        "class 클래스이름 : \n",
        "    def __init__(self, a, b) :\n",
        "        속성1 = a\n",
        "        속성2 = b\n",
        "\n",
        "    def 메서드1() : \n",
        "\n",
        "    def 메서드2() : \n",
        "\n",
        "```\n",
        "\n",
        "### 객체 생성하기\n",
        "\n",
        "\n",
        "```\n",
        "객체이름 = 클래스이름()\n",
        "```\n",
        "\n",
        "\n",
        "\n"
      ]
    },
    {
      "cell_type": "code",
      "metadata": {
        "id": "OrsSfENYgPAA"
      },
      "source": [
        "# 캐릭터 클래스 생성하기\n",
        "class Character: \n",
        "    def hi(): \n",
        "        print('안녕하세요')"
      ],
      "execution_count": null,
      "outputs": []
    },
    {
      "cell_type": "code",
      "metadata": {
        "id": "yO5E5rpFqVxX"
      },
      "source": [
        "# 검술사 객체 생성하기\n",
        "swordsman = Character()"
      ],
      "execution_count": null,
      "outputs": []
    },
    {
      "cell_type": "markdown",
      "metadata": {
        "id": "7mkdxGx3qyR3"
      },
      "source": [
        "<img src='https://github.com/teacher-jiejie/allinone_AI/blob/images/130_%EA%B0%9D%EC%B2%B4%20%ED%95%9C%EA%B0%9C.png?raw=true' width=600>"
      ]
    },
    {
      "cell_type": "code",
      "metadata": {
        "colab": {
          "base_uri": "https://localhost:8080/"
        },
        "id": "-K901lwbqYjd",
        "outputId": "51829335-00d1-4b72-dbbf-8393665dc882"
      },
      "source": [
        "type(swordsman)"
      ],
      "execution_count": null,
      "outputs": [
        {
          "output_type": "execute_result",
          "data": {
            "text/plain": [
              "__main__.Character"
            ]
          },
          "metadata": {
            "tags": []
          },
          "execution_count": 3
        }
      ]
    },
    {
      "cell_type": "code",
      "metadata": {
        "id": "U28LE5gmq47d"
      },
      "source": [
        "# 요정 객체 만들기\n",
        "fairy = Character()\n",
        "\n",
        "# 도적 객체 만들기\n",
        "thief = Character()"
      ],
      "execution_count": null,
      "outputs": []
    },
    {
      "cell_type": "markdown",
      "metadata": {
        "id": "nXXYwgjkrUii"
      },
      "source": [
        "<img src='https://github.com/teacher-jiejie/allinone_AI/blob/images/131_%EA%B0%9D%EC%B2%B4%20%EC%84%B8%EA%B0%9C.png?raw=true' width=600>"
      ]
    },
    {
      "cell_type": "markdown",
      "metadata": {
        "id": "3ct9RrLgrbeE"
      },
      "source": [
        "### 객체가 메서드를 실행 \n",
        "\n",
        "\n",
        "```\n",
        "객체이름.메서드()\n",
        "```\n",
        "\n"
      ]
    },
    {
      "cell_type": "code",
      "metadata": {
        "colab": {
          "base_uri": "https://localhost:8080/",
          "height": 188
        },
        "id": "ism8UyqyrBX9",
        "outputId": "6c4c82a2-cbf5-4927-df1e-b19c7e5e958e"
      },
      "source": [
        "# 검술사가 hi()를 실행\n",
        "swordsman.hi()"
      ],
      "execution_count": null,
      "outputs": [
        {
          "output_type": "error",
          "ename": "TypeError",
          "evalue": "ignored",
          "traceback": [
            "\u001b[0;31m---------------------------------------------------------------------------\u001b[0m",
            "\u001b[0;31mTypeError\u001b[0m                                 Traceback (most recent call last)",
            "\u001b[0;32m<ipython-input-7-81970ac6da94>\u001b[0m in \u001b[0;36m<module>\u001b[0;34m()\u001b[0m\n\u001b[1;32m      1\u001b[0m \u001b[0;31m# 검술사가 hi()를 실행\u001b[0m\u001b[0;34m\u001b[0m\u001b[0;34m\u001b[0m\u001b[0;34m\u001b[0m\u001b[0m\n\u001b[0;32m----> 2\u001b[0;31m \u001b[0mswordsman\u001b[0m\u001b[0;34m.\u001b[0m\u001b[0mhi\u001b[0m\u001b[0;34m(\u001b[0m\u001b[0;34m)\u001b[0m\u001b[0;34m\u001b[0m\u001b[0;34m\u001b[0m\u001b[0m\n\u001b[0m",
            "\u001b[0;31mTypeError\u001b[0m: hi() takes 0 positional arguments but 1 was given"
          ]
        }
      ]
    },
    {
      "cell_type": "markdown",
      "metadata": {
        "id": "T772s419rqWR"
      },
      "source": [
        "* 메서드 호출 시에는 객체 이름이 \"자동으로\" 인자로 전달됨\n",
        "\n",
        "* 따라서, 메서드 정의 시, 자동으로 넘어오는 인자(객체)를 받을 매개변수가 필요 \n",
        "\n",
        "* 객체를 전달받는 변수는 파이썬에서 self를 사용\n",
        "\n"
      ]
    },
    {
      "cell_type": "code",
      "metadata": {
        "colab": {
          "base_uri": "https://localhost:8080/"
        },
        "id": "M0uCNG91rmJE",
        "outputId": "5b5efc63-8574-443c-af57-0e1d4e929d8c"
      },
      "source": [
        "class Character: \n",
        "    def hi(self): \n",
        "        print('안녕하세요')\n",
        "\n",
        "swordsman = Character()\n",
        "swordsman.hi()"
      ],
      "execution_count": null,
      "outputs": [
        {
          "output_type": "stream",
          "text": [
            "안녕하세요\n"
          ],
          "name": "stdout"
        }
      ]
    },
    {
      "cell_type": "markdown",
      "metadata": {
        "id": "H2ye09S8tN9i"
      },
      "source": [
        "<img src='https://github.com/teacher-jiejie/allinone_AI/blob/images/132_%EB%A9%94%EC%84%9C%EB%93%9Cself.png?raw=true' width=300>"
      ]
    },
    {
      "cell_type": "code",
      "metadata": {
        "colab": {
          "base_uri": "https://localhost:8080/"
        },
        "id": "xWipZYRKtAZV",
        "outputId": "c279a8e3-0dd2-49a9-a242-67d42b786e6a"
      },
      "source": [
        "# 다음 코드에서 self로 전달되는 인자는?\n",
        "fairy = Character()\n",
        "fairy.hi()"
      ],
      "execution_count": null,
      "outputs": [
        {
          "output_type": "stream",
          "text": [
            "안녕하세요\n"
          ],
          "name": "stdout"
        }
      ]
    },
    {
      "cell_type": "code",
      "metadata": {
        "colab": {
          "base_uri": "https://localhost:8080/"
        },
        "id": "xMAzNHhmteGA",
        "outputId": "eb0dfddd-ccc1-4d96-ae82-7730c61c891a"
      },
      "source": [
        "# 메서드 hi()에 매개변수 name 추가하기\n",
        "class Character: \n",
        "    def hi(self, name): \n",
        "        print('안녕! 난', name)\n",
        "\n",
        "swordsman = Character()\n",
        "swordsman.hi('검술사')"
      ],
      "execution_count": null,
      "outputs": [
        {
          "output_type": "stream",
          "text": [
            "안녕! 난 검술사\n"
          ],
          "name": "stdout"
        }
      ]
    },
    {
      "cell_type": "markdown",
      "metadata": {
        "id": "Zjk1EYYBt6j2"
      },
      "source": [
        "<img src='https://github.com/teacher-jiejie/allinone_AI/blob/images/133_%EB%A9%94%EC%84%9C%EB%93%9C_%EB%A7%A4%EA%B0%9C%EB%B3%80%EC%88%98.png?raw=true' width=300>"
      ]
    },
    {
      "cell_type": "code",
      "metadata": {
        "colab": {
          "base_uri": "https://localhost:8080/"
        },
        "id": "v5r8T1tetrxo",
        "outputId": "15500f95-8cb0-4642-be83-379d3f260a74"
      },
      "source": [
        "fairy = Character()\n",
        "fairy.hi('요정')\n",
        "\n",
        "thief = Character()\n",
        "thief.hi('도적')"
      ],
      "execution_count": null,
      "outputs": [
        {
          "output_type": "stream",
          "text": [
            "안녕! 난 요정\n",
            "안녕! 난 도적\n"
          ],
          "name": "stdout"
        }
      ]
    },
    {
      "cell_type": "code",
      "metadata": {
        "colab": {
          "base_uri": "https://localhost:8080/"
        },
        "id": "IuSBLFCNtu1K",
        "outputId": "6a5dca5f-a2b8-42e5-9860-9513f1691b79"
      },
      "source": [
        "# Character 클래스에 메서드 attack() 추가\n",
        "class Character: \n",
        "    def hi(self, name): \n",
        "        print('안녕! 난', name)\n",
        "\n",
        "    def attack(self, target) : \n",
        "        print(target,'을/를 공격합니다!')\n",
        "\n",
        "swordsman = Character()\n",
        "swordsman.hi('검술사')\n",
        "swordsman.attack('도적')\n",
        "swordsman.attack('요정')"
      ],
      "execution_count": null,
      "outputs": [
        {
          "output_type": "stream",
          "text": [
            "안녕! 난 검술사\n",
            "도적 을/를 공격합니다!\n",
            "요정 을/를 공격합니다!\n"
          ],
          "name": "stdout"
        }
      ]
    },
    {
      "cell_type": "markdown",
      "metadata": {
        "id": "FHSM50C7uavQ"
      },
      "source": [
        "# 2. 생성자와 인스턴스 속성\n",
        "\n",
        "인스턴스 속성 = 객체가 가지는 속성\n",
        "\n",
        "```\n",
        "객체이름.속성\n",
        "```\n",
        "\n",
        "<img src='https://github.com/teacher-jiejie/allinone_AI/blob/images/135_%EC%9D%B8%EC%8A%A4%ED%84%B4%EC%8A%A4%20%EC%86%8D%EC%84%B1.png?raw=true' width=800>\n",
        "\n",
        "### 각 객체가 생성될 때 속성에 개별적인 값이 저장되어야 한다. -> 생성자가 필요\n",
        "\n",
        "* 검술사라는 객체가 만들어질 때 체력에는 100, 공격력에는 10을 넣어 만들어야 함\n",
        "* 요정 객체를 만들 때 체력에는 60, 공격력에는 5를 넣어 만들어야 함\n",
        "* 도적을 만들 때는 체력에 85, 공격력에는 8을 넣어 생성해야 함\n",
        "\n",
        "<br/>\n",
        "\n",
        "## 생성자 \\_\\_init__()\n",
        "\n",
        "* 생성자는 메서드의 한 종류\n",
        "* 객체가 생성될 때 자동으로 실행되는 메서드\n",
        "* 객체의 속성(인스턴스 속성)을 세팅할 때 유용\n",
        "* 메서드 이름은 항상 \\_\\_init__()으로 함\n",
        "* 객체가 생성될 때 속성값을 전달하면 자동으로 인스턴스 속성에 전달받은 값을 세팅\n",
        "\n",
        "\n"
      ]
    },
    {
      "cell_type": "code",
      "metadata": {
        "id": "uQZewwJpuVzW"
      },
      "source": [
        "class Character: \n",
        "    # name(이름), strength(체력), attack_damage(공격력)을 가지는 캐릭터 클래스 \n",
        "    def __init__(self, name, hp, ad) : \n",
        "        self.name = name\n",
        "        self.strength = hp\n",
        "        self.attack_damage = ad\n",
        "        print('Chracter 클래스의 객체 생성 =>', self.name)\n",
        "\n",
        "    def attack(self, target) : \n",
        "        print(target,'을/를 공격합니다!')"
      ],
      "execution_count": null,
      "outputs": []
    },
    {
      "cell_type": "code",
      "metadata": {
        "colab": {
          "base_uri": "https://localhost:8080/",
          "height": 170
        },
        "id": "Jt-l23Og1CnO",
        "outputId": "937bbe73-be9d-45d4-95fb-6f5b307577e9"
      },
      "source": [
        "swordsman = Character()"
      ],
      "execution_count": null,
      "outputs": [
        {
          "output_type": "error",
          "ename": "TypeError",
          "evalue": "ignored",
          "traceback": [
            "\u001b[0;31m---------------------------------------------------------------------------\u001b[0m",
            "\u001b[0;31mTypeError\u001b[0m                                 Traceback (most recent call last)",
            "\u001b[0;32m<ipython-input-16-3ddf31a7a6fe>\u001b[0m in \u001b[0;36m<module>\u001b[0;34m()\u001b[0m\n\u001b[0;32m----> 1\u001b[0;31m \u001b[0mswordsman\u001b[0m \u001b[0;34m=\u001b[0m \u001b[0mCharacter\u001b[0m\u001b[0;34m(\u001b[0m\u001b[0;34m)\u001b[0m\u001b[0;34m\u001b[0m\u001b[0;34m\u001b[0m\u001b[0m\n\u001b[0m",
            "\u001b[0;31mTypeError\u001b[0m: __init__() missing 3 required positional arguments: 'name', 'hp', and 'ad'"
          ]
        }
      ]
    },
    {
      "cell_type": "code",
      "metadata": {
        "colab": {
          "base_uri": "https://localhost:8080/"
        },
        "id": "qNtM0JBf1FEd",
        "outputId": "db7a1fda-3f50-4a74-b260-d43eaa8c8ee2"
      },
      "source": [
        "swordsman = Character('검술사', 100, 10)"
      ],
      "execution_count": null,
      "outputs": [
        {
          "output_type": "stream",
          "text": [
            "Chracter 클래스의 객체 생성 => 검술사\n"
          ],
          "name": "stdout"
        }
      ]
    },
    {
      "cell_type": "code",
      "metadata": {
        "id": "Go1WyhaE1I9V"
      },
      "source": [
        "# 인스턴스 속성을 알려주는 메서드 information() 추가\n",
        "class Character: \n",
        "    # name(이름), strength(체력), attack_damage(공격력)을 가지는 캐릭터 클래스 \n",
        "    def __init__(self, name, hp, ad) : \n",
        "        self.name = name\n",
        "        self.strength = hp\n",
        "        self.attack_damage = ad\n",
        "        print('Chracter 클래스의 객체 생성 =>', self.name)\n",
        "\n",
        "    def information(self) : \n",
        "        print('이름 =>', self.name, ', 체력 =>', self.strength,\n",
        "              ', 공격력 =>', self.attack_damage)\n",
        "\n",
        "    def attack(self, target) : \n",
        "        print(target,'을/를 공격합니다!')"
      ],
      "execution_count": null,
      "outputs": []
    },
    {
      "cell_type": "code",
      "metadata": {
        "colab": {
          "base_uri": "https://localhost:8080/"
        },
        "id": "ywTdSvGp1c5P",
        "outputId": "ebd512cc-3826-4221-c66f-75337a73843e"
      },
      "source": [
        "swordsman = Character('검술사', 100, 10)\n",
        "swordsman.information()"
      ],
      "execution_count": null,
      "outputs": [
        {
          "output_type": "stream",
          "text": [
            "Chracter 클래스의 객체 생성 => 검술사\n",
            "이름 => 검술사 , 체력 => 100 , 공격력 => 10\n"
          ],
          "name": "stdout"
        }
      ]
    },
    {
      "cell_type": "code",
      "metadata": {
        "colab": {
          "base_uri": "https://localhost:8080/"
        },
        "id": "jXiiZg1x1iqt",
        "outputId": "2745b76c-6482-495a-96ae-2c567c011c2d"
      },
      "source": [
        "fairy = Character('요정', 60, 5)\n",
        "fairy.information()\n",
        "\n",
        "thief = Character('도적', 85, 8)\n",
        "thief.information()\n"
      ],
      "execution_count": null,
      "outputs": [
        {
          "output_type": "stream",
          "text": [
            "Chracter 클래스의 객체 생성 => 요정\n",
            "이름 => 요정 , 체력 => 60 , 공격력 => 5\n",
            "Chracter 클래스의 객체 생성 => 도적\n",
            "이름 => 도적 , 체력 => 85 , 공격력 => 8\n"
          ],
          "name": "stdout"
        }
      ]
    },
    {
      "cell_type": "code",
      "metadata": {
        "colab": {
          "base_uri": "https://localhost:8080/"
        },
        "id": "r7nez-dz1mee",
        "outputId": "4750f122-0974-431d-c789-b9867996a873"
      },
      "source": [
        "print('변경 전 --------------')\n",
        "swordsman.information()\n",
        "\n",
        "# 인스턴스의 속성 변경하기\n",
        "swordsman.strength = 120\n",
        "swordsman.attack_damage = 15\n",
        "\n",
        "# 검술사 체력을 120, 공격력은 15으로 변경\n",
        "print('변경 후 --------------')\n",
        "swordsman.information()"
      ],
      "execution_count": null,
      "outputs": [
        {
          "output_type": "stream",
          "text": [
            "변경 전 --------------\n",
            "이름 => 검술사 , 체력 => 100 , 공격력 => 10\n",
            "변경 후 --------------\n",
            "이름 => 검술사 , 체력 => 120 , 공격력 => 15\n"
          ],
          "name": "stdout"
        }
      ]
    },
    {
      "cell_type": "markdown",
      "metadata": {
        "id": "64UJohxP2OIP"
      },
      "source": [
        "# 3. 메서드의 매개변수로 객체 전달하기\n",
        "\n",
        "한 캐릭터가 다른 캐릭터를 공격해 체력이 감소되는 상황"
      ]
    },
    {
      "cell_type": "code",
      "metadata": {
        "id": "Rp1FCzW_15bE"
      },
      "source": [
        "class Character: \n",
        "    # name(이름), strength(체력), attack_damage(공격력)을 가지는 캐릭터 클래스 \n",
        "    def __init__(self, name, hp, ad) : \n",
        "        self.name = name\n",
        "        self.strength = hp\n",
        "        self.attack_damage = ad\n",
        "        print('Chracter 클래스의 객체 생성 =>', self.name)\n",
        "\n",
        "    def information(self) : \n",
        "        print('이름 =>', self.name, ', 체력 =>', self.strength,\n",
        "              ', 공격력 =>', self.attack_damage)\n",
        "\n",
        "    # target에 공격 대상(객체)를 전달\n",
        "    def attack(self, target) : \n",
        "        # 공격 주체와 대상을 출력\n",
        "        print(self.name,'이/가',target.name,'(',target.strength,')','을/를 공격합니다!')\n",
        "        # 공격받은 대상의 체력을 공격력만큼 감소\n",
        "        target.strength -= self.attack_damage\n",
        "        print('공격성공!',target.name,'(',target.strength,')')"
      ],
      "execution_count": null,
      "outputs": []
    },
    {
      "cell_type": "code",
      "metadata": {
        "colab": {
          "base_uri": "https://localhost:8080/"
        },
        "id": "qlLv0qFs3njm",
        "outputId": "3ab269db-ca35-4569-a2c0-e254f7f467a1"
      },
      "source": [
        "# 검술사, 요정, 도적 객체 생성\n",
        "swordsman = Character('검술사', 100, 10)\n",
        "fairy = Character('요정', 60, 5)\n",
        "thief = Character('도적', 85, 8)\n"
      ],
      "execution_count": null,
      "outputs": [
        {
          "output_type": "stream",
          "text": [
            "Chracter 클래스의 객체 생성 => 검술사\n",
            "Chracter 클래스의 객체 생성 => 요정\n",
            "Chracter 클래스의 객체 생성 => 도적\n"
          ],
          "name": "stdout"
        }
      ]
    },
    {
      "cell_type": "code",
      "metadata": {
        "colab": {
          "base_uri": "https://localhost:8080/"
        },
        "id": "mGXl2kvW3p1L",
        "outputId": "d5defbee-eb0d-4a61-9ce2-2a026df12d7e"
      },
      "source": [
        "# 검술사가 요정 공격\n",
        "swordsman.attack(fairy)"
      ],
      "execution_count": null,
      "outputs": [
        {
          "output_type": "stream",
          "text": [
            "검술사 이/가 요정 ( 60 ) 을/를 공격합니다!\n",
            "공격성공! 요정 ( 50 )\n"
          ],
          "name": "stdout"
        }
      ]
    },
    {
      "cell_type": "code",
      "metadata": {
        "colab": {
          "base_uri": "https://localhost:8080/"
        },
        "id": "0m3fox5p3rr2",
        "outputId": "96376f88-9c83-40d3-ded6-92af7ca6c19b"
      },
      "source": [
        "# 도적이 검술사 공격\n",
        "thief.attack(swordsman)    "
      ],
      "execution_count": null,
      "outputs": [
        {
          "output_type": "stream",
          "text": [
            "도적 이/가 검술사 ( 100 ) 을/를 공격합니다!\n",
            "공격성공! 검술사 ( 92 )\n"
          ],
          "name": "stdout"
        }
      ]
    },
    {
      "cell_type": "code",
      "metadata": {
        "colab": {
          "base_uri": "https://localhost:8080/"
        },
        "id": "9hrdeAeG3w1L",
        "outputId": "c4ab9dd1-4073-434b-98c6-f87c841cd736"
      },
      "source": [
        "# 요정이 도적 공격\n",
        "fairy.attack(thief)        "
      ],
      "execution_count": null,
      "outputs": [
        {
          "output_type": "stream",
          "text": [
            "요정 이/가 도적 ( 85 ) 을/를 공격합니다!\n",
            "공격성공! 도적 ( 80 )\n"
          ],
          "name": "stdout"
        }
      ]
    },
    {
      "cell_type": "markdown",
      "metadata": {
        "id": "FHV3_NHF4T9d"
      },
      "source": [
        "# 4. 온라인 쇼핑 프로그램 작성하기\n",
        "\n",
        "### 1) 상품 클래스\n",
        "<img src= 'https://github.com/teacher-jiejie/allinone_AI/blob/images/136_product%ED%81%B4%EB%9E%98%EC%8A%A4.png?raw=true' width=600>"
      ]
    },
    {
      "cell_type": "code",
      "metadata": {
        "id": "KNbPjHOf5rux"
      },
      "source": [
        "class Product: \n",
        "    def __init__(self, n, p, s): \n",
        "        self.name, self.price, self.stock = n, p, s\n",
        "\n",
        "    def information(self): \n",
        "        print('상품 이름 : ', self.name)\n",
        "        print('상품 가격 : ', self.price)\n",
        "        print('남은 재고 : ', self.stock)\n"
      ],
      "execution_count": null,
      "outputs": []
    },
    {
      "cell_type": "markdown",
      "metadata": {
        "id": "44dA0USf5ruy"
      },
      "source": [
        "### 2) 회원 클래스\n",
        "\n",
        "<img src='https://github.com/teacher-jiejie/allinone_AI/blob/images/137_member%ED%81%B4%EB%9E%98%EC%8A%A4.png?raw=true' width=600>"
      ]
    },
    {
      "cell_type": "code",
      "metadata": {
        "id": "Fu50nhAA5ruy"
      },
      "source": [
        "class Member: \n",
        "    def __init__(self, n, d): \n",
        "        self.name, self.join_date = n, d\n",
        "        self.purchase_list = []\n",
        "        self.purchase_amount = 0\n",
        "\n",
        "    def information(self): \n",
        "        print('회원 이름 :', self.name)\n",
        "        print('가입 날짜 :', self.join_date)\n",
        "        print('구매 내역 :', self.purchase_list)\n",
        "        print('누적 구매금액 :', self.purchase_amount)\n",
        "\n",
        "    # Product 객체가 인자로 전달됨\n",
        "    def buy(self, product, count): \n",
        "        print(self.name, '고객님이', product.name, count, '개 구매!')\n",
        "        product.stock -= count     # 구매 개수만큼 상품 재고 감소\n",
        "        self.purchase_list.append(product.name) # 구매내역에 상품 추가\n",
        "        self.purchase_amount += (product.price * count) # 누적 구매금액 수정\n",
        "\n"
      ],
      "execution_count": null,
      "outputs": []
    },
    {
      "cell_type": "code",
      "metadata": {
        "id": "-Vi6UMGp5ruz"
      },
      "source": [
        "# 물건 등록\n",
        "socks = Product('socks', 1000, 10)\n",
        "books = Product('books', 17500, 15)\n",
        "\n",
        "# 회원가입\n",
        "Anna = Member('Anna', '20200420')\n",
        "Grace = Member('Grace', '20200130')\n"
      ],
      "execution_count": null,
      "outputs": []
    },
    {
      "cell_type": "code",
      "metadata": {
        "colab": {
          "base_uri": "https://localhost:8080/"
        },
        "id": "hrIPXqlK5ru0",
        "outputId": "a7b11865-f1b7-4b8a-f656-9bab75e6160c"
      },
      "source": [
        "Anna.buy(socks, 1)"
      ],
      "execution_count": null,
      "outputs": [
        {
          "output_type": "stream",
          "text": [
            "Anna 고객님이 socks 1 개 구매!\n"
          ],
          "name": "stdout"
        }
      ]
    },
    {
      "cell_type": "code",
      "metadata": {
        "colab": {
          "base_uri": "https://localhost:8080/"
        },
        "id": "MwJ2A1of6SeB",
        "outputId": "f8e0088c-619c-4e9f-e470-f699b1baf73f"
      },
      "source": [
        "Anna.information()"
      ],
      "execution_count": null,
      "outputs": [
        {
          "output_type": "stream",
          "text": [
            "회원 이름 : Anna\n",
            "가입 날짜 : 20200420\n",
            "구매 내역 : ['socks']\n",
            "누적 구매금액 : 1000\n"
          ],
          "name": "stdout"
        }
      ]
    },
    {
      "cell_type": "code",
      "metadata": {
        "colab": {
          "base_uri": "https://localhost:8080/"
        },
        "id": "ueZWTp5w6OHW",
        "outputId": "b14bce8b-a5b7-4cae-995b-9a1313556cbe"
      },
      "source": [
        "socks.information()"
      ],
      "execution_count": null,
      "outputs": [
        {
          "output_type": "stream",
          "text": [
            "상품 이름 :  socks\n",
            "상품 가격 :  1000\n",
            "남은 재고 :  9\n"
          ],
          "name": "stdout"
        }
      ]
    },
    {
      "cell_type": "code",
      "metadata": {
        "colab": {
          "base_uri": "https://localhost:8080/"
        },
        "id": "805IoFDc6dK4",
        "outputId": "4ff544c1-ef98-4684-8475-4b71d67e317c"
      },
      "source": [
        "Grace.buy(books, 2)"
      ],
      "execution_count": null,
      "outputs": [
        {
          "output_type": "stream",
          "text": [
            "Grace 고객님이 books 2 개 구매!\n"
          ],
          "name": "stdout"
        }
      ]
    },
    {
      "cell_type": "code",
      "metadata": {
        "colab": {
          "base_uri": "https://localhost:8080/"
        },
        "id": "jVOLeyiM6fqC",
        "outputId": "b4715f3a-ea7d-4a20-f1f0-f6877ff81c52"
      },
      "source": [
        "books.information()"
      ],
      "execution_count": null,
      "outputs": [
        {
          "output_type": "stream",
          "text": [
            "상품 이름 :  books\n",
            "상품 가격 :  17500\n",
            "남은 재고 :  13\n"
          ],
          "name": "stdout"
        }
      ]
    },
    {
      "cell_type": "code",
      "metadata": {
        "colab": {
          "base_uri": "https://localhost:8080/"
        },
        "id": "2mAwasvu6j5C",
        "outputId": "10c5cd9f-aeca-4d1e-c876-84d2c3ac0cfd"
      },
      "source": [
        "Grace.information()"
      ],
      "execution_count": null,
      "outputs": [
        {
          "output_type": "stream",
          "text": [
            "회원 이름 : Grace\n",
            "가입 날짜 : 20200130\n",
            "구매 내역 : ['books']\n",
            "누적 구매금액 : 35000\n"
          ],
          "name": "stdout"
        }
      ]
    },
    {
      "cell_type": "code",
      "metadata": {
        "colab": {
          "base_uri": "https://localhost:8080/"
        },
        "id": "tRHt6OIR6mhB",
        "outputId": "e4846bba-2c5d-4f9c-c16f-4c68a5c74766"
      },
      "source": [
        "# 새로운 물건 입고\n",
        "pen = Product('pen', 1200, 25)\n",
        "\n",
        "Anna.buy(pen, 5)"
      ],
      "execution_count": null,
      "outputs": [
        {
          "output_type": "stream",
          "text": [
            "Anna 고객님이 pen 5 개 구매!\n"
          ],
          "name": "stdout"
        }
      ]
    },
    {
      "cell_type": "code",
      "metadata": {
        "colab": {
          "base_uri": "https://localhost:8080/"
        },
        "id": "xw-5G_Ts6tw-",
        "outputId": "2f86285c-624c-4216-a301-e7a646295ecd"
      },
      "source": [
        "Anna.information()"
      ],
      "execution_count": null,
      "outputs": [
        {
          "output_type": "stream",
          "text": [
            "회원 이름 : Anna\n",
            "가입 날짜 : 20200420\n",
            "구매 내역 : ['socks', 'pen']\n",
            "누적 구매금액 : 7000\n"
          ],
          "name": "stdout"
        }
      ]
    }
  ]
}