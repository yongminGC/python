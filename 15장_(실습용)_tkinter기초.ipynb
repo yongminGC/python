{
  "nbformat": 4,
  "nbformat_minor": 0,
  "metadata": {
    "colab": {
      "name": "15장_(실습용)_tkinter기초.ipynb",
      "provenance": [],
      "collapsed_sections": [],
      "authorship_tag": "ABX9TyPLRfwiEKnB6QZ9G92knXoj",
      "include_colab_link": true
    },
    "kernelspec": {
      "name": "python3",
      "display_name": "Python 3"
    },
    "language_info": {
      "name": "python"
    }
  },
  "cells": [
    {
      "cell_type": "markdown",
      "metadata": {
        "id": "view-in-github",
        "colab_type": "text"
      },
      "source": [
        "<a href=\"https://colab.research.google.com/github/teacher-jiejie/Lets-get-it-Python-Lecture/blob/main/15%EC%9E%A5_(%EC%8B%A4%EC%8A%B5%EC%9A%A9)_tkinter%EA%B8%B0%EC%B4%88.ipynb\" target=\"_parent\"><img src=\"https://colab.research.google.com/assets/colab-badge.svg\" alt=\"Open In Colab\"/></a>"
      ]
    },
    {
      "cell_type": "markdown",
      "metadata": {
        "id": "Z0V1jnxRsAtw"
      },
      "source": [
        "들어가기 전에\n",
        "<br/>\n",
        "**Tkinter는 주피터 노트북**에서 실습해주세요! 구글 코랩에서는 화면이 보이지 않습니다."
      ]
    },
    {
      "cell_type": "markdown",
      "metadata": {
        "id": "zs2KjfdWsV4J"
      },
      "source": [
        "# 1. GUI란\n",
        "\n",
        "\n",
        "\n",
        "*   UI : 사용자 인터페이스(User Interface) 사용자와 코드 사이를 연결하는 모든 것\n",
        "*   GUI : Graphical User Interface, UI 중 시각적인 부분\n",
        "\n",
        "<br/>\n",
        "\n",
        "< 지금까지 작성한 프로그램 형태 >\n",
        "<br/>\n",
        "<img src = 'https://github.com/teacher-jiejie/allinone_AI/blob/images/138_GUI1.png?raw=true' width=600>\n",
        "\n",
        "<br/>\n",
        "\n",
        "< 사용자화면(GUI)이 중간에 추가된 형태 >\n",
        "<br/>\n",
        "<img src='https://github.com/teacher-jiejie/allinone_AI/blob/images/139_GUI_2.png?raw=true' width=700>\n",
        "\n",
        "<div>Icons made by <a href=\"https://www.freepik.com\" title=\"Freepik\">Freepik</a> from <a href=\"https://www.flaticon.com/\" title=\"Flaticon\">www.flaticon.com</a></div>\n"
      ]
    },
    {
      "cell_type": "markdown",
      "metadata": {
        "id": "thzHeCIZDytX"
      },
      "source": [
        "\n",
        "### 파이썬 표준 GUI, tkinter\n",
        "[python.org의 공식 tkinter 문서](https://docs.python.org/ko/3/library/tkinter.html?highlight=tkinter#module-tkinter )\n",
        ", [TkDocs Tutorial](https://tkdocs.com/tutorial/index.html)\n",
        "\n",
        "\n",
        "<img src='https://github.com/teacher-jiejie/allinone_AI/blob/images/140_GUI_%EB%8F%84%ED%99%94%EC%A7%80.png?raw=true' width=700>\n"
      ]
    },
    {
      "cell_type": "markdown",
      "metadata": {
        "id": "LM__hfHBzZ2r"
      },
      "source": [
        "# 2. tkinter 창 만들어 띄우기\n",
        "\n",
        "\n",
        "\n",
        "```\n",
        "from tkinter import *\n",
        "\n",
        "root = Tk()\n",
        "root.mainloop()\n",
        "```\n",
        "\n"
      ]
    },
    {
      "cell_type": "code",
      "metadata": {
        "id": "fDQ_aQhor-06"
      },
      "source": [
        "\n"
      ],
      "execution_count": null,
      "outputs": []
    },
    {
      "cell_type": "markdown",
      "metadata": {
        "id": "9ngpZ9y-z7T6"
      },
      "source": [
        "<img src='https://github.com/teacher-jiejie/allinone_AI/blob/images/141_root_mainloop.png?raw=true' width=600>\n",
        "\n",
        "\n",
        "\n",
        "```\n",
        "# 창의 제목 표현하기\n",
        "root.title('제목')\n",
        "\n",
        "# 창의 크기 결정하기\n",
        "root.geometry('가로길이x세로길이')\n",
        "```\n",
        "\n"
      ]
    },
    {
      "cell_type": "code",
      "metadata": {
        "id": "EljWrjCfz9xh"
      },
      "source": [
        "\n"
      ],
      "execution_count": null,
      "outputs": []
    },
    {
      "cell_type": "code",
      "metadata": {
        "id": "JeneEm5a_A-l"
      },
      "source": [
        "\n"
      ],
      "execution_count": null,
      "outputs": []
    },
    {
      "cell_type": "markdown",
      "metadata": {
        "id": "j_aHsslFuxmE"
      },
      "source": [
        "# 3. 레이블 Label \n",
        "화면에 표현할 수 있는 다양한 요소들"
      ]
    },
    {
      "cell_type": "markdown",
      "metadata": {
        "id": "cFy2v59JvvJ6"
      },
      "source": [
        "### 3-1. 텍스트 레이블\n",
        "\n",
        "\n",
        "\n",
        "```\n",
        "# 레이블 만들기\n",
        "레이블이름 = Label(창이름, text='표현할 텍스트')\n",
        "\n",
        "# 레이블 위치시키기\n",
        "레이블이름.pack()\n",
        "```\n",
        "\n"
      ]
    },
    {
      "cell_type": "code",
      "metadata": {
        "id": "RFs-ypND_BBB"
      },
      "source": [
        "\n"
      ],
      "execution_count": null,
      "outputs": []
    },
    {
      "cell_type": "code",
      "metadata": {
        "id": "Xno0XD_C_BDr"
      },
      "source": [
        "\n"
      ],
      "execution_count": null,
      "outputs": []
    },
    {
      "cell_type": "markdown",
      "metadata": {
        "id": "5cpG1DuOxLe3"
      },
      "source": [
        "<img src='https://github.com/teacher-jiejie/allinone_AI/blob/images/142_label%EC%98%B5%EC%85%98.png?raw=true' width=400>"
      ]
    },
    {
      "cell_type": "code",
      "metadata": {
        "id": "c0PndH1L_BGQ"
      },
      "source": [
        "\n"
      ],
      "execution_count": null,
      "outputs": []
    },
    {
      "cell_type": "markdown",
      "metadata": {
        "id": "5Jq8RnHxyFYX"
      },
      "source": [
        "### 3-2. 이미지 레이블\n",
        "\n",
        "\n",
        "\n",
        "1.   PhotoImage 클래스의 객체 만들기 (gif, png, pgm, ppm)\n",
        "2.   Label 객체 생성시 image옵션 사용\n",
        "\n"
      ]
    },
    {
      "cell_type": "code",
      "metadata": {
        "id": "5L85N2Bk_BIU"
      },
      "source": [
        "\n"
      ],
      "execution_count": null,
      "outputs": []
    },
    {
      "cell_type": "markdown",
      "metadata": {
        "id": "6A3eZrCABih0"
      },
      "source": [
        "\n",
        "\n",
        "```\n",
        "# Tcl 오류\n",
        "TclError: image \"pyimage4\" doesn't exist\n",
        "```\n",
        "\n",
        "=> 해결책 : 커널 재실행(restart)\n",
        "\n",
        "\n"
      ]
    },
    {
      "cell_type": "markdown",
      "metadata": {
        "id": "YUHw2uNeB4W2"
      },
      "source": [
        "### 3-3. 위젯 배치하기\n",
        "\n",
        "\n",
        "\n",
        "*   절대위치 배치 \n",
        "     1. place(x= x좌표, y= y좌표)\n",
        "*   상대위치 배치 \n",
        "     1. pack() : 위젯들간의 상대적 위치로 위젯 배치\n",
        "     2. grid() : 격자 한 칸에 위젯을 배치\n",
        "\n",
        "    <img src='https://github.com/teacher-jiejie/allinone_AI/blob/images/144_grid.png?raw=true' width=500>\n",
        "\n"
      ]
    },
    {
      "cell_type": "code",
      "metadata": {
        "id": "ICH6NY-Z_BLB"
      },
      "source": [
        "\n"
      ],
      "execution_count": null,
      "outputs": []
    },
    {
      "cell_type": "markdown",
      "metadata": {
        "id": "8PAQUSpiEza4"
      },
      "source": [
        "<img src='https://github.com/teacher-jiejie/allinone_AI/blob/images/145_grid.png?raw=true' width=500>"
      ]
    },
    {
      "cell_type": "code",
      "metadata": {
        "id": "c2hhGuuc_BNL"
      },
      "source": [
        "\n",
        "\n",
        "# label3의 row를 1이 아닌 9로\n",
        "\n",
        "\n",
        "# label4의 row, column을 1이 아닌 9로\n",
        "\n"
      ],
      "execution_count": null,
      "outputs": []
    },
    {
      "cell_type": "markdown",
      "metadata": {
        "id": "iGmZAr6KEapa"
      },
      "source": [
        "grid()의 row와 column 숫자는 자동으로 앞에서부터 채워짐"
      ]
    },
    {
      "cell_type": "markdown",
      "metadata": {
        "id": "sDu9otMjE-9j"
      },
      "source": [
        "<img src='https://github.com/teacher-jiejie/allinone_AI/blob/images/146_grid2.png?raw=true' width=500>"
      ]
    },
    {
      "cell_type": "code",
      "metadata": {
        "id": "nHrDswxA_BP0"
      },
      "source": [
        "# 각 위젯의 너비, 높이를 설정하고 grid()로 배치하기\n",
        "\n"
      ],
      "execution_count": null,
      "outputs": []
    },
    {
      "cell_type": "markdown",
      "metadata": {
        "id": "Bqft-BQeFoIq"
      },
      "source": [
        "격자의 여러 칸 합치기\n",
        "\n",
        "\n",
        "```\n",
        "rowspan= 병합할 격자 개수  \n",
        "columnspan= 병합할 격자 개수\n",
        "```\n",
        "\n"
      ]
    },
    {
      "cell_type": "code",
      "metadata": {
        "id": "Vp3tEoGCFoQU"
      },
      "source": [
        "\n"
      ],
      "execution_count": null,
      "outputs": []
    },
    {
      "cell_type": "markdown",
      "metadata": {
        "id": "B4XHR7rSGqkc"
      },
      "source": [
        "<img src='https://github.com/teacher-jiejie/allinone_AI/blob/images/147_grid_span.png?raw=true' width=500>"
      ]
    },
    {
      "cell_type": "code",
      "metadata": {
        "id": "IVSjSwJ6FoS4"
      },
      "source": [
        "# 이미지와 텍스트 동시에 나타내기\n",
        "\n"
      ],
      "execution_count": null,
      "outputs": []
    },
    {
      "cell_type": "markdown",
      "metadata": {
        "id": "Stb5Zhf1G3pO"
      },
      "source": [
        "# 4. 버튼 만들기\n",
        "\n",
        "\n",
        "```\n",
        "버튼이름 = Button(창이름, text='버튼에 표현할 텍스트')\n",
        "```\n",
        "\n"
      ]
    },
    {
      "cell_type": "code",
      "metadata": {
        "id": "Qy37WO_4G3vh"
      },
      "source": [
        "\n"
      ],
      "execution_count": null,
      "outputs": []
    },
    {
      "cell_type": "code",
      "metadata": {
        "id": "iGjxrvEPG3x9"
      },
      "source": [
        "\n"
      ],
      "execution_count": null,
      "outputs": []
    },
    {
      "cell_type": "markdown",
      "metadata": {
        "id": "FWH1G2dOHX10"
      },
      "source": [
        "#### 버튼을 클릭하면 실행할 이벤트 설정하기\n",
        "\n",
        "\n",
        "```\n",
        "def 함수이름 : \n",
        "    # 함수 정의 \n",
        "\n",
        "버튼이름 = Button(창이름, text='버튼텍스트', command= 함수이름)\n",
        "```\n",
        "\n"
      ]
    },
    {
      "cell_type": "code",
      "metadata": {
        "id": "6WBOcviuHWFN"
      },
      "source": [
        "\n"
      ],
      "execution_count": null,
      "outputs": []
    },
    {
      "cell_type": "code",
      "metadata": {
        "id": "XBBV3ChjHWHw"
      },
      "source": [
        "# 버튼을 누르면 Hello 나타나게 하기\n",
        "\n"
      ],
      "execution_count": null,
      "outputs": []
    },
    {
      "cell_type": "markdown",
      "metadata": {
        "id": "DO4Gsa--uFBb"
      },
      "source": [
        "#### 동적변수\n",
        "\n",
        "\n",
        ": 화면이 생성된 후에 변하는 값을 저장하는 변수\n",
        "\n",
        "\n",
        "1.   사용 전에 먼저 동적변수를 만들기\n",
        "\n",
        "```\n",
        "# 문자열 동적변수\n",
        "변수이름 = StringVar()\n",
        "\n",
        "# 정수형 동적변수 = IntVar()\n",
        "# 실수형 동적변수 = DoubleVar()\n",
        "```\n",
        "\n",
        "2.   Label객체에 textvariable 옵션\n",
        "\n",
        "\n",
        "```\n",
        "레이블이름 = Label(창이름, textvariable= 동적변수이름)\n",
        "```\n",
        "3.  동적변수의 값 변경하기\n",
        "\n",
        "\n",
        "```\n",
        "동적변수이름.set(변경값)\n",
        "```\n",
        "\n",
        "\n",
        "\n",
        "\n",
        "\n"
      ]
    },
    {
      "cell_type": "code",
      "metadata": {
        "id": "65zB6vR5HWKj"
      },
      "source": [
        "# ----- 프로그램 기능 부분 -----\n",
        "\n",
        "\n",
        "\n",
        "# ----- 프로그램 화면 부분 -----\n",
        "\n"
      ],
      "execution_count": null,
      "outputs": []
    },
    {
      "cell_type": "markdown",
      "metadata": {
        "id": "048uU-nPyRHb"
      },
      "source": [
        "<img src='https://github.com/teacher-jiejie/allinone_AI/blob/images/148_%EB%8F%99%EC%A0%81%EB%B3%80%EC%88%98.png?raw=true' width=600>"
      ]
    },
    {
      "cell_type": "markdown",
      "metadata": {
        "id": "18nkzT4NMiXu"
      },
      "source": [
        "### 구구단 프로그램 만들기\n",
        "\n",
        "<img src='https://github.com/teacher-jiejie/allinone_AI/blob/images/149_%EA%B5%AC%EA%B5%AC%EB%8B%A8%ED%99%94%EB%A9%B4%EC%8A%A4%EC%BC%80%EC%B9%98.png?raw=true' width=700>"
      ]
    },
    {
      "cell_type": "code",
      "metadata": {
        "id": "mC8xKZ3mG30L"
      },
      "source": [
        "\n"
      ],
      "execution_count": null,
      "outputs": []
    },
    {
      "cell_type": "markdown",
      "metadata": {
        "id": "_FRrXbucG35s"
      },
      "source": [
        "# 5. 엔트리\n",
        ": 화면에서 값을 입력받을 수 있는 칸\n",
        "\n",
        "\n",
        "\n",
        "```\n",
        "엔트리이름 = Entry(창 이름)\n",
        "```\n",
        "\n"
      ]
    },
    {
      "cell_type": "code",
      "metadata": {
        "id": "n6kB86_MG3-v"
      },
      "source": [
        "\n"
      ],
      "execution_count": null,
      "outputs": []
    },
    {
      "cell_type": "code",
      "metadata": {
        "id": "CTJJtcZyG4Bk"
      },
      "source": [
        "\n"
      ],
      "execution_count": null,
      "outputs": []
    },
    {
      "cell_type": "markdown",
      "metadata": {
        "id": "T-2jtK9kODi8"
      },
      "source": [
        "#### 엔트리에 입력된 값을 읽어들이기\n",
        "\n",
        "```\n",
        "엔트리이름.get()\n",
        "```\n",
        "\n"
      ]
    },
    {
      "cell_type": "code",
      "metadata": {
        "id": "OrAIbDHrG4EI"
      },
      "source": [
        "\n"
      ],
      "execution_count": null,
      "outputs": []
    },
    {
      "cell_type": "markdown",
      "metadata": {
        "id": "FYRu8XVZEDvB"
      },
      "source": [
        "<img src='https://github.com/teacher-jiejie/allinone_AI/blob/images/150_get_set.png?raw=true' width=700>"
      ]
    },
    {
      "cell_type": "markdown",
      "metadata": {
        "id": "zuNQjM0PKH0S"
      },
      "source": [
        "# 6. 프레임 \n",
        "<img src='https://github.com/teacher-jiejie/allinone_AI/blob/images/151_%ED%94%84%EB%A0%88%EC%9E%84.png?raw=true' width=600>\n",
        "\n",
        "<br/><br/>\n",
        "로그인 화면 만들기<br/>\n",
        "<img src='https://github.com/teacher-jiejie/allinone_AI/blob/images/152_%EB%A1%9C%EA%B7%B8%EC%9D%B8%ED%99%94%EB%A9%B4.png?raw=true' width=400>"
      ]
    },
    {
      "cell_type": "code",
      "metadata": {
        "id": "KXmgNk1eKIIb"
      },
      "source": [
        "\n"
      ],
      "execution_count": null,
      "outputs": []
    }
  ]
}