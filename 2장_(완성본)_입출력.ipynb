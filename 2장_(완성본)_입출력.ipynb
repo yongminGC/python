{
  "nbformat": 4,
  "nbformat_minor": 0,
  "metadata": {
    "colab": {
      "name": "2장-(완성본)-입출력.ipynb",
      "provenance": [],
      "authorship_tag": "ABX9TyNoD9q3v6uoteOShzpV1bcM",
      "include_colab_link": true
    },
    "kernelspec": {
      "name": "python3",
      "display_name": "Python 3"
    }
  },
  "cells": [
    {
      "cell_type": "markdown",
      "metadata": {
        "id": "view-in-github",
        "colab_type": "text"
      },
      "source": [
        "<a href=\"https://colab.research.google.com/github/teacher-jiejie/Lets-get-it-Python-Lecture/blob/main/2%EC%9E%A5_(%EC%99%84%EC%84%B1%EB%B3%B8)_%EC%9E%85%EC%B6%9C%EB%A0%A5.ipynb\" target=\"_parent\"><img src=\"https://colab.research.google.com/assets/colab-badge.svg\" alt=\"Open In Colab\"/></a>"
      ]
    },
    {
      "cell_type": "markdown",
      "metadata": {
        "id": "6VICvDDuPykk"
      },
      "source": [
        "\n",
        "# 1. 파이썬 명령어 형식\n",
        "<img src='https://github.com/teacher-jiejie/allinone_AI/blob/images/0_%EB%AA%85%EB%A0%B9%EC%96%B4.png?raw=true' width=400>"
      ]
    },
    {
      "cell_type": "markdown",
      "metadata": {
        "id": "LJAHyqRXU_tN"
      },
      "source": [
        "# 2. 출력명령어 \n",
        "### 출력 명령어 형식\n",
        "\n",
        "\n",
        "> print( 출력할 내용 )\n",
        "\n",
        "\n"
      ]
    },
    {
      "cell_type": "code",
      "metadata": {
        "id": "fHog4iYYL-q4",
        "colab": {
          "base_uri": "https://localhost:8080/"
        },
        "outputId": "6ac363cb-fbce-4bde-a975-d8c9331f9f23"
      },
      "source": [
        "# 숫자 출력 1030\n",
        "print(1030)"
      ],
      "execution_count": null,
      "outputs": [
        {
          "output_type": "stream",
          "text": [
            "1030\n"
          ],
          "name": "stdout"
        }
      ]
    },
    {
      "cell_type": "code",
      "metadata": {
        "id": "-Mn2gKC1y2XL",
        "colab": {
          "base_uri": "https://localhost:8080/",
          "height": 132
        },
        "outputId": "c66db6bc-d16d-43ee-9f04-ddb89f16f0b1"
      },
      "source": [
        "# 문자 출력 10월 30일\n",
        "print(10월 30일)"
      ],
      "execution_count": null,
      "outputs": [
        {
          "output_type": "error",
          "ename": "SyntaxError",
          "evalue": "ignored",
          "traceback": [
            "\u001b[0;36m  File \u001b[0;32m\"<ipython-input-5-b4a8abfa80b5>\"\u001b[0;36m, line \u001b[0;32m2\u001b[0m\n\u001b[0;31m    print(10월 30일)\u001b[0m\n\u001b[0m            ^\u001b[0m\n\u001b[0;31mSyntaxError\u001b[0m\u001b[0;31m:\u001b[0m invalid syntax\n"
          ]
        }
      ]
    },
    {
      "cell_type": "markdown",
      "metadata": {
        "id": "KqFYkVtu_foZ"
      },
      "source": [
        "### 문자는 따옴표로 감싸주어야 함\n",
        "> print('문자')"
      ]
    },
    {
      "cell_type": "code",
      "metadata": {
        "id": "HndD3I4ybonQ",
        "colab": {
          "base_uri": "https://localhost:8080/"
        },
        "outputId": "d29cf18a-d40f-490c-e56c-8974d10e660e"
      },
      "source": [
        "# 문자는 따옴표로 감싸주어야 함\n",
        "print('10월 30일')"
      ],
      "execution_count": null,
      "outputs": [
        {
          "output_type": "stream",
          "text": [
            "10월 30일\n"
          ],
          "name": "stdout"
        }
      ]
    },
    {
      "cell_type": "code",
      "metadata": {
        "colab": {
          "base_uri": "https://localhost:8080/",
          "height": 167
        },
        "id": "GXO9r4k0_M42",
        "outputId": "0158154f-a3e5-4f8b-ea62-155195c49f5b"
      },
      "source": [
        "print(렛츠기릿파이썬)"
      ],
      "execution_count": null,
      "outputs": [
        {
          "output_type": "error",
          "ename": "NameError",
          "evalue": "ignored",
          "traceback": [
            "\u001b[0;31m---------------------------------------------------------------------------\u001b[0m",
            "\u001b[0;31mNameError\u001b[0m                                 Traceback (most recent call last)",
            "\u001b[0;32m<ipython-input-10-1d1eabde5ef7>\u001b[0m in \u001b[0;36m<module>\u001b[0;34m()\u001b[0m\n\u001b[0;32m----> 1\u001b[0;31m \u001b[0mprint\u001b[0m\u001b[0;34m(\u001b[0m\u001b[0m렛츠기릿파이썬\u001b[0m\u001b[0;34m)\u001b[0m\u001b[0;34m\u001b[0m\u001b[0;34m\u001b[0m\u001b[0m\n\u001b[0m",
            "\u001b[0;31mNameError\u001b[0m: name '렛츠기릿파이썬' is not defined"
          ]
        }
      ]
    },
    {
      "cell_type": "code",
      "metadata": {
        "colab": {
          "base_uri": "https://localhost:8080/"
        },
        "id": "_eXE0Zei_TnT",
        "outputId": "7b3e308b-0bbf-4d85-eedd-dc5cb383ce3c"
      },
      "source": [
        "print('렛츠기릿파이썬')"
      ],
      "execution_count": null,
      "outputs": [
        {
          "output_type": "stream",
          "text": [
            "렛츠기릿파이썬\n"
          ],
          "name": "stdout"
        }
      ]
    },
    {
      "cell_type": "code",
      "metadata": {
        "id": "RqdNnVh2bopV",
        "colab": {
          "base_uri": "https://localhost:8080/",
          "height": 84
        },
        "outputId": "298ab86f-e8d8-49d0-ddfe-2a628264836d"
      },
      "source": [
        "# 연산하여 출력하기\n",
        "print(12+34)\n",
        "print(12-34)\n",
        "print(12*34)\n",
        "print(12/34)"
      ],
      "execution_count": null,
      "outputs": [
        {
          "output_type": "stream",
          "text": [
            "46\n",
            "-22\n",
            "408\n",
            "0.35294117647058826\n"
          ],
          "name": "stdout"
        }
      ]
    },
    {
      "cell_type": "code",
      "metadata": {
        "colab": {
          "base_uri": "https://localhost:8080/"
        },
        "id": "h2t7k_yh-IMC",
        "outputId": "53d28358-3a60-4cf3-9a0c-ff63185d4a22"
      },
      "source": [
        "# 숫자라 하더라도 따옴표로 감싸면 문자로 인식\n",
        "print('12+34')"
      ],
      "execution_count": null,
      "outputs": [
        {
          "output_type": "stream",
          "text": [
            "12+34\n"
          ],
          "name": "stdout"
        }
      ]
    },
    {
      "cell_type": "code",
      "metadata": {
        "colab": {
          "base_uri": "https://localhost:8080/"
        },
        "id": "osxJgfZU_b3y",
        "outputId": "79052d1b-e557-4030-f3c6-74a746cc869f"
      },
      "source": [
        "# ** 제곱\n",
        "print(5**2)\n",
        "\n",
        "# 몫\n",
        "print(5//2)\n",
        "\n",
        "# 나머지\n",
        "print(5%2)"
      ],
      "execution_count": null,
      "outputs": [
        {
          "output_type": "stream",
          "text": [
            "25\n",
            "2\n",
            "1\n"
          ],
          "name": "stdout"
        }
      ]
    },
    {
      "cell_type": "markdown",
      "metadata": {
        "id": "OEQFUbNCA9fm"
      },
      "source": [
        "### 연결하여 출력하기 \n",
        "> print(  ,  )\n",
        "<br/>\n",
        "> print(  +  )"
      ]
    },
    {
      "cell_type": "code",
      "metadata": {
        "colab": {
          "base_uri": "https://localhost:8080/"
        },
        "id": "O0URZFHFAFfE",
        "outputId": "0bb5f9fb-840d-4d1c-f173-d30f37237e4b"
      },
      "source": [
        "# 콤마, 로 연결하여 출력하기\n",
        "print('파이썬', '안녕!')"
      ],
      "execution_count": null,
      "outputs": [
        {
          "output_type": "stream",
          "text": [
            "파이썬 안녕!\n"
          ],
          "name": "stdout"
        }
      ]
    },
    {
      "cell_type": "code",
      "metadata": {
        "colab": {
          "base_uri": "https://localhost:8080/"
        },
        "id": "QEjssp5gAU2N",
        "outputId": "8daa1a65-4496-47a3-9d24-83328c2664a7"
      },
      "source": [
        "# 더하기 +로 연결하여 출력하기\n",
        "print('파이썬'+'안녕!')"
      ],
      "execution_count": null,
      "outputs": [
        {
          "output_type": "stream",
          "text": [
            "파이썬안녕!\n"
          ],
          "name": "stdout"
        }
      ]
    },
    {
      "cell_type": "code",
      "metadata": {
        "colab": {
          "base_uri": "https://localhost:8080/"
        },
        "id": "BXvFmqhtAzy1",
        "outputId": "f2ffd851-fdb0-4328-bd72-706110102d54"
      },
      "source": [
        "print('파이썬', 12*34)"
      ],
      "execution_count": null,
      "outputs": [
        {
          "output_type": "stream",
          "text": [
            "파이썬 408\n"
          ],
          "name": "stdout"
        }
      ]
    },
    {
      "cell_type": "code",
      "metadata": {
        "colab": {
          "base_uri": "https://localhost:8080/",
          "height": 167
        },
        "id": "Pme3T740B8JM",
        "outputId": "be05262f-d459-4743-a330-e0c21cbc801f"
      },
      "source": [
        "print('파이썬'+ 12*34)"
      ],
      "execution_count": null,
      "outputs": [
        {
          "output_type": "error",
          "ename": "TypeError",
          "evalue": "ignored",
          "traceback": [
            "\u001b[0;31m---------------------------------------------------------------------------\u001b[0m",
            "\u001b[0;31mTypeError\u001b[0m                                 Traceback (most recent call last)",
            "\u001b[0;32m<ipython-input-23-1272da14889d>\u001b[0m in \u001b[0;36m<module>\u001b[0;34m()\u001b[0m\n\u001b[0;32m----> 1\u001b[0;31m \u001b[0mprint\u001b[0m\u001b[0;34m(\u001b[0m\u001b[0;34m'파이썬'\u001b[0m\u001b[0;34m+\u001b[0m \u001b[0;36m12\u001b[0m\u001b[0;34m*\u001b[0m\u001b[0;36m34\u001b[0m\u001b[0;34m)\u001b[0m\u001b[0;34m\u001b[0m\u001b[0;34m\u001b[0m\u001b[0m\n\u001b[0m",
            "\u001b[0;31mTypeError\u001b[0m: must be str, not int"
          ]
        }
      ]
    },
    {
      "cell_type": "markdown",
      "metadata": {
        "id": "Y5VKN8McEun1"
      },
      "source": [
        "실습 1. 본인 이름, 관심분야를 한 줄로 출력해보기 "
      ]
    },
    {
      "cell_type": "code",
      "metadata": {
        "colab": {
          "base_uri": "https://localhost:8080/"
        },
        "id": "tZAX0aBQEtsJ",
        "outputId": "cd025bfc-ec90-4453-9060-1224bdbbfb24"
      },
      "source": [
        "print('졔졔쌤', '인공지능')"
      ],
      "execution_count": null,
      "outputs": [
        {
          "output_type": "stream",
          "text": [
            "졔졔쌤 인공지능\n"
          ],
          "name": "stdout"
        }
      ]
    },
    {
      "cell_type": "markdown",
      "metadata": {
        "id": "zNlNwOErClxr"
      },
      "source": [
        "# 3. 입력명령어\n",
        "### 입력명령어 형식\n",
        "> input('입력안내문')"
      ]
    },
    {
      "cell_type": "code",
      "metadata": {
        "id": "P35K2YD_B_fJ",
        "colab": {
          "base_uri": "https://localhost:8080/",
          "height": 53
        },
        "outputId": "df7d7797-117a-4ec1-bf2b-8e0dc0b28386"
      },
      "source": [
        "input()"
      ],
      "execution_count": null,
      "outputs": [
        {
          "output_type": "stream",
          "text": [
            "123123\n"
          ],
          "name": "stdout"
        },
        {
          "output_type": "execute_result",
          "data": {
            "application/vnd.google.colaboratory.intrinsic+json": {
              "type": "string"
            },
            "text/plain": [
              "'123123'"
            ]
          },
          "metadata": {
            "tags": []
          },
          "execution_count": 26
        }
      ]
    },
    {
      "cell_type": "code",
      "metadata": {
        "colab": {
          "base_uri": "https://localhost:8080/",
          "height": 53
        },
        "id": "g-WfHArdGA8b",
        "outputId": "df11815f-515a-4ed0-cdf3-8a63bdfe2b94"
      },
      "source": [
        "input('생일 : ')"
      ],
      "execution_count": null,
      "outputs": [
        {
          "output_type": "stream",
          "text": [
            "생일 : 10월 30일\n"
          ],
          "name": "stdout"
        },
        {
          "output_type": "execute_result",
          "data": {
            "application/vnd.google.colaboratory.intrinsic+json": {
              "type": "string"
            },
            "text/plain": [
              "'10월 30일'"
            ]
          },
          "metadata": {
            "tags": []
          },
          "execution_count": 27
        }
      ]
    },
    {
      "cell_type": "code",
      "metadata": {
        "colab": {
          "base_uri": "https://localhost:8080/",
          "height": 53
        },
        "id": "WmWrf3RZGMq1",
        "outputId": "279dd94a-ffc2-4599-d0b7-b7b46a058ea1"
      },
      "source": [
        "input('아이디 : ')"
      ],
      "execution_count": null,
      "outputs": [
        {
          "output_type": "stream",
          "text": [
            "아이디 : letsgetit\n"
          ],
          "name": "stdout"
        },
        {
          "output_type": "execute_result",
          "data": {
            "application/vnd.google.colaboratory.intrinsic+json": {
              "type": "string"
            },
            "text/plain": [
              "'letsgetit'"
            ]
          },
          "metadata": {
            "tags": []
          },
          "execution_count": 28
        }
      ]
    },
    {
      "cell_type": "code",
      "metadata": {
        "colab": {
          "base_uri": "https://localhost:8080/",
          "height": 70
        },
        "id": "dlc34WbEGQLy",
        "outputId": "0ca792ce-ba09-483e-dc30-2dd22ee32e3b"
      },
      "source": [
        "input('아이디 : ')\n",
        "input('비밀번호 : ')"
      ],
      "execution_count": null,
      "outputs": [
        {
          "output_type": "stream",
          "text": [
            "아이디 : jiejie\n",
            "비밀번호 : 12341234\n"
          ],
          "name": "stdout"
        },
        {
          "output_type": "execute_result",
          "data": {
            "application/vnd.google.colaboratory.intrinsic+json": {
              "type": "string"
            },
            "text/plain": [
              "'12341234'"
            ]
          },
          "metadata": {
            "tags": []
          },
          "execution_count": 29
        }
      ]
    },
    {
      "cell_type": "markdown",
      "metadata": {
        "id": "5TblMxseGyGG"
      },
      "source": [
        "### 순차구조 \n",
        "\n",
        "<img src='https://github.com/teacher-jiejie/allinone_AI/blob/images/66_%E1%84%89%E1%85%AE%E1%86%AB%E1%84%8E%E1%85%A1%E1%84%80%E1%85%AE%E1%84%8C%E1%85%A9.png?raw=true' width=600>"
      ]
    },
    {
      "cell_type": "code",
      "metadata": {
        "colab": {
          "base_uri": "https://localhost:8080/"
        },
        "id": "CfX6PoPdGX4T",
        "outputId": "ddce8d12-28b8-407b-92e6-36445dd1d7b9"
      },
      "source": [
        "print('---000 웹사이트 회원가입 ---')\n",
        "input('아이디 : ')\n",
        "print('000 웹사이트 가입을 환영합니다!')"
      ],
      "execution_count": null,
      "outputs": [
        {
          "output_type": "stream",
          "text": [
            "---000 웹사이트 회원가입 ---\n",
            "아이디 : jiejie\n",
            "000 웹사이트 가입을 환영합니다!\n"
          ],
          "name": "stdout"
        }
      ]
    },
    {
      "cell_type": "code",
      "metadata": {
        "id": "3bE5MP4lIutc"
      },
      "source": [
        ""
      ],
      "execution_count": null,
      "outputs": []
    }
  ]
}