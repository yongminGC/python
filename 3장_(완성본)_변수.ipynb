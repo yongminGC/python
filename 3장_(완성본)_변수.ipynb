{
  "nbformat": 4,
  "nbformat_minor": 0,
  "metadata": {
    "colab": {
      "name": "3장-(완성본)-변수.ipynb",
      "provenance": [],
      "collapsed_sections": [],
      "authorship_tag": "ABX9TyMxKVMTmXagmSaMw7KPVYUO",
      "include_colab_link": true
    },
    "kernelspec": {
      "name": "python3",
      "display_name": "Python 3"
    }
  },
  "cells": [
    {
      "cell_type": "markdown",
      "metadata": {
        "id": "view-in-github",
        "colab_type": "text"
      },
      "source": [
        "<a href=\"https://colab.research.google.com/github/teacher-jiejie/Lets-get-it-Python-Lecture/blob/main/3%EC%9E%A5_(%EC%99%84%EC%84%B1%EB%B3%B8)_%EB%B3%80%EC%88%98.ipynb\" target=\"_parent\"><img src=\"https://colab.research.google.com/assets/colab-badge.svg\" alt=\"Open In Colab\"/></a>"
      ]
    },
    {
      "cell_type": "markdown",
      "metadata": {
        "id": "V1qdZa0ljBQz"
      },
      "source": [
        "# 1. 변수\n",
        "\n",
        "\n",
        "> 변수이름 = 저장할 데이터\n",
        "\n",
        "\n",
        "<img src = 'https://github.com/teacher-jiejie/allinone_AI/blob/images/%E1%84%87%E1%85%A7%E1%86%AB%E1%84%89%E1%85%AE%E1%84%8B%E1%85%B5%E1%84%86%E1%85%B5%E1%84%8C%E1%85%B5.png?raw=true' width =500>\n",
        "\n",
        "\n"
      ]
    },
    {
      "cell_type": "code",
      "metadata": {
        "id": "qGjujI1abo3T",
        "colab": {
          "base_uri": "https://localhost:8080/"
        },
        "outputId": "24c4b5ee-1d90-47d4-86d3-e2151f1b6ec1"
      },
      "source": [
        "a = '안녕'\n",
        "print(a)"
      ],
      "execution_count": null,
      "outputs": [
        {
          "output_type": "stream",
          "text": [
            "안녕\n"
          ],
          "name": "stdout"
        }
      ]
    },
    {
      "cell_type": "code",
      "metadata": {
        "colab": {
          "base_uri": "https://localhost:8080/"
        },
        "id": "xuAWxMcSPCCH",
        "outputId": "4fbad4db-2e57-4be2-cc48-7b55b6d2a74a"
      },
      "source": [
        "print('a')"
      ],
      "execution_count": null,
      "outputs": [
        {
          "output_type": "stream",
          "text": [
            "a\n"
          ],
          "name": "stdout"
        }
      ]
    },
    {
      "cell_type": "code",
      "metadata": {
        "id": "9d4QKvR6bo5d",
        "colab": {
          "base_uri": "https://localhost:8080/"
        },
        "outputId": "c4943f5f-d1bd-475c-a9ae-65ede5e90bf7"
      },
      "source": [
        "b = '학생'\n",
        "c = '고등'\n",
        "d = '대'\n",
        "print(c+b)"
      ],
      "execution_count": null,
      "outputs": [
        {
          "output_type": "stream",
          "text": [
            "고등학생\n"
          ],
          "name": "stdout"
        }
      ]
    },
    {
      "cell_type": "code",
      "metadata": {
        "colab": {
          "base_uri": "https://localhost:8080/"
        },
        "id": "egu4zLhuPXzC",
        "outputId": "237d88e6-d1dc-4951-d9cc-ad6d85ce379f"
      },
      "source": [
        "print(d+b)"
      ],
      "execution_count": null,
      "outputs": [
        {
          "output_type": "stream",
          "text": [
            "대학생\n"
          ],
          "name": "stdout"
        }
      ]
    },
    {
      "cell_type": "markdown",
      "metadata": {
        "id": "YrIAYo4nP3wW"
      },
      "source": [
        "### 변수를 활용하여 연산하기 \n",
        "1) 과일 가격 계산하기"
      ]
    },
    {
      "cell_type": "code",
      "metadata": {
        "id": "gN7pzv5jbo-B"
      },
      "source": [
        "apple = 1200\n",
        "banana = 800\n",
        "kiwi = 1700"
      ],
      "execution_count": null,
      "outputs": []
    },
    {
      "cell_type": "code",
      "metadata": {
        "id": "YY_1rgwNbpAe",
        "colab": {
          "base_uri": "https://localhost:8080/"
        },
        "outputId": "2f5ba308-90e7-47da-cb26-c728f59e6066"
      },
      "source": [
        "# 사과 3개, 바나나1개, 키위2개 구매한 가격은?\n",
        "apple*3 + banana*1 + kiwi*2"
      ],
      "execution_count": null,
      "outputs": [
        {
          "output_type": "execute_result",
          "data": {
            "text/plain": [
              "7800"
            ]
          },
          "metadata": {
            "tags": []
          },
          "execution_count": 2
        }
      ]
    },
    {
      "cell_type": "code",
      "metadata": {
        "id": "kAnHKPxlnUMO",
        "colab": {
          "base_uri": "https://localhost:8080/"
        },
        "outputId": "f34be5b5-276b-4277-dbc7-00d817528465"
      },
      "source": [
        "price = apple*3 + banana*1 + kiwi*2\n",
        "print(price)"
      ],
      "execution_count": null,
      "outputs": [
        {
          "output_type": "stream",
          "text": [
            "7800\n"
          ],
          "name": "stdout"
        }
      ]
    },
    {
      "cell_type": "markdown",
      "metadata": {
        "id": "XTITfZwoisIu"
      },
      "source": [
        "vip는 20% 할인된다. 동일한 물건을 구매했을 때 vip가 내는 가격을 새로운 변수에 저장하여 출력하기"
      ]
    },
    {
      "cell_type": "code",
      "metadata": {
        "id": "A7bhHZu-nnE_"
      },
      "source": [
        "vip_price = price * 0.8"
      ],
      "execution_count": null,
      "outputs": []
    },
    {
      "cell_type": "code",
      "metadata": {
        "id": "I5UtDtRgnwk8",
        "colab": {
          "base_uri": "https://localhost:8080/"
        },
        "outputId": "7a87f63b-5e9e-4c6a-b77d-5b936de785d4"
      },
      "source": [
        "print('vip가 되시면',price,'원을',vip_price,'원에 구매 가능합니다! ')"
      ],
      "execution_count": null,
      "outputs": [
        {
          "output_type": "stream",
          "text": [
            "vip가 되시면 7800 원을 6240.0 원에 구매 가능합니다! \n"
          ],
          "name": "stdout"
        }
      ]
    },
    {
      "cell_type": "markdown",
      "metadata": {
        "id": "2XYFTD_fTFMY"
      },
      "source": [
        "2) 1년마다 키가 10cm씩 자라는 농구선수가 있다. \n",
        "\n",
        "\n",
        "*   2017년 - 175.5cm\n",
        "*   2018년 - 185.5cm\n",
        "*   2019년 - 195.5cm\n",
        "*   2020년 - 205.5cm\n",
        "\n",
        "\n",
        "년도별 농구선수의 키를 출력해보자\n"
      ]
    },
    {
      "cell_type": "code",
      "metadata": {
        "colab": {
          "base_uri": "https://localhost:8080/"
        },
        "id": "P9RoHoaqTEdT",
        "outputId": "6b248489-9397-4657-edfd-104f63e1a77f"
      },
      "source": [
        "year = 2017\n",
        "height = 175.5\n",
        "print(year,'년 -', height,'cm')\n",
        "\n",
        "year = year + 1\n",
        "height = height + 10\n",
        "print(year,'년 -', height,'cm')\n",
        "\n",
        "year = year + 1\n",
        "height = height + 10\n",
        "print(year,'년 -', height,'cm')\n",
        "\n",
        "year = year + 1\n",
        "height = height + 10\n",
        "print(year,'년 -', height,'cm')"
      ],
      "execution_count": null,
      "outputs": [
        {
          "output_type": "stream",
          "text": [
            "2017 년 - 175.5 cm\n",
            "2018 년 - 185.5 cm\n",
            "2019 년 - 195.5 cm\n",
            "2020 년 - 205.5 cm\n"
          ],
          "name": "stdout"
        }
      ]
    },
    {
      "cell_type": "code",
      "metadata": {
        "colab": {
          "base_uri": "https://localhost:8080/"
        },
        "id": "opdfI6AZTEhz",
        "outputId": "f1e17afd-6484-401a-91e0-b67c8d3e76e0"
      },
      "source": [
        "year = 2017\n",
        "height = 175.5\n",
        "print(year,'년 -', height,'cm')\n",
        "\n",
        "year += 1\n",
        "height += 10\n",
        "print(year,'년 -', height,'cm')\n",
        "\n",
        "year += 1\n",
        "height += 10\n",
        "print(year,'년 -', height,'cm')\n",
        "\n",
        "year += 1\n",
        "height += 10\n",
        "print(year,'년 -', height,'cm')"
      ],
      "execution_count": null,
      "outputs": [
        {
          "output_type": "stream",
          "text": [
            "2017 년 - 175.5 cm\n",
            "2018 년 - 185.5 cm\n",
            "2019 년 - 195.5 cm\n",
            "2020 년 - 205.5 cm\n"
          ],
          "name": "stdout"
        }
      ]
    },
    {
      "cell_type": "markdown",
      "metadata": {
        "id": "s4qBlOzyUjIw"
      },
      "source": [
        "> 동일한 변수를 증가/감소시킬 때\n",
        "\n",
        "```\n",
        "# a에 3을 더하시오\n",
        "a = a+3\n",
        "```\n",
        "\n",
        "```\n",
        "# 간략하게 표현\n",
        "a += 3\n",
        "```"
      ]
    },
    {
      "cell_type": "code",
      "metadata": {
        "id": "2g086SCSTEj6"
      },
      "source": [
        "year /= 1"
      ],
      "execution_count": null,
      "outputs": []
    },
    {
      "cell_type": "markdown",
      "metadata": {
        "id": "Pwqs0PYMWYpw"
      },
      "source": [
        "> 입력받아 저장하기"
      ]
    },
    {
      "cell_type": "code",
      "metadata": {
        "colab": {
          "base_uri": "https://localhost:8080/"
        },
        "id": "q6FsC2EzWN_t",
        "outputId": "fb72d882-bb33-450e-d29b-c830410c9db1"
      },
      "source": [
        "id = input('아이디 : ')\n",
        "print('입력하신 아이디는', id)"
      ],
      "execution_count": null,
      "outputs": [
        {
          "output_type": "stream",
          "text": [
            "아이디 : jiejie\n",
            "입력하신 아이디는 jiejie\n"
          ],
          "name": "stdout"
        }
      ]
    },
    {
      "cell_type": "markdown",
      "metadata": {
        "id": "BZHvWTLfU4kx"
      },
      "source": [
        "# 2. 데이터타입\n",
        "\n",
        "> 정수 int\n",
        "\n",
        "> 실수 float\n",
        "\n",
        "> 문자 str"
      ]
    },
    {
      "cell_type": "code",
      "metadata": {
        "id": "Yh4EzMknbpFi",
        "colab": {
          "base_uri": "https://localhost:8080/"
        },
        "outputId": "083c7d8b-47cd-40ef-8b2c-a652b12b0f67"
      },
      "source": [
        "type(apple)"
      ],
      "execution_count": null,
      "outputs": [
        {
          "output_type": "execute_result",
          "data": {
            "text/plain": [
              "int"
            ]
          },
          "metadata": {
            "tags": []
          },
          "execution_count": 20
        }
      ]
    },
    {
      "cell_type": "code",
      "metadata": {
        "id": "zyFQbxIlbpHu",
        "colab": {
          "base_uri": "https://localhost:8080/"
        },
        "outputId": "584e302d-f221-45d8-b59c-a09d3e1f6ac9"
      },
      "source": [
        "type(banana)"
      ],
      "execution_count": null,
      "outputs": [
        {
          "output_type": "execute_result",
          "data": {
            "text/plain": [
              "int"
            ]
          },
          "metadata": {
            "tags": []
          },
          "execution_count": 21
        }
      ]
    },
    {
      "cell_type": "code",
      "metadata": {
        "id": "7frJWouPm-8e",
        "colab": {
          "base_uri": "https://localhost:8080/"
        },
        "outputId": "640d99ed-ebc4-49aa-fe81-6620f4aad26d"
      },
      "source": [
        "type(vip_price)"
      ],
      "execution_count": null,
      "outputs": [
        {
          "output_type": "execute_result",
          "data": {
            "text/plain": [
              "float"
            ]
          },
          "metadata": {
            "tags": []
          },
          "execution_count": 26
        }
      ]
    },
    {
      "cell_type": "code",
      "metadata": {
        "id": "_m8OTfEln_Qn",
        "colab": {
          "base_uri": "https://localhost:8080/"
        },
        "outputId": "e5f29eb7-b1fa-4b3c-85ea-53f6380b6d66"
      },
      "source": [
        "type(b)"
      ],
      "execution_count": null,
      "outputs": [
        {
          "output_type": "execute_result",
          "data": {
            "text/plain": [
              "str"
            ]
          },
          "metadata": {
            "tags": []
          },
          "execution_count": 27
        }
      ]
    },
    {
      "cell_type": "markdown",
      "metadata": {
        "id": "iE7vQvAqSLQJ"
      },
      "source": [
        "# 3. 데이터타입 변경하기\n",
        "변경하려는 데이터타입으로 감싸주기\n",
        "\n",
        "> 정수로 변경하기\n",
        "<br/> int(변수)\n",
        "\n",
        "> 실수로 변경하기\n",
        "<br/> float(변수)\n",
        "\n",
        "> 문자로 변경하기\n",
        "<br/> str(변수)\n",
        "\n"
      ]
    },
    {
      "cell_type": "code",
      "metadata": {
        "id": "m0Q-OfX8oAfP",
        "colab": {
          "base_uri": "https://localhost:8080/"
        },
        "outputId": "a40eea95-1cf5-4773-da57-73c13136dbcc"
      },
      "source": [
        "# 정수를 실수로 \n",
        "print(apple)\n",
        "apple = float(apple)\n",
        "print(apple)"
      ],
      "execution_count": null,
      "outputs": [
        {
          "output_type": "stream",
          "text": [
            "1200\n",
            "1200.0\n"
          ],
          "name": "stdout"
        }
      ]
    },
    {
      "cell_type": "code",
      "metadata": {
        "id": "JMm4V8_RpJgf",
        "colab": {
          "base_uri": "https://localhost:8080/"
        },
        "outputId": "f2d7d793-2e8d-428d-906c-1d36a10f0e83"
      },
      "source": [
        "# 실수를 정수로\n",
        "print(vip_price)\n",
        "vip_price = int(vip_price)\n",
        "print(vip_price)"
      ],
      "execution_count": null,
      "outputs": [
        {
          "output_type": "stream",
          "text": [
            "1560.0\n",
            "1560\n"
          ],
          "name": "stdout"
        }
      ]
    },
    {
      "cell_type": "markdown",
      "metadata": {
        "id": "QE3RzURDQc_J"
      },
      "source": [
        "# 4. 원의 둘레, 넓이, 구의 겉넓이, 부피 구하기\n",
        "\n",
        "<img src='https://github.com/teacher-jiejie/allinone_AI/blob/images/%EC%9B%90%20%EA%B4%80%EB%A0%A8%20%EA%B3%B5%EC%8B%9D.png?raw=true' width = 300>"
      ]
    },
    {
      "cell_type": "code",
      "metadata": {
        "colab": {
          "base_uri": "https://localhost:8080/"
        },
        "id": "iMRYFpdZQXNz",
        "outputId": "5de5553e-9b1e-424e-f61c-7d1cef86ecb0"
      },
      "source": [
        "r = 5\n",
        "p = 3.141592\n",
        "\n",
        "# 원의 둘레\n",
        "c_len = 2*p*r\n",
        "\n",
        "# 원의 넓이\n",
        "c_area = p*r**2\n",
        "\n",
        "# 구의 겉넓이\n",
        "s_area = 4*p*r**2\n",
        "\n",
        "# 구의 부피 \n",
        "s_volume = 4/3*p*r**3\n",
        "\n",
        "print('원의 둘레는', c_len)\n",
        "print('원의 넓이는', c_area)\n",
        "print('구의 겉넓이는', s_area)\n",
        "print('구의 부피는', s_volume)"
      ],
      "execution_count": null,
      "outputs": [
        {
          "output_type": "stream",
          "text": [
            "원의 둘레는 31.41592\n",
            "원의 넓이는 78.5398\n",
            "구의 겉넓이는 314.1592\n",
            "구의 부피는 523.5986666666666\n"
          ],
          "name": "stdout"
        }
      ]
    },
    {
      "cell_type": "markdown",
      "metadata": {
        "id": "AHPS_AzrSBij"
      },
      "source": [
        "실습 : 반지름을 입력받아서, 입력받은 반지름을 갖는 원의 둘레, 넓이, 구 겉넓이, 부피를 구하시오"
      ]
    },
    {
      "cell_type": "code",
      "metadata": {
        "colab": {
          "base_uri": "https://localhost:8080/",
          "height": 257
        },
        "id": "GS8rFYRoRzWi",
        "outputId": "ceb94224-bab5-4fe1-855d-222a35917360"
      },
      "source": [
        "r = input('반지름은? ')\n",
        "p = 3.141592\n",
        "\n",
        "# 원의 둘레\n",
        "c_len = 2*p*r\n",
        "\n",
        "# 원의 넓이\n",
        "c_area = p*r**2\n",
        "\n",
        "# 구의 겉넓이\n",
        "s_area = 4*p*r**2\n",
        "\n",
        "# 구의 부피 \n",
        "s_volume = 4/3*p*r**3\n",
        "\n",
        "print('원의 둘레는', c_len)\n",
        "print('원의 넓이는', c_area)\n",
        "print('구의 겉넓이는', s_area)\n",
        "print('구의 부피는', s_volume)"
      ],
      "execution_count": null,
      "outputs": [
        {
          "output_type": "stream",
          "text": [
            "반지름은? 9\n"
          ],
          "name": "stdout"
        },
        {
          "output_type": "error",
          "ename": "TypeError",
          "evalue": "ignored",
          "traceback": [
            "\u001b[0;31m---------------------------------------------------------------------------\u001b[0m",
            "\u001b[0;31mTypeError\u001b[0m                                 Traceback (most recent call last)",
            "\u001b[0;32m<ipython-input-7-9cd5e88e308b>\u001b[0m in \u001b[0;36m<module>\u001b[0;34m()\u001b[0m\n\u001b[1;32m      3\u001b[0m \u001b[0;34m\u001b[0m\u001b[0m\n\u001b[1;32m      4\u001b[0m \u001b[0;31m# 원의 둘레\u001b[0m\u001b[0;34m\u001b[0m\u001b[0;34m\u001b[0m\u001b[0;34m\u001b[0m\u001b[0m\n\u001b[0;32m----> 5\u001b[0;31m \u001b[0mc_len\u001b[0m \u001b[0;34m=\u001b[0m \u001b[0;36m2\u001b[0m\u001b[0;34m*\u001b[0m\u001b[0mp\u001b[0m\u001b[0;34m*\u001b[0m\u001b[0mr\u001b[0m\u001b[0;34m\u001b[0m\u001b[0;34m\u001b[0m\u001b[0m\n\u001b[0m\u001b[1;32m      6\u001b[0m \u001b[0;34m\u001b[0m\u001b[0m\n\u001b[1;32m      7\u001b[0m \u001b[0;31m# 원의 넓이\u001b[0m\u001b[0;34m\u001b[0m\u001b[0;34m\u001b[0m\u001b[0;34m\u001b[0m\u001b[0m\n",
            "\u001b[0;31mTypeError\u001b[0m: can't multiply sequence by non-int of type 'float'"
          ]
        }
      ]
    },
    {
      "cell_type": "code",
      "metadata": {
        "colab": {
          "base_uri": "https://localhost:8080/",
          "height": 53
        },
        "id": "EhVafoGoXB0Y",
        "outputId": "c4b00b46-bdfb-47c5-e39f-c3981b39f64d"
      },
      "source": [
        "input('반지름은? ')\n"
      ],
      "execution_count": null,
      "outputs": [
        {
          "output_type": "stream",
          "text": [
            "반지름은? 9\n"
          ],
          "name": "stdout"
        },
        {
          "output_type": "execute_result",
          "data": {
            "application/vnd.google.colaboratory.intrinsic+json": {
              "type": "string"
            },
            "text/plain": [
              "'9'"
            ]
          },
          "metadata": {
            "tags": []
          },
          "execution_count": 8
        }
      ]
    },
    {
      "cell_type": "code",
      "metadata": {
        "colab": {
          "base_uri": "https://localhost:8080/"
        },
        "id": "Y8eiYtjYXI0X",
        "outputId": "328cc816-6f24-4b47-fb3c-26dfa502da35"
      },
      "source": [
        "r = input('반지름은? ')\n",
        "# r = int(r)\n",
        "type(r)"
      ],
      "execution_count": null,
      "outputs": [
        {
          "output_type": "stream",
          "text": [
            "반지름은? 9\n"
          ],
          "name": "stdout"
        },
        {
          "output_type": "execute_result",
          "data": {
            "text/plain": [
              "int"
            ]
          },
          "metadata": {
            "tags": []
          },
          "execution_count": 45
        }
      ]
    },
    {
      "cell_type": "code",
      "metadata": {
        "colab": {
          "base_uri": "https://localhost:8080/"
        },
        "id": "KLBICyWuX9ts",
        "outputId": "75f49463-84c2-4a22-b8b8-928f878a8c20"
      },
      "source": [
        "r = input('반지름은? ')\n",
        "r = int(r)\n",
        "p = 3.141592\n",
        "\n",
        "# 원의 둘레\n",
        "c_len = 2*p*r\n",
        "\n",
        "# 원의 넓이\n",
        "c_area = p*r**2\n",
        "\n",
        "# 구의 겉넓이\n",
        "s_area = 4*p*r**2\n",
        "\n",
        "# 구의 부피 \n",
        "s_volume = 4/3*p*r**3\n",
        "\n",
        "print('원의 둘레는', c_len)\n",
        "print('원의 넓이는', c_area)\n",
        "print('구의 겉넓이는', s_area)\n",
        "print('구의 부피는', s_volume)"
      ],
      "execution_count": null,
      "outputs": [
        {
          "output_type": "stream",
          "text": [
            "반지름은? 9\n",
            "원의 둘레는 56.548656\n",
            "원의 넓이는 254.468952\n",
            "구의 겉넓이는 1017.875808\n",
            "구의 부피는 3053.627424\n"
          ],
          "name": "stdout"
        }
      ]
    },
    {
      "cell_type": "markdown",
      "metadata": {
        "id": "LcMyhj6OYFAW"
      },
      "source": [
        "윗 줄의 r과 아랫줄의 r은 동일하므로 두 줄을 한 줄로 줄여서 표현하기\n",
        "\n",
        "\n",
        "```\n",
        "r = input('반지름은? ')\n",
        "r = int(r)\n",
        "type(r)\n",
        "```\n",
        "\n"
      ]
    },
    {
      "cell_type": "code",
      "metadata": {
        "colab": {
          "base_uri": "https://localhost:8080/"
        },
        "id": "N2X3lSjVXigp",
        "outputId": "fed9b057-704f-41fb-d6cf-dc6dc555837a"
      },
      "source": [
        "r = int(input('반지름은? '))\n",
        "type(r)"
      ],
      "execution_count": null,
      "outputs": [
        {
          "output_type": "stream",
          "text": [
            "반지름은? 9\n"
          ],
          "name": "stdout"
        },
        {
          "output_type": "execute_result",
          "data": {
            "text/plain": [
              "int"
            ]
          },
          "metadata": {
            "tags": []
          },
          "execution_count": 46
        }
      ]
    },
    {
      "cell_type": "code",
      "metadata": {
        "colab": {
          "base_uri": "https://localhost:8080/"
        },
        "id": "BeBJsLj0X51F",
        "outputId": "0046281e-3deb-4c78-ae4b-567689f74108"
      },
      "source": [
        "r = int(input('반지름은? '))\n",
        "p = 3.141592\n",
        "\n",
        "# 원의 둘레\n",
        "c_len = 2*p*r\n",
        "\n",
        "# 원의 넓이\n",
        "c_area = p*r**2\n",
        "\n",
        "# 구의 겉넓이\n",
        "s_area = 4*p*r**2\n",
        "\n",
        "# 구의 부피 \n",
        "s_volume = 4/3*p*r**3\n",
        "\n",
        "print('원의 둘레는', c_len)\n",
        "print('원의 넓이는', c_area)\n",
        "print('구의 겉넓이는', s_area)\n",
        "print('구의 부피는', s_volume)"
      ],
      "execution_count": null,
      "outputs": [
        {
          "output_type": "stream",
          "text": [
            "반지름은? 9\n",
            "원의 둘레는 56.548656\n",
            "원의 넓이는 254.468952\n",
            "구의 겉넓이는 1017.875808\n",
            "구의 부피는 3053.627424\n"
          ],
          "name": "stdout"
        }
      ]
    },
    {
      "cell_type": "code",
      "metadata": {
        "id": "0NxkHjWGYRBk"
      },
      "source": [
        ""
      ],
      "execution_count": null,
      "outputs": []
    }
  ]
}