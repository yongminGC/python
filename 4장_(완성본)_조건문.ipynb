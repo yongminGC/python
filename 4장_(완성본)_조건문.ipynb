{
  "nbformat": 4,
  "nbformat_minor": 0,
  "metadata": {
    "colab": {
      "name": "4장-(완성본)-조건문.ipynb",
      "provenance": [],
      "collapsed_sections": [],
      "authorship_tag": "ABX9TyNJV8siqSvASKqX512qc62/",
      "include_colab_link": true
    },
    "kernelspec": {
      "name": "python3",
      "display_name": "Python 3"
    }
  },
  "cells": [
    {
      "cell_type": "markdown",
      "metadata": {
        "id": "view-in-github",
        "colab_type": "text"
      },
      "source": [
        "<a href=\"https://colab.research.google.com/github/teacher-jiejie/Lets-get-it-Python-Lecture/blob/main/4%EC%9E%A5_(%EC%99%84%EC%84%B1%EB%B3%B8)_%EC%A1%B0%EA%B1%B4%EB%AC%B8.ipynb\" target=\"_parent\"><img src=\"https://colab.research.google.com/assets/colab-badge.svg\" alt=\"Open In Colab\"/></a>"
      ]
    },
    {
      "cell_type": "markdown",
      "metadata": {
        "id": "IgU4y4cdCo3v"
      },
      "source": [
        "#  1. 조건문 if\n",
        "\n",
        "**조건문 : 조건을 충족할 때에만 선택적으로 실행되는 명령어**\n",
        "</br>\n",
        "**=선택구조**\n",
        "</br>\n",
        "\n",
        "\n",
        "```\n",
        "조건 A를 충족할 때에만\n",
        "B해라\n",
        "\n",
        "ex. 성인일 때에만 주류를 판매해라 \n",
        "```\n",
        "\n",
        "<img src = 'https://github.com/teacher-jiejie/allinone_AI/blob/images/71_if.png?raw=true' width=500>\n",
        "\n"
      ]
    },
    {
      "cell_type": "code",
      "metadata": {
        "id": "MkpSM5DyCp78"
      },
      "source": [
        "# 만약 미성년자라면 술을 구매할 수 없다고 출력\n",
        "age = 20\n",
        "\n",
        "if age < 20 : \n",
        "    # 조건을 충족할 때만 실행\n",
        "    print('술을 구매할 수 없습니다.')"
      ],
      "execution_count": null,
      "outputs": []
    },
    {
      "cell_type": "markdown",
      "metadata": {
        "id": "fn3FlsHEYSiA"
      },
      "source": [
        "<img src = 'https://github.com/teacher-jiejie/allinone_AI/blob/images/10_%EC%84%A0%ED%83%9D%EA%B5%AC%EC%A1%B0%20%EB%8F%99%EC%9E%91%EC%9B%90%EB%A6%AC.png?raw=true' width =800>"
      ]
    },
    {
      "cell_type": "markdown",
      "metadata": {
        "id": "iIllPy22YGxI"
      },
      "source": [
        "> 조건문에서는 들여쓰기를 조심하세요!\n",
        "</br>\n",
        "<img src ='https://github.com/teacher-jiejie/allinone_AI/blob/images/10_%EC%84%A0%ED%83%9D%EA%B5%AC%EC%A1%B0%20%EB%93%A4%EC%97%AC%EC%93%B0%EA%B8%B0%20png.png?raw=true' width=200>"
      ]
    },
    {
      "cell_type": "markdown",
      "metadata": {
        "id": "vpkrmOpKIurV"
      },
      "source": [
        "물건 금액을 입력받고 물건이 오만원 미만일 경우 배송비 2500원을 더해서 결제금액을 안내하시오. "
      ]
    },
    {
      "cell_type": "code",
      "metadata": {
        "id": "F0zdyUHuCp_5",
        "colab": {
          "base_uri": "https://localhost:8080/"
        },
        "outputId": "4a6fff33-acd3-4ec6-8997-b85544386d07"
      },
      "source": [
        "price = int(input('물건 가격 입력 : '))\n",
        "\n",
        "if price < 50000 : \n",
        "    price += 2500\n",
        "\n",
        "print('총 결제금액은',price)"
      ],
      "execution_count": null,
      "outputs": [
        {
          "output_type": "stream",
          "text": [
            "물건 가격 입력 : 30000\n",
            "총 결제금액은 32500\n"
          ],
          "name": "stdout"
        }
      ]
    },
    {
      "cell_type": "markdown",
      "metadata": {
        "id": "A5d31d8QYY3s"
      },
      "source": [
        "# 2. 조건을 만드는 비교연산자\n",
        "\n",
        "a와 b가 같다면\n",
        "> if a == b :      \n",
        "\n",
        "</br>\n",
        "\n",
        "a와 b가 같지 않다면\n",
        "\n",
        "> if a != b :   \n",
        "\n",
        "</br>\n",
        "</br>\n",
        "\n",
        "a가 b보다 크다면\n",
        "> if a > b :     \n",
        "\n",
        "a가 b보다 크거나 같다면 \n",
        "> if a >= b :      \n",
        "\n",
        "a가 b보다 작다면\n",
        "> if a < b :        \n",
        "\n",
        "a가 b보다 작거나 같다면\n",
        "> if a <= b :      \n"
      ]
    },
    {
      "cell_type": "markdown",
      "metadata": {
        "id": "pC042qGEkl4T"
      },
      "source": [
        "출석 혹은 결석 둘 중 하나를 입력받고, 출석을 입력받았을 경우 O를 출력하기"
      ]
    },
    {
      "cell_type": "code",
      "metadata": {
        "id": "MkSuyWQ5eFKC",
        "colab": {
          "base_uri": "https://localhost:8080/"
        },
        "outputId": "53838cc2-433d-47fe-b15b-b9d6f1989bb7"
      },
      "source": [
        "check = input('출석 혹은 결석을 입력하세요 ')\n",
        "if check == '출석' : \n",
        "    print('0')"
      ],
      "execution_count": null,
      "outputs": [
        {
          "output_type": "stream",
          "text": [
            "출석 혹은 결석을 입력하세요 출석\n",
            "0\n"
          ],
          "name": "stdout"
        }
      ]
    },
    {
      "cell_type": "markdown",
      "metadata": {
        "id": "NyCBjh41EVVn"
      },
      "source": [
        "# 3. if-else 조건문\n",
        "조건을 충족하지 않을 때 실행하는 명령어\n",
        "\n",
        "\n",
        "```\n",
        "만약 조건 A라면, \n",
        "    B해라\n",
        "그렇지 않으면,\n",
        "    C해라\n",
        "```\n",
        "\n",
        "<img src = 'https://github.com/teacher-jiejie/allinone_AI/blob/images/70_else.png?raw=true' width=400>\n"
      ]
    },
    {
      "cell_type": "code",
      "metadata": {
        "id": "9o7hV4p9CqE2",
        "colab": {
          "base_uri": "https://localhost:8080/"
        },
        "outputId": "5dbaa072-91a6-48c1-bb98-86774dc593b1"
      },
      "source": [
        "if age < 20 : \n",
        "    print('술을 구매할 수 없습니다.')\n",
        "else : \n",
        "    print('감사합니다. 안녕히 가세요.')"
      ],
      "execution_count": null,
      "outputs": [
        {
          "output_type": "stream",
          "text": [
            "감사합니다. 안녕히 가세요.\n"
          ],
          "name": "stdout"
        }
      ]
    },
    {
      "cell_type": "markdown",
      "metadata": {
        "id": "kLlhbmxaU5Br"
      },
      "source": [
        "자동 출석 시스템 \n",
        "```\n",
        "출석 혹은 결석을 입력받아 출석이면 O을 출력, 출석이 아니면 X를 출력하기\n",
        "입력안내문 : 출석 혹은 결석을 입력하세요\n",
        "```\n",
        "\n"
      ]
    },
    {
      "cell_type": "code",
      "metadata": {
        "id": "7TAwKdmcTpUu",
        "colab": {
          "base_uri": "https://localhost:8080/"
        },
        "outputId": "92d053f0-7b8a-403d-9db1-845bd2bc6324"
      },
      "source": [
        "check = input('출석 혹은 결석을 입력하세요 ')\n",
        "if check == '출석' : \n",
        "    print('0')\n",
        "else : \n",
        "    print('X')"
      ],
      "execution_count": null,
      "outputs": [
        {
          "output_type": "stream",
          "text": [
            "출석 혹은 결석을 입력하세요 결석\n",
            "X\n"
          ],
          "name": "stdout"
        }
      ]
    },
    {
      "cell_type": "markdown",
      "metadata": {
        "id": "H3lACF-xoWgO"
      },
      "source": [
        "무인계산기 프로그램\n",
        "\n",
        "\n",
        "```\n",
        "목욕탕에서 무인계산기를 설치했다. \n",
        "성인 요금은 15000원, 미성년자 요금은 6000원이다. \n",
        "나이를 입력받아 성인이면 price(요금을 저장하는 변수)에 15000을, 미성년자라면 6000을 저장하기 \n",
        "```\n",
        "\n"
      ]
    },
    {
      "cell_type": "code",
      "metadata": {
        "id": "ADkXah-ynI6P",
        "colab": {
          "base_uri": "https://localhost:8080/"
        },
        "outputId": "d18e3ebc-e59c-480f-955a-5f5ac290a2b1"
      },
      "source": [
        "age = int(input('나이가 어떻게 되세요? '))\n",
        "\n",
        "if age >= 20 : \n",
        "    price = 15000\n",
        "    print('성인은', price, '원입니다.')\n",
        "else : \n",
        "    price = 6000\n",
        "    print('미성년자는', price, '원입니다.')"
      ],
      "execution_count": null,
      "outputs": [
        {
          "output_type": "stream",
          "text": [
            "나이가 어떻게 되세요? 35\n",
            "성인은 15000 원입니다.\n"
          ],
          "name": "stdout"
        }
      ]
    },
    {
      "cell_type": "markdown",
      "metadata": {
        "id": "dB3x0QJuxCgB"
      },
      "source": [
        "# 4. elif 조건문\n",
        "\n",
        "<img src='https://github.com/teacher-jiejie/allinone_AI/blob/images/68_elif.png?raw=true' width=400>\n"
      ]
    },
    {
      "cell_type": "markdown",
      "metadata": {
        "id": "2mnojcUty6z7"
      },
      "source": [
        "최저 주문금액이 있는 새벽배송 \n",
        "\n",
        "\n",
        "```\n",
        "- 최저 구매금액이 2만 원 \n",
        "- 5만 원 미만은 배송비 2500원 추가\n",
        "- 5만 원 이상 이면 무료배송\n",
        "\n",
        "구매금액을 입력받아 조건 별로 \n",
        "- '새벽배송이 불가합니다.'\n",
        "- '배송비 2500원이 추가됩니다.'\n",
        "- '무료배송됩니다.'\n",
        "중 하나를 출력하기\n",
        "```\n",
        "\n",
        "<img src='https://github.com/teacher-jiejie/allinone_AI/blob/images/67_elif.png?raw=true' width=600>"
      ]
    },
    {
      "cell_type": "code",
      "metadata": {
        "colab": {
          "base_uri": "https://localhost:8080/"
        },
        "id": "wVJyrAfb30ah",
        "outputId": "e439ffbb-c5b3-41d2-dab6-28ef30355065"
      },
      "source": [
        "price = int(input('구매금액은?'))\n",
        "\n",
        "if price < 20000 : \n",
        "    print('새벽배송이 불가능합니다.')\n",
        "elif price < 50000 : \n",
        "    print('배송비 2500원이 추가됩니다.')\n",
        "else : \n",
        "    print('무료배송 됩니다.')"
      ],
      "execution_count": null,
      "outputs": [
        {
          "output_type": "stream",
          "text": [
            "구매금액은?35000\n",
            "배송비 2500원이 추가됩니다.\n"
          ],
          "name": "stdout"
        }
      ]
    }
  ]
}