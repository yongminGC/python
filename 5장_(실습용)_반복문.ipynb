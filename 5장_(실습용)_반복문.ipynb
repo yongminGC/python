{
  "nbformat": 4,
  "nbformat_minor": 0,
  "metadata": {
    "colab": {
      "name": "5장-(실습용)-반복문.ipynb",
      "provenance": [],
      "collapsed_sections": [],
      "authorship_tag": "ABX9TyMcE5ntGFL+TDNIjiuvWBV3",
      "include_colab_link": true
    },
    "kernelspec": {
      "name": "python3",
      "display_name": "Python 3"
    }
  },
  "cells": [
    {
      "cell_type": "markdown",
      "metadata": {
        "id": "view-in-github",
        "colab_type": "text"
      },
      "source": [
        "<a href=\"https://colab.research.google.com/github/teacher-jiejie/Lets-get-it-Python-Lecture/blob/main/5%EC%9E%A5_(%EC%8B%A4%EC%8A%B5%EC%9A%A9)_%EB%B0%98%EB%B3%B5%EB%AC%B8.ipynb\" target=\"_parent\"><img src=\"https://colab.research.google.com/assets/colab-badge.svg\" alt=\"Open In Colab\"/></a>"
      ]
    },
    {
      "cell_type": "markdown",
      "metadata": {
        "id": "UCdFsLZvKa_C"
      },
      "source": [
        "# 1. 반복문\n",
        "<img src = 'https://github.com/teacher-jiejie/allinone_AI/blob/images/4_%EB%B0%98%EB%B3%B5%EB%AC%B8.png?raw=true' width=500>\n",
        "\n"
      ]
    },
    {
      "cell_type": "code",
      "metadata": {
        "id": "HyLrFLZQt46j"
      },
      "source": [
        ""
      ],
      "execution_count": null,
      "outputs": []
    },
    {
      "cell_type": "code",
      "metadata": {
        "id": "IQtiqCfit48u"
      },
      "source": [
        ""
      ],
      "execution_count": null,
      "outputs": []
    },
    {
      "cell_type": "markdown",
      "metadata": {
        "id": "oEfcTfzDFlqS"
      },
      "source": [
        "<img src ='https://github.com/teacher-jiejie/allinone_AI/blob/images/5_%EB%B0%98%EB%B3%B5%EB%AC%B8%20%EB%8F%99%EC%9E%91%EA%B5%AC%EC%A1%B0.png?raw=true' width=500>"
      ]
    },
    {
      "cell_type": "markdown",
      "metadata": {
        "id": "wKvrSc-qou3A"
      },
      "source": [
        "# 2. range(시작숫자, 종료숫자)"
      ]
    },
    {
      "cell_type": "code",
      "metadata": {
        "id": "v5KMYQfk0ZVn"
      },
      "source": [
        ""
      ],
      "execution_count": null,
      "outputs": []
    },
    {
      "cell_type": "markdown",
      "metadata": {
        "id": "y1BgbiiV1H11"
      },
      "source": [
        "> range()는 종료숫자-1 까지 포함한다"
      ]
    },
    {
      "cell_type": "code",
      "metadata": {
        "id": "tGmtMY-Z0k8p"
      },
      "source": [
        ""
      ],
      "execution_count": null,
      "outputs": []
    },
    {
      "cell_type": "markdown",
      "metadata": {
        "id": "_8ebt0AF1bAw"
      },
      "source": [
        "> range()에서 시작숫자가 0일 때에는 생략 가능"
      ]
    },
    {
      "cell_type": "code",
      "metadata": {
        "id": "B1X6olKc1kuJ"
      },
      "source": [
        ""
      ],
      "execution_count": null,
      "outputs": []
    },
    {
      "cell_type": "markdown",
      "metadata": {
        "id": "nDc1ylrt03nH"
      },
      "source": [
        "# 3. for i in data :\n",
        "일반적으로 반복문에서는 i라는 변수를 사용합니다"
      ]
    },
    {
      "cell_type": "markdown",
      "metadata": {
        "id": "uYdboDiW4n7G"
      },
      "source": [
        "1부터 50까지의 숫자의 합을 구해보자.\n",
        "ex) 1+2+3+...49+50"
      ]
    },
    {
      "cell_type": "code",
      "metadata": {
        "id": "qQGYUE-M4nZD"
      },
      "source": [
        ""
      ],
      "execution_count": null,
      "outputs": []
    },
    {
      "cell_type": "markdown",
      "metadata": {
        "id": "ZFSryQew5TMk"
      },
      "source": [
        "숫자 하나를 입력받고, 1부터 입력받은 숫자까지의 곱을 구해보세요.\n",
        "<br/>\n",
        "ex) 5를 입력받은 경우, 1x2x3x4x5 결과 출력하기"
      ]
    },
    {
      "cell_type": "code",
      "metadata": {
        "id": "J8hgPMKC06eR"
      },
      "source": [
        ""
      ],
      "execution_count": null,
      "outputs": []
    },
    {
      "cell_type": "markdown",
      "metadata": {
        "id": "wHPuVO9W57ym"
      },
      "source": [
        "# 4. 구구단 출력 프로그램\n",
        "4단 출력하기 <br/>\n",
        "\n",
        "```\n",
        "4 x 1 = 4\n",
        "4 x 2 = 8\n",
        "...\n",
        "4 x 8 = 32\n",
        "4 x 9 = 36\n",
        "```\n",
        "\n",
        "\n"
      ]
    },
    {
      "cell_type": "code",
      "metadata": {
        "id": "3g1T-QQw5u2b"
      },
      "source": [
        ""
      ],
      "execution_count": null,
      "outputs": []
    },
    {
      "cell_type": "markdown",
      "metadata": {
        "id": "v_SeRM6N7IH8"
      },
      "source": [
        "구구단 외울 단을 입력받아, 해당 숫자의 구구단을 외워봅시다.<br/>\n",
        "ex. 5를 입력받으면 5단 외우기"
      ]
    },
    {
      "cell_type": "code",
      "metadata": {
        "id": "wvdfZY6F7ChW"
      },
      "source": [
        ""
      ],
      "execution_count": null,
      "outputs": []
    },
    {
      "cell_type": "markdown",
      "metadata": {
        "id": "_uWiKA3x7tVP"
      },
      "source": [
        "# 5. 랜덤 구구단 게임 작성하기\n",
        "\n",
        "랜덤으로 곱셈문제를 내고, 답을 맞추는 게임"
      ]
    },
    {
      "cell_type": "markdown",
      "metadata": {
        "id": "1CLls7wl72Yr"
      },
      "source": [
        "### 라이브러리란\n",
        "<img src='https://github.com/teacher-jiejie/allinone_AI/blob/images/47_%EB%9D%BC%EC%9D%B4%EB%B8%8C%EB%9F%AC%EB%A6%AC.png?raw=true' width=500>\n",
        "<br/>\n",
        "<br/>\n",
        "\n",
        "<img src='https://github.com/teacher-jiejie/allinone_AI/blob/images/48_%EB%9D%BC%EC%9D%B4%EB%B8%8C%EB%9F%AC%EB%A6%AC.png?raw=true' width=500>"
      ]
    },
    {
      "cell_type": "code",
      "metadata": {
        "id": "dZkX0MhL7dsF"
      },
      "source": [
        ""
      ],
      "execution_count": null,
      "outputs": []
    },
    {
      "cell_type": "code",
      "metadata": {
        "id": "as2Vnvfb8eV-"
      },
      "source": [
        ""
      ],
      "execution_count": null,
      "outputs": []
    },
    {
      "cell_type": "code",
      "metadata": {
        "id": "TZd2F3ZE8hMs"
      },
      "source": [
        ""
      ],
      "execution_count": null,
      "outputs": []
    },
    {
      "cell_type": "code",
      "metadata": {
        "id": "iRxkK6oJ9PaH"
      },
      "source": [
        ""
      ],
      "execution_count": null,
      "outputs": []
    },
    {
      "cell_type": "markdown",
      "metadata": {
        "id": "xH8dkBjp9g2I"
      },
      "source": [
        "구구단 게임 형식 \n",
        "\n",
        "\n",
        "```\n",
        "구구단을 외자! 구구단을 외자! \n",
        "7 x 9 ? 63\n",
        "3 x 7 ? 21\n",
        "....\n",
        "```\n",
        "\n"
      ]
    },
    {
      "cell_type": "code",
      "metadata": {
        "id": "X307OmrI9RAr"
      },
      "source": [
        ""
      ],
      "execution_count": null,
      "outputs": []
    },
    {
      "cell_type": "markdown",
      "metadata": {
        "id": "WWRqZgGm-ZtL"
      },
      "source": [
        "구구단 게임에 입력칸을 만들어주자!"
      ]
    },
    {
      "cell_type": "code",
      "metadata": {
        "id": "RMtCyLNw-Xii"
      },
      "source": [
        ""
      ],
      "execution_count": null,
      "outputs": []
    },
    {
      "cell_type": "markdown",
      "metadata": {
        "id": "yhW5H934_Lw6"
      },
      "source": [
        "# 6. 반복문 안의 조건문\n",
        "랜덤 구구단 게임에서 입력된 답이 틀렸을 때, '땡! 정답은 00입니다' 출력하기"
      ]
    },
    {
      "cell_type": "code",
      "metadata": {
        "id": "7n-5WOkm-p0w"
      },
      "source": [
        "\n"
      ],
      "execution_count": null,
      "outputs": []
    },
    {
      "cell_type": "markdown",
      "metadata": {
        "id": "qDNUZNuU__KR"
      },
      "source": [
        "1부터 30까지 숫자의 홀수 짝수 판별하기"
      ]
    },
    {
      "cell_type": "code",
      "metadata": {
        "id": "D-vRuwUl_ykp"
      },
      "source": [
        "\n"
      ],
      "execution_count": null,
      "outputs": []
    },
    {
      "cell_type": "code",
      "metadata": {
        "id": "SoaJb-WVAZqu"
      },
      "source": [
        ""
      ],
      "execution_count": null,
      "outputs": []
    }
  ]
}