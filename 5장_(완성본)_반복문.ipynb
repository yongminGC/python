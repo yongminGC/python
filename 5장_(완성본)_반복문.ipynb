{
  "nbformat": 4,
  "nbformat_minor": 0,
  "metadata": {
    "colab": {
      "name": "5장-(완성본)-반복문.ipynb",
      "provenance": [],
      "collapsed_sections": [],
      "authorship_tag": "ABX9TyM0MYYkB2A1UsUEu9nhLCO/",
      "include_colab_link": true
    },
    "kernelspec": {
      "name": "python3",
      "display_name": "Python 3"
    }
  },
  "cells": [
    {
      "cell_type": "markdown",
      "metadata": {
        "id": "view-in-github",
        "colab_type": "text"
      },
      "source": [
        "<a href=\"https://colab.research.google.com/github/teacher-jiejie/Lets-get-it-Python-Lecture/blob/main/5%EC%9E%A5_(%EC%99%84%EC%84%B1%EB%B3%B8)_%EB%B0%98%EB%B3%B5%EB%AC%B8.ipynb\" target=\"_parent\"><img src=\"https://colab.research.google.com/assets/colab-badge.svg\" alt=\"Open In Colab\"/></a>"
      ]
    },
    {
      "cell_type": "markdown",
      "metadata": {
        "id": "UCdFsLZvKa_C"
      },
      "source": [
        "# 1. 반복문\n",
        "<img src = 'https://github.com/teacher-jiejie/allinone_AI/blob/images/4_%EB%B0%98%EB%B3%B5%EB%AC%B8.png?raw=true' width=500>\n",
        "\n"
      ]
    },
    {
      "cell_type": "code",
      "metadata": {
        "id": "HyLrFLZQt46j",
        "colab": {
          "base_uri": "https://localhost:8080/",
          "height": 101
        },
        "outputId": "f5d0e7b0-f687-41d4-ae49-dfcdef3423c6"
      },
      "source": [
        "for a in [1,2,3,4,5] : \n",
        "    print('안녕하세요!')"
      ],
      "execution_count": null,
      "outputs": [
        {
          "output_type": "stream",
          "text": [
            "안녕하세요!\n",
            "안녕하세요!\n",
            "안녕하세요!\n",
            "안녕하세요!\n",
            "안녕하세요!\n"
          ],
          "name": "stdout"
        }
      ]
    },
    {
      "cell_type": "code",
      "metadata": {
        "id": "IQtiqCfit48u",
        "colab": {
          "base_uri": "https://localhost:8080/",
          "height": 101
        },
        "outputId": "177c5812-f5b2-4ff0-ca0d-b7b85f70bff0"
      },
      "source": [
        "for a in [1,2,3,4,5] : \n",
        "    print(a, '안녕하세요!')"
      ],
      "execution_count": null,
      "outputs": [
        {
          "output_type": "stream",
          "text": [
            "1 안녕하세요!\n",
            "2 안녕하세요!\n",
            "3 안녕하세요!\n",
            "4 안녕하세요!\n",
            "5 안녕하세요!\n"
          ],
          "name": "stdout"
        }
      ]
    },
    {
      "cell_type": "markdown",
      "metadata": {
        "id": "oEfcTfzDFlqS"
      },
      "source": [
        "<img src ='https://github.com/teacher-jiejie/allinone_AI/blob/images/5_%EB%B0%98%EB%B3%B5%EB%AC%B8%20%EB%8F%99%EC%9E%91%EA%B5%AC%EC%A1%B0.png?raw=true' width=500>"
      ]
    },
    {
      "cell_type": "markdown",
      "metadata": {
        "id": "wKvrSc-qou3A"
      },
      "source": [
        "# 2. range(시작숫자, 종료숫자)"
      ]
    },
    {
      "cell_type": "code",
      "metadata": {
        "colab": {
          "base_uri": "https://localhost:8080/"
        },
        "id": "v5KMYQfk0ZVn",
        "outputId": "a5a351bd-735c-4094-e607-00107c9419d7"
      },
      "source": [
        "for a in range(1, 10) : \n",
        "    print(a, '선생님, 다시는 청소를 빼먹지 않겠습니다')"
      ],
      "execution_count": null,
      "outputs": [
        {
          "output_type": "stream",
          "text": [
            "1 선생님, 다시는 청소를 빼먹지 않겠습니다\n",
            "2 선생님, 다시는 청소를 빼먹지 않겠습니다\n",
            "3 선생님, 다시는 청소를 빼먹지 않겠습니다\n",
            "4 선생님, 다시는 청소를 빼먹지 않겠습니다\n",
            "5 선생님, 다시는 청소를 빼먹지 않겠습니다\n",
            "6 선생님, 다시는 청소를 빼먹지 않겠습니다\n",
            "7 선생님, 다시는 청소를 빼먹지 않겠습니다\n",
            "8 선생님, 다시는 청소를 빼먹지 않겠습니다\n",
            "9 선생님, 다시는 청소를 빼먹지 않겠습니다\n"
          ],
          "name": "stdout"
        }
      ]
    },
    {
      "cell_type": "markdown",
      "metadata": {
        "id": "y1BgbiiV1H11"
      },
      "source": [
        "> range()는 종료숫자-1 까지 포함한다"
      ]
    },
    {
      "cell_type": "code",
      "metadata": {
        "colab": {
          "base_uri": "https://localhost:8080/"
        },
        "id": "tGmtMY-Z0k8p",
        "outputId": "0b72e82b-79b7-4f06-be80-557d02e63f84"
      },
      "source": [
        "for a in range(1, 11) : \n",
        "    print(a, '선생님, 다시는 청소를 빼먹지 않겠습니다')"
      ],
      "execution_count": null,
      "outputs": [
        {
          "output_type": "stream",
          "text": [
            "1 선생님, 다시는 청소를 빼먹지 않겠습니다\n",
            "2 선생님, 다시는 청소를 빼먹지 않겠습니다\n",
            "3 선생님, 다시는 청소를 빼먹지 않겠습니다\n",
            "4 선생님, 다시는 청소를 빼먹지 않겠습니다\n",
            "5 선생님, 다시는 청소를 빼먹지 않겠습니다\n",
            "6 선생님, 다시는 청소를 빼먹지 않겠습니다\n",
            "7 선생님, 다시는 청소를 빼먹지 않겠습니다\n",
            "8 선생님, 다시는 청소를 빼먹지 않겠습니다\n",
            "9 선생님, 다시는 청소를 빼먹지 않겠습니다\n",
            "10 선생님, 다시는 청소를 빼먹지 않겠습니다\n"
          ],
          "name": "stdout"
        }
      ]
    },
    {
      "cell_type": "markdown",
      "metadata": {
        "id": "_8ebt0AF1bAw"
      },
      "source": [
        "> range()에서 시작숫자가 0일 때에는 생략 가능"
      ]
    },
    {
      "cell_type": "code",
      "metadata": {
        "colab": {
          "base_uri": "https://localhost:8080/"
        },
        "id": "B1X6olKc1kuJ",
        "outputId": "1034afb0-3007-4098-9016-972d9f81be35"
      },
      "source": [
        "for a in range(10) : \n",
        "    print(a, '선생님, 다시는 청소를 빼먹지 않겠습니다')"
      ],
      "execution_count": null,
      "outputs": [
        {
          "output_type": "stream",
          "text": [
            "0 선생님, 다시는 청소를 빼먹지 않겠습니다\n",
            "1 선생님, 다시는 청소를 빼먹지 않겠습니다\n",
            "2 선생님, 다시는 청소를 빼먹지 않겠습니다\n",
            "3 선생님, 다시는 청소를 빼먹지 않겠습니다\n",
            "4 선생님, 다시는 청소를 빼먹지 않겠습니다\n",
            "5 선생님, 다시는 청소를 빼먹지 않겠습니다\n",
            "6 선생님, 다시는 청소를 빼먹지 않겠습니다\n",
            "7 선생님, 다시는 청소를 빼먹지 않겠습니다\n",
            "8 선생님, 다시는 청소를 빼먹지 않겠습니다\n",
            "9 선생님, 다시는 청소를 빼먹지 않겠습니다\n"
          ],
          "name": "stdout"
        }
      ]
    },
    {
      "cell_type": "markdown",
      "metadata": {
        "id": "nDc1ylrt03nH"
      },
      "source": [
        "# 3. for i in data :\n",
        "일반적으로 반복문에서는 i라는 변수를 사용합니다"
      ]
    },
    {
      "cell_type": "markdown",
      "metadata": {
        "id": "uYdboDiW4n7G"
      },
      "source": [
        "1부터 50까지의 숫자의 합을 구해보자.\n",
        "ex) 1+2+3+...49+50"
      ]
    },
    {
      "cell_type": "code",
      "metadata": {
        "colab": {
          "base_uri": "https://localhost:8080/"
        },
        "id": "qQGYUE-M4nZD",
        "outputId": "055b2a22-3294-4f8e-ec57-f61d3a78ba39"
      },
      "source": [
        "result = 0\n",
        "\n",
        "for i in range(1, 51) : \n",
        "    result += i\n",
        "\n",
        "print(result)"
      ],
      "execution_count": null,
      "outputs": [
        {
          "output_type": "stream",
          "text": [
            "1275\n"
          ],
          "name": "stdout"
        }
      ]
    },
    {
      "cell_type": "markdown",
      "metadata": {
        "id": "ZFSryQew5TMk"
      },
      "source": [
        "숫자 하나를 입력받고, 1부터 입력받은 숫자까지의 곱을 구해보세요.\n",
        "<br/>\n",
        "ex) 5를 입력받은 경우, 1x2x3x4x5 결과 출력하기"
      ]
    },
    {
      "cell_type": "code",
      "metadata": {
        "colab": {
          "base_uri": "https://localhost:8080/"
        },
        "id": "J8hgPMKC06eR",
        "outputId": "cc11ab35-cc52-48c5-f575-8dd114ec2c6b"
      },
      "source": [
        "num = int(input('숫자 입력 -> '))\n",
        "result = 1\n",
        "\n",
        "for i in range(1, num+1) : \n",
        "    result *= i\n",
        "\n",
        "print(result)"
      ],
      "execution_count": null,
      "outputs": [
        {
          "output_type": "stream",
          "text": [
            "숫자 입력 -> 5\n",
            "120\n"
          ],
          "name": "stdout"
        }
      ]
    },
    {
      "cell_type": "markdown",
      "metadata": {
        "id": "wHPuVO9W57ym"
      },
      "source": [
        "# 4. 구구단 출력 프로그램\n",
        "4단 출력하기 <br/>\n",
        "\n",
        "```\n",
        "4 x 1 = 4\n",
        "4 x 2 = 8\n",
        "...\n",
        "4 x 8 = 32\n",
        "4 x 9 = 36\n",
        "```\n",
        "\n",
        "\n"
      ]
    },
    {
      "cell_type": "code",
      "metadata": {
        "colab": {
          "base_uri": "https://localhost:8080/"
        },
        "id": "3g1T-QQw5u2b",
        "outputId": "7f99aed6-ad8b-4c37-b112-49ede01e0d82"
      },
      "source": [
        "for i in range(1, 10) : \n",
        "    print('4 x', i, '=', 4*i)"
      ],
      "execution_count": null,
      "outputs": [
        {
          "output_type": "stream",
          "text": [
            "4 x 1 = 4\n",
            "4 x 2 = 8\n",
            "4 x 3 = 12\n",
            "4 x 4 = 16\n",
            "4 x 5 = 20\n",
            "4 x 6 = 24\n",
            "4 x 7 = 28\n",
            "4 x 8 = 32\n",
            "4 x 9 = 36\n"
          ],
          "name": "stdout"
        }
      ]
    },
    {
      "cell_type": "markdown",
      "metadata": {
        "id": "v_SeRM6N7IH8"
      },
      "source": [
        "구구단 외울 단을 입력받아, 해당 숫자의 구구단을 외워봅시다.<br/>\n",
        "ex. 5를 입력받으면 5단 외우기"
      ]
    },
    {
      "cell_type": "code",
      "metadata": {
        "colab": {
          "base_uri": "https://localhost:8080/"
        },
        "id": "wvdfZY6F7ChW",
        "outputId": "0041872d-48d7-416c-8b1a-5aff3302adaa"
      },
      "source": [
        "num = int(input('몇 단을 외워볼까요? '))\n",
        "\n",
        "for i in range(1, 10) : \n",
        "    print(num, 'x', i, '=', num*i)"
      ],
      "execution_count": null,
      "outputs": [
        {
          "output_type": "stream",
          "text": [
            "몇 단을 외워볼까요? 19\n",
            "19 x 1 = 19\n",
            "19 x 2 = 38\n",
            "19 x 3 = 57\n",
            "19 x 4 = 76\n",
            "19 x 5 = 95\n",
            "19 x 6 = 114\n",
            "19 x 7 = 133\n",
            "19 x 8 = 152\n",
            "19 x 9 = 171\n"
          ],
          "name": "stdout"
        }
      ]
    },
    {
      "cell_type": "markdown",
      "metadata": {
        "id": "_uWiKA3x7tVP"
      },
      "source": [
        "# 5. 랜덤 구구단 게임 작성하기\n",
        "\n",
        "랜덤으로 곱셈문제를 내고, 답을 맞추는 게임"
      ]
    },
    {
      "cell_type": "markdown",
      "metadata": {
        "id": "1CLls7wl72Yr"
      },
      "source": [
        "### 라이브러리란\n",
        "<img src='https://github.com/teacher-jiejie/allinone_AI/blob/images/47_%EB%9D%BC%EC%9D%B4%EB%B8%8C%EB%9F%AC%EB%A6%AC.png?raw=true' width=500>\n",
        "<br/>\n",
        "<br/>\n",
        "\n",
        "<img src='https://github.com/teacher-jiejie/allinone_AI/blob/images/48_%EB%9D%BC%EC%9D%B4%EB%B8%8C%EB%9F%AC%EB%A6%AC.png?raw=true' width=500>"
      ]
    },
    {
      "cell_type": "code",
      "metadata": {
        "colab": {
          "base_uri": "https://localhost:8080/"
        },
        "id": "dZkX0MhL7dsF",
        "outputId": "cd56573c-ca44-41d1-b024-08aec026c80b"
      },
      "source": [
        "import random\n",
        "\n",
        "random.random()"
      ],
      "execution_count": null,
      "outputs": [
        {
          "output_type": "execute_result",
          "data": {
            "text/plain": [
              "0.8932936422942704"
            ]
          },
          "metadata": {
            "tags": []
          },
          "execution_count": 24
        }
      ]
    },
    {
      "cell_type": "code",
      "metadata": {
        "colab": {
          "base_uri": "https://localhost:8080/"
        },
        "id": "as2Vnvfb8eV-",
        "outputId": "bc2996cb-79cf-4f91-b2c0-11445a20e4a6"
      },
      "source": [
        "help(random.random)"
      ],
      "execution_count": null,
      "outputs": [
        {
          "output_type": "stream",
          "text": [
            "Help on built-in function random:\n",
            "\n",
            "random(...) method of random.Random instance\n",
            "    random() -> x in the interval [0, 1).\n",
            "\n"
          ],
          "name": "stdout"
        }
      ]
    },
    {
      "cell_type": "code",
      "metadata": {
        "colab": {
          "base_uri": "https://localhost:8080/"
        },
        "id": "TZd2F3ZE8hMs",
        "outputId": "ade3c9cd-601e-4b58-a9ad-ee217b917e3a"
      },
      "source": [
        "random.randint(1, 10)"
      ],
      "execution_count": null,
      "outputs": [
        {
          "output_type": "execute_result",
          "data": {
            "text/plain": [
              "3"
            ]
          },
          "metadata": {
            "tags": []
          },
          "execution_count": 38
        }
      ]
    },
    {
      "cell_type": "code",
      "metadata": {
        "colab": {
          "base_uri": "https://localhost:8080/"
        },
        "id": "iRxkK6oJ9PaH",
        "outputId": "0eb73972-958a-43dd-adf5-717baf80b3a9"
      },
      "source": [
        "help(random.randint)"
      ],
      "execution_count": null,
      "outputs": [
        {
          "output_type": "stream",
          "text": [
            "Help on method randint in module random:\n",
            "\n",
            "randint(a, b) method of random.Random instance\n",
            "    Return random integer in range [a, b], including both end points.\n",
            "\n"
          ],
          "name": "stdout"
        }
      ]
    },
    {
      "cell_type": "markdown",
      "metadata": {
        "id": "xH8dkBjp9g2I"
      },
      "source": [
        "구구단 게임 형식 \n",
        "\n",
        "\n",
        "```\n",
        "구구단을 외자! 구구단을 외자! \n",
        "7 x 9 ? 63\n",
        "3 x 7 ? 21\n",
        "....\n",
        "```\n",
        "\n"
      ]
    },
    {
      "cell_type": "code",
      "metadata": {
        "colab": {
          "base_uri": "https://localhost:8080/"
        },
        "id": "X307OmrI9RAr",
        "outputId": "3d1699e8-8116-48e1-a3fa-48982ed48e8d"
      },
      "source": [
        "import random\n",
        "\n",
        "for i in range(5) : \n",
        "    num1 = random.randint(2, 9)\n",
        "    num2 = random.randint(1, 9)\n",
        "    print(num1, 'x', num2,'?')"
      ],
      "execution_count": null,
      "outputs": [
        {
          "output_type": "stream",
          "text": [
            "9 x 8 ?\n",
            "5 x 2 ?\n",
            "3 x 2 ?\n",
            "6 x 5 ?\n",
            "6 x 7 ?\n"
          ],
          "name": "stdout"
        }
      ]
    },
    {
      "cell_type": "markdown",
      "metadata": {
        "id": "WWRqZgGm-ZtL"
      },
      "source": [
        "구구단 게임에 입력칸을 만들어주자!"
      ]
    },
    {
      "cell_type": "code",
      "metadata": {
        "colab": {
          "base_uri": "https://localhost:8080/"
        },
        "id": "RMtCyLNw-Xii",
        "outputId": "38467334-7964-4a12-f1b4-fbbb83249ffc"
      },
      "source": [
        "import random\n",
        "\n",
        "for i in range(5) : \n",
        "    num1 = random.randint(2, 9)\n",
        "    num2 = random.randint(1, 9)\n",
        "    question = str(num1)+' x '+str(num2)+' ? '\n",
        "    input(question)"
      ],
      "execution_count": null,
      "outputs": [
        {
          "output_type": "stream",
          "text": [
            "6 x 5 ? 30\n",
            "9 x 7 ? 42\n",
            "2 x 2 ? 4\n",
            "9 x 2 ? 1\n",
            "2 x 1 ? 1\n"
          ],
          "name": "stdout"
        }
      ]
    },
    {
      "cell_type": "markdown",
      "metadata": {
        "id": "yhW5H934_Lw6"
      },
      "source": [
        "# 6. 반복문 안의 조건문\n",
        "랜덤 구구단 게임에서 입력된 답이 틀렸을 때, '땡! 정답은 00입니다' 출력하기"
      ]
    },
    {
      "cell_type": "code",
      "metadata": {
        "colab": {
          "base_uri": "https://localhost:8080/"
        },
        "id": "7n-5WOkm-p0w",
        "outputId": "900ec9ef-b57a-4689-ba4c-a32fa5eb0a57"
      },
      "source": [
        "for i in range(5) : \n",
        "    num1 = random.randint(2, 9)\n",
        "    num2 = random.randint(1, 9)\n",
        "    question = str(num1)+' x '+str(num2)+' ? '\n",
        "    # 입력된 답을 변수에 저장하기\n",
        "    answer = int(input(question))\n",
        "\n",
        "    if answer != num1*num2 : \n",
        "        print('땡! 정답은', num1*num2)"
      ],
      "execution_count": null,
      "outputs": [
        {
          "output_type": "stream",
          "text": [
            "8 x 8 ? 5\n",
            "땡! 정답은 64\n",
            "5 x 6 ? 6\n",
            "땡! 정답은 30\n",
            "9 x 2 ? 1\n",
            "땡! 정답은 18\n",
            "5 x 8 ? 40\n",
            "8 x 6 ? 48\n"
          ],
          "name": "stdout"
        }
      ]
    },
    {
      "cell_type": "markdown",
      "metadata": {
        "id": "qDNUZNuU__KR"
      },
      "source": [
        "1부터 30까지 숫자의 홀수 짝수 판별하기"
      ]
    },
    {
      "cell_type": "code",
      "metadata": {
        "colab": {
          "base_uri": "https://localhost:8080/"
        },
        "id": "D-vRuwUl_ykp",
        "outputId": "7eb54908-9720-4caa-fb38-8ebd76c7709d"
      },
      "source": [
        "for i in range(1, 31) : \n",
        "    if i%2 == 1 : \n",
        "        print(i, '홀수')\n",
        "    else : \n",
        "        print(i, '짝수')"
      ],
      "execution_count": null,
      "outputs": [
        {
          "output_type": "stream",
          "text": [
            "1 홀수\n",
            "2 짝수\n",
            "3 홀수\n",
            "4 짝수\n",
            "5 홀수\n",
            "6 짝수\n",
            "7 홀수\n",
            "8 짝수\n",
            "9 홀수\n",
            "10 짝수\n",
            "11 홀수\n",
            "12 짝수\n",
            "13 홀수\n",
            "14 짝수\n",
            "15 홀수\n",
            "16 짝수\n",
            "17 홀수\n",
            "18 짝수\n",
            "19 홀수\n",
            "20 짝수\n",
            "21 홀수\n",
            "22 짝수\n",
            "23 홀수\n",
            "24 짝수\n",
            "25 홀수\n",
            "26 짝수\n",
            "27 홀수\n",
            "28 짝수\n",
            "29 홀수\n",
            "30 짝수\n"
          ],
          "name": "stdout"
        }
      ]
    },
    {
      "cell_type": "code",
      "metadata": {
        "id": "SoaJb-WVAZqu"
      },
      "source": [
        ""
      ],
      "execution_count": null,
      "outputs": []
    }
  ]
}