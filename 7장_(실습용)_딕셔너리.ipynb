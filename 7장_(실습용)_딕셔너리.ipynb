{
  "nbformat": 4,
  "nbformat_minor": 0,
  "metadata": {
    "colab": {
      "name": "7장-(실습용)-딕셔너리.ipynb",
      "provenance": [],
      "collapsed_sections": [],
      "authorship_tag": "ABX9TyO4iLVELkponi7Cg0NzxYQD",
      "include_colab_link": true
    },
    "kernelspec": {
      "name": "python3",
      "display_name": "Python 3"
    }
  },
  "cells": [
    {
      "cell_type": "markdown",
      "metadata": {
        "id": "view-in-github",
        "colab_type": "text"
      },
      "source": [
        "<a href=\"https://colab.research.google.com/github/teacher-jiejie/Lets-get-it-Python-Lecture/blob/main/7%EC%9E%A5_(%EC%8B%A4%EC%8A%B5%EC%9A%A9)_%EB%94%95%EC%85%94%EB%84%88%EB%A6%AC.ipynb\" target=\"_parent\"><img src=\"https://colab.research.google.com/assets/colab-badge.svg\" alt=\"Open In Colab\"/></a>"
      ]
    },
    {
      "cell_type": "markdown",
      "metadata": {
        "id": "YUjUXo-VVr_i"
      },
      "source": [
        "#  1. 딕셔너리\n",
        "Key (키) - Value (값) 대응    \n",
        "\n",
        "\n",
        "<img src = 'https://github.com/teacher-jiejie/allinone_AI/blob/images/12_%EB%94%95%EC%85%94%EB%84%88%EB%A6%AC.png?raw=true' width =600>\n",
        "\n",
        "<br/>\n",
        "<br/>\n",
        "<img src='https://github.com/teacher-jiejie/allinone_AI/blob/images/72_%EB%94%95%EC%85%94%EB%84%88%EB%A6%AC%20%EB%A6%AC%EC%8A%A4%ED%8A%B8%20%EB%B9%84%EA%B5%90.png?raw=true' width =400>\n",
        "\n",
        "<br/>\n",
        "\n",
        "```\n",
        "딕셔너리이름 = {키1 : 값1, 키2 : 값2, ... 키n : 값n}\n",
        "```"
      ]
    },
    {
      "cell_type": "code",
      "metadata": {
        "id": "muilZTAqVWSX"
      },
      "source": [
        ""
      ],
      "execution_count": null,
      "outputs": []
    },
    {
      "cell_type": "code",
      "metadata": {
        "id": "m_L_9MFXHE-q"
      },
      "source": [
        ""
      ],
      "execution_count": null,
      "outputs": []
    },
    {
      "cell_type": "code",
      "metadata": {
        "id": "f8nsSOSgWiF_"
      },
      "source": [
        ""
      ],
      "execution_count": null,
      "outputs": []
    },
    {
      "cell_type": "code",
      "metadata": {
        "id": "ZD5r03fYWiIn"
      },
      "source": [
        "\n"
      ],
      "execution_count": null,
      "outputs": []
    },
    {
      "cell_type": "code",
      "metadata": {
        "id": "dNCtUNpQWiC9"
      },
      "source": [
        "\n"
      ],
      "execution_count": null,
      "outputs": []
    },
    {
      "cell_type": "code",
      "metadata": {
        "id": "2fEMex4SHszU"
      },
      "source": [
        "# 돈가스 추가\n"
      ],
      "execution_count": null,
      "outputs": []
    },
    {
      "cell_type": "markdown",
      "metadata": {
        "id": "xrO7GOZeF8-U"
      },
      "source": [
        "<img src = 'https://github.com/teacher-jiejie/allinone_AI/blob/images/73_%EB%94%95%EC%85%94%EB%84%88%EB%A6%AC%5B%ED%82%A4%5D.png?raw=true' width=600>"
      ]
    },
    {
      "cell_type": "markdown",
      "metadata": {
        "id": "WU3kevp9H65l"
      },
      "source": [
        "# 2. 딕셔너리의 키와 값\n",
        "\n",
        "딕셔너리의 키만 꺼내기 \n",
        "> 딕셔너리이름.keys()\n",
        "\n",
        "<br/>\n",
        "\n",
        "딕셔너리의 값(value)만 꺼내기 \n",
        "> 딕셔너리이름.values()\n",
        "\n",
        "<br/>\n",
        "\n",
        "딕셔너리의 키-값 모두 꺼내기 \n",
        ">딕셔너리이름.items()\n",
        "\n",
        "\n",
        "\n"
      ]
    },
    {
      "cell_type": "code",
      "metadata": {
        "id": "DXX_OvkAHwpZ"
      },
      "source": [
        ""
      ],
      "execution_count": null,
      "outputs": []
    },
    {
      "cell_type": "code",
      "metadata": {
        "id": "0DV55KHaIWgw"
      },
      "source": [
        ""
      ],
      "execution_count": null,
      "outputs": []
    },
    {
      "cell_type": "code",
      "metadata": {
        "id": "TLymlSQpIWe8"
      },
      "source": [
        ""
      ],
      "execution_count": null,
      "outputs": []
    },
    {
      "cell_type": "code",
      "metadata": {
        "id": "hhowVdC3IWdJ"
      },
      "source": [
        "# 딕셔너리의 키를 리스트로 변환하기\n"
      ],
      "execution_count": null,
      "outputs": []
    },
    {
      "cell_type": "code",
      "metadata": {
        "id": "2gzBfJX9IWbN"
      },
      "source": [
        "# 딕셔너리의 값을 리스트로 변환하기\n"
      ],
      "execution_count": null,
      "outputs": []
    },
    {
      "cell_type": "markdown",
      "metadata": {
        "id": "bOJo7AydZXiN"
      },
      "source": [
        "# 3. 딕셔너리 정렬하기 \n",
        "\n",
        "> sorted( )\n",
        "\n",
        "```\n",
        "# 딕셔너리 키를 정렬\n",
        "sorted(딕셔너리.keys())\n",
        "\n",
        "# 딕셔너리 값을 정렬\n",
        "sorted(딕셔너리.values())\n",
        "\n",
        "# 딕셔너리 키-값을 정렬\n",
        "sorted(딕셔너리.items())\n",
        "```\n",
        "\n",
        "```\n",
        "mart = {'과자':1500, '아이스크림':1700, '휴지':4800, '고기':10500, '우유':2600}\n",
        "```\n",
        "\n",
        "\n"
      ]
    },
    {
      "cell_type": "markdown",
      "metadata": {
        "id": "_tatFM0dXImU"
      },
      "source": [
        "딕셔너리의 키 정렬하기"
      ]
    },
    {
      "cell_type": "code",
      "metadata": {
        "id": "bERDCkSiZXiR"
      },
      "source": [
        ""
      ],
      "execution_count": null,
      "outputs": []
    },
    {
      "cell_type": "code",
      "metadata": {
        "id": "VjpertryW0hD"
      },
      "source": [
        ""
      ],
      "execution_count": null,
      "outputs": []
    },
    {
      "cell_type": "markdown",
      "metadata": {
        "id": "yFktNx-kZXiS"
      },
      "source": [
        "오름차순, 내림차순 옵션 reverse\n",
        "\n",
        "> sorted(정렬할 대상, reverse = True/False)"
      ]
    },
    {
      "cell_type": "code",
      "metadata": {
        "id": "fl_A4ZDrW_EJ"
      },
      "source": [
        ""
      ],
      "execution_count": null,
      "outputs": []
    },
    {
      "cell_type": "markdown",
      "metadata": {
        "id": "9AO7wNC9XNN-"
      },
      "source": [
        "딕셔너리의 값 정렬"
      ]
    },
    {
      "cell_type": "code",
      "metadata": {
        "id": "qbj3FJhEZXiT"
      },
      "source": [
        ""
      ],
      "execution_count": null,
      "outputs": []
    },
    {
      "cell_type": "code",
      "metadata": {
        "id": "y2QlgRtuXPy6"
      },
      "source": [
        ""
      ],
      "execution_count": null,
      "outputs": []
    },
    {
      "cell_type": "markdown",
      "metadata": {
        "id": "yTOIFty5XeKD"
      },
      "source": [
        "> 딕셔너리 정렬 결과는 리스트이다! "
      ]
    },
    {
      "cell_type": "code",
      "metadata": {
        "id": "47mSPg_zZXiU"
      },
      "source": [
        "# 가장 싼 상품의 가격은?\n"
      ],
      "execution_count": null,
      "outputs": []
    },
    {
      "cell_type": "code",
      "metadata": {
        "id": "WFH4PWWZZXiU"
      },
      "source": [
        "# 가장 싼 상품 두 개의 가격은?\n"
      ],
      "execution_count": null,
      "outputs": []
    },
    {
      "cell_type": "code",
      "metadata": {
        "id": "eesAp3eRZXiU"
      },
      "source": [
        "# 가장 비싼 상품의 두 개의 가격은?\n"
      ],
      "execution_count": null,
      "outputs": []
    },
    {
      "cell_type": "markdown",
      "metadata": {
        "id": "4mAYDpDsXn9Q"
      },
      "source": [
        "딕셔너리의 키-값 쌍을 정렬하기"
      ]
    },
    {
      "cell_type": "code",
      "metadata": {
        "id": "jcTua0ksVB8A"
      },
      "source": [
        "# 딕셔너리의 (키-값) 쌍을 정렬하기\n"
      ],
      "execution_count": null,
      "outputs": []
    },
    {
      "cell_type": "code",
      "metadata": {
        "id": "EGOyjkSqYPkn"
      },
      "source": [
        ""
      ],
      "execution_count": null,
      "outputs": []
    },
    {
      "cell_type": "markdown",
      "metadata": {
        "id": "gLVK3OBHZXiW"
      },
      "source": [
        "딕셔너리 (키-값) 쌍은 자동으로 키를 기준으로 정렬됨\n",
        "\n",
        "> 값을 기준으로 (키-값) 쌍 정렬하기 \n",
        "\n",
        "```\n",
        "import operator\n",
        "\n",
        "sorted(딕셔너리.items(), key = operator.itemgetter(1))\n",
        "```\n",
        "\n",
        "\n",
        "\n"
      ]
    },
    {
      "cell_type": "code",
      "metadata": {
        "id": "r5-mL7XIZXiW"
      },
      "source": [
        "# 딕셔너리 키-값 정렬시 값을 기준으로 정렬하기\n",
        "\n"
      ],
      "execution_count": null,
      "outputs": []
    },
    {
      "cell_type": "code",
      "metadata": {
        "id": "uAciMtpcYqMo"
      },
      "source": [
        ""
      ],
      "execution_count": null,
      "outputs": []
    },
    {
      "cell_type": "code",
      "metadata": {
        "id": "f08bsp01ZXiY"
      },
      "source": [
        "# 가장 비싼 상품과 가격을 출력하시오 \n"
      ],
      "execution_count": null,
      "outputs": []
    },
    {
      "cell_type": "code",
      "metadata": {
        "id": "IyCkcxNeZXiY"
      },
      "source": [
        "# 가장 비싼 상품 두개의 이름과 가격을 출력하기? \n"
      ],
      "execution_count": null,
      "outputs": []
    },
    {
      "cell_type": "markdown",
      "metadata": {
        "id": "uFj8bD4j9O-f"
      },
      "source": [
        "# 4. 딕셔너리와 제어구조\n",
        "\n",
        "\n",
        "\n",
        "```\n",
        "# 다섯 명의 중간고사 점수를 저장한 딕셔너리\n",
        "midterm = {'도윤': 43, '하윤': 82, '시우': 76, '지유': 61, '주원': 94}\n",
        "```\n"
      ]
    },
    {
      "cell_type": "code",
      "metadata": {
        "id": "-qj88bkQ9anF"
      },
      "source": [
        "# 학생 이름을 입력받나, 딕셔너리에 학생 이름이 있으면 점수를 출력\n",
        "# 없다면 '해당 학생이 없습니다.' 출력하기 \n"
      ],
      "execution_count": null,
      "outputs": []
    },
    {
      "cell_type": "code",
      "metadata": {
        "id": "SaGbxT9b9apS"
      },
      "source": [
        "# 딕셔너리에 저장된 모든 학생의 이름 출력하기\n"
      ],
      "execution_count": null,
      "outputs": []
    },
    {
      "cell_type": "markdown",
      "metadata": {
        "id": "9Fw3YuxyAAsk"
      },
      "source": [
        "<img src='https://github.com/teacher-jiejie/allinone_AI/blob/images/76_%EB%94%95%EC%85%94%EB%84%88%EB%A6%AC_%ED%82%A4%EB%B0%98%EB%B3%B5.png?raw=true' width=600>"
      ]
    },
    {
      "cell_type": "code",
      "metadata": {
        "id": "RQkgM-Io-m95"
      },
      "source": [
        "# 딕셔너리에 저장된 모든 점수 출력하기\n"
      ],
      "execution_count": null,
      "outputs": []
    },
    {
      "cell_type": "markdown",
      "metadata": {
        "id": "0SyNJh_FAGA7"
      },
      "source": [
        "<img src='https://github.com/teacher-jiejie/allinone_AI/blob/images/77_%EB%94%95%EC%85%94%EB%84%88%EB%A6%AC_%EA%B0%92%EB%B0%98%EB%B3%B5.png?raw=true' width=600>"
      ]
    },
    {
      "cell_type": "code",
      "metadata": {
        "id": "2sP5sm_9-nTQ"
      },
      "source": [
        "# 딕셔너리에 저장된 모든 학생과 점수를 같이 출력하기\n"
      ],
      "execution_count": null,
      "outputs": []
    },
    {
      "cell_type": "code",
      "metadata": {
        "id": "ta1vpZK3A4mZ"
      },
      "source": [
        "\n"
      ],
      "execution_count": null,
      "outputs": []
    },
    {
      "cell_type": "markdown",
      "metadata": {
        "id": "Z7Iu73cvAFOF"
      },
      "source": [
        "<img src='https://github.com/teacher-jiejie/allinone_AI/blob/images/78_%EB%94%95%EC%85%94%EB%84%88%EB%A6%AC_%EC%95%84%EC%9D%B4%ED%85%9C%EB%B0%98%EB%B3%B5.png?raw=true' width=600>"
      ]
    },
    {
      "cell_type": "code",
      "metadata": {
        "id": "SNPXwr3yAOOx"
      },
      "source": [
        ""
      ],
      "execution_count": null,
      "outputs": []
    }
  ]
}