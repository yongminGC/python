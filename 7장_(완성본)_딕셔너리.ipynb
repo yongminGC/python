{
  "nbformat": 4,
  "nbformat_minor": 0,
  "metadata": {
    "colab": {
      "name": "7장-(완성본)-딕셔너리.ipynb",
      "provenance": [],
      "collapsed_sections": [],
      "authorship_tag": "ABX9TyPKQoaqLAzPrNtXBWI7hItd",
      "include_colab_link": true
    },
    "kernelspec": {
      "name": "python3",
      "display_name": "Python 3"
    }
  },
  "cells": [
    {
      "cell_type": "markdown",
      "metadata": {
        "id": "view-in-github",
        "colab_type": "text"
      },
      "source": [
        "<a href=\"https://colab.research.google.com/github/teacher-jiejie/Lets-get-it-Python-Lecture/blob/main/7%EC%9E%A5_(%EC%99%84%EC%84%B1%EB%B3%B8)_%EB%94%95%EC%85%94%EB%84%88%EB%A6%AC.ipynb\" target=\"_parent\"><img src=\"https://colab.research.google.com/assets/colab-badge.svg\" alt=\"Open In Colab\"/></a>"
      ]
    },
    {
      "cell_type": "markdown",
      "metadata": {
        "id": "YUjUXo-VVr_i"
      },
      "source": [
        "#  1. 딕셔너리\n",
        "Key (키) - Value (값) 대응    \n",
        "\n",
        "\n",
        "<img src = 'https://github.com/teacher-jiejie/allinone_AI/blob/images/12_%EB%94%95%EC%85%94%EB%84%88%EB%A6%AC.png?raw=true' width =600>\n",
        "\n",
        "<br/>\n",
        "<br/>\n",
        "<img src='https://github.com/teacher-jiejie/allinone_AI/blob/images/72_%EB%94%95%EC%85%94%EB%84%88%EB%A6%AC%20%EB%A6%AC%EC%8A%A4%ED%8A%B8%20%EB%B9%84%EA%B5%90.png?raw=true' width =400>\n",
        "\n",
        "<br/>\n",
        "\n",
        "```\n",
        "딕셔너리이름 = {키1 : 값1, 키2 : 값2, ... 키n : 값n}\n",
        "```"
      ]
    },
    {
      "cell_type": "code",
      "metadata": {
        "id": "muilZTAqVWSX",
        "colab": {
          "base_uri": "https://localhost:8080/"
        },
        "outputId": "63fc84a2-4cb0-4164-f4aa-2eb69f57c070"
      },
      "source": [
        "menu = {'김밥':2500, '참치김밥': 3500, '라면':3000, '치즈라면': 4000}\n",
        "menu"
      ],
      "execution_count": null,
      "outputs": [
        {
          "output_type": "execute_result",
          "data": {
            "text/plain": [
              "{'김밥': 2500, '라면': 3000, '참치김밥': 3500, '치즈라면': 4000}"
            ]
          },
          "metadata": {
            "tags": []
          },
          "execution_count": 1
        }
      ]
    },
    {
      "cell_type": "code",
      "metadata": {
        "id": "m_L_9MFXHE-q",
        "colab": {
          "base_uri": "https://localhost:8080/"
        },
        "outputId": "7294b254-1953-4a95-90ee-8e148c6f07e7"
      },
      "source": [
        "menu['참치김밥']"
      ],
      "execution_count": null,
      "outputs": [
        {
          "output_type": "execute_result",
          "data": {
            "text/plain": [
              "3500"
            ]
          },
          "metadata": {
            "tags": []
          },
          "execution_count": 2
        }
      ]
    },
    {
      "cell_type": "code",
      "metadata": {
        "id": "f8nsSOSgWiF_",
        "colab": {
          "base_uri": "https://localhost:8080/"
        },
        "outputId": "6def824a-ed89-4645-bb39-ad948cdf08a8"
      },
      "source": [
        "menu['치즈라면']"
      ],
      "execution_count": null,
      "outputs": [
        {
          "output_type": "execute_result",
          "data": {
            "text/plain": [
              "4000"
            ]
          },
          "metadata": {
            "tags": []
          },
          "execution_count": 3
        }
      ]
    },
    {
      "cell_type": "code",
      "metadata": {
        "id": "ZD5r03fYWiIn",
        "colab": {
          "base_uri": "https://localhost:8080/"
        },
        "outputId": "fc42a04f-4964-4b9f-98d6-99bad9345f2a"
      },
      "source": [
        "print(menu)\n",
        "\n",
        "# 참치김밥 인하 3000원\n",
        "menu['참치김밥'] = 3000\n",
        "\n",
        "print(menu)"
      ],
      "execution_count": null,
      "outputs": [
        {
          "output_type": "stream",
          "text": [
            "{'김밥': 2500, '참치김밥': 3500, '라면': 3000, '치즈라면': 4000}\n",
            "{'김밥': 2500, '참치김밥': 3000, '라면': 3000, '치즈라면': 4000}\n"
          ],
          "name": "stdout"
        }
      ]
    },
    {
      "cell_type": "code",
      "metadata": {
        "id": "dNCtUNpQWiC9",
        "colab": {
          "base_uri": "https://localhost:8080/"
        },
        "outputId": "22871a88-ae0a-445b-c4ab-50f1846a2129"
      },
      "source": [
        "print(menu)\n",
        "\n",
        "# 라면가격 인상 3500\n",
        "menu['라면'] = 3500\n",
        "\n",
        "print(menu)"
      ],
      "execution_count": null,
      "outputs": [
        {
          "output_type": "stream",
          "text": [
            "{'김밥': 2500, '참치김밥': 3000, '라면': 3000, '치즈라면': 4000}\n",
            "{'김밥': 2500, '참치김밥': 3000, '라면': 3500, '치즈라면': 4000}\n"
          ],
          "name": "stdout"
        }
      ]
    },
    {
      "cell_type": "code",
      "metadata": {
        "id": "2fEMex4SHszU",
        "colab": {
          "base_uri": "https://localhost:8080/"
        },
        "outputId": "91fcdc93-d3d8-4787-d94d-66b38e25e7ed"
      },
      "source": [
        "# 돈가스 추가\n",
        "menu['돈가스']=6000\n",
        "print(menu)"
      ],
      "execution_count": null,
      "outputs": [
        {
          "output_type": "stream",
          "text": [
            "{'김밥': 2500, '참치김밥': 3000, '라면': 3500, '치즈라면': 4000, '돈가스': 6000}\n"
          ],
          "name": "stdout"
        }
      ]
    },
    {
      "cell_type": "markdown",
      "metadata": {
        "id": "xrO7GOZeF8-U"
      },
      "source": [
        "<img src = 'https://github.com/teacher-jiejie/allinone_AI/blob/images/73_%EB%94%95%EC%85%94%EB%84%88%EB%A6%AC%5B%ED%82%A4%5D.png?raw=true' width=600>"
      ]
    },
    {
      "cell_type": "markdown",
      "metadata": {
        "id": "WU3kevp9H65l"
      },
      "source": [
        "# 2. 딕셔너리의 키와 값\n",
        "\n",
        "딕셔너리의 키만 꺼내기 \n",
        "> 딕셔너리이름.keys()\n",
        "\n",
        "<br/>\n",
        "\n",
        "딕셔너리의 값(value)만 꺼내기 \n",
        "> 딕셔너리이름.values()\n",
        "\n",
        "<br/>\n",
        "\n",
        "딕셔너리의 키-값 모두 꺼내기 \n",
        ">딕셔너리이름.items()\n",
        "\n",
        "\n",
        "\n"
      ]
    },
    {
      "cell_type": "code",
      "metadata": {
        "id": "DXX_OvkAHwpZ",
        "colab": {
          "base_uri": "https://localhost:8080/"
        },
        "outputId": "ddca7bf1-cad4-43c7-e107-cf47ac993434"
      },
      "source": [
        "menu.keys()"
      ],
      "execution_count": null,
      "outputs": [
        {
          "output_type": "execute_result",
          "data": {
            "text/plain": [
              "dict_keys(['김밥', '참치김밥', '라면', '치즈라면', '돈가스'])"
            ]
          },
          "metadata": {
            "tags": []
          },
          "execution_count": 7
        }
      ]
    },
    {
      "cell_type": "code",
      "metadata": {
        "id": "0DV55KHaIWgw",
        "colab": {
          "base_uri": "https://localhost:8080/"
        },
        "outputId": "5f7a34fd-cebd-4562-cfb2-a179df4cdb11"
      },
      "source": [
        "menu.values()"
      ],
      "execution_count": null,
      "outputs": [
        {
          "output_type": "execute_result",
          "data": {
            "text/plain": [
              "dict_values([2500, 3000, 3500, 4000, 6000])"
            ]
          },
          "metadata": {
            "tags": []
          },
          "execution_count": 8
        }
      ]
    },
    {
      "cell_type": "code",
      "metadata": {
        "id": "TLymlSQpIWe8",
        "colab": {
          "base_uri": "https://localhost:8080/"
        },
        "outputId": "68156cab-1942-4e0d-ddb6-429553ba6f70"
      },
      "source": [
        "menu.items()"
      ],
      "execution_count": null,
      "outputs": [
        {
          "output_type": "execute_result",
          "data": {
            "text/plain": [
              "dict_items([('김밥', 2500), ('참치김밥', 3000), ('라면', 3500), ('치즈라면', 4000), ('돈가스', 6000)])"
            ]
          },
          "metadata": {
            "tags": []
          },
          "execution_count": 9
        }
      ]
    },
    {
      "cell_type": "code",
      "metadata": {
        "id": "hhowVdC3IWdJ",
        "colab": {
          "base_uri": "https://localhost:8080/"
        },
        "outputId": "ee2aef90-eb67-4dcd-d826-2c37c5956148"
      },
      "source": [
        "# 딕셔너리의 키를 리스트로 변환하기\n",
        "list(menu.keys())"
      ],
      "execution_count": null,
      "outputs": [
        {
          "output_type": "execute_result",
          "data": {
            "text/plain": [
              "['김밥', '참치김밥', '라면', '치즈라면', '돈가스']"
            ]
          },
          "metadata": {
            "tags": []
          },
          "execution_count": 10
        }
      ]
    },
    {
      "cell_type": "code",
      "metadata": {
        "id": "2gzBfJX9IWbN",
        "colab": {
          "base_uri": "https://localhost:8080/"
        },
        "outputId": "ab1fed64-a504-4457-f4d4-3ec20a3dbcbb"
      },
      "source": [
        "# 딕셔너리의 값을 리스트로 변환하기\n",
        "list(menu.values())"
      ],
      "execution_count": null,
      "outputs": [
        {
          "output_type": "execute_result",
          "data": {
            "text/plain": [
              "[2500, 3000, 3500, 4000, 6000]"
            ]
          },
          "metadata": {
            "tags": []
          },
          "execution_count": 11
        }
      ]
    },
    {
      "cell_type": "markdown",
      "metadata": {
        "id": "bOJo7AydZXiN"
      },
      "source": [
        "# 3. 딕셔너리 정렬하기 \n",
        "\n",
        "> sorted( )\n",
        "\n",
        "```\n",
        "# 딕셔너리 키를 정렬\n",
        "sorted(딕셔너리.keys())\n",
        "\n",
        "# 딕셔너리 값을 정렬\n",
        "sorted(딕셔너리.values())\n",
        "\n",
        "# 딕셔너리 키-값을 정렬\n",
        "sorted(딕셔너리.items())\n",
        "```\n",
        "\n",
        "```\n",
        "mart = {'과자':1500, '아이스크림':1700, '휴지':4800, '고기':10500, '우유':2600}\n",
        "```\n",
        "\n",
        "\n"
      ]
    },
    {
      "cell_type": "markdown",
      "metadata": {
        "id": "_tatFM0dXImU"
      },
      "source": [
        "딕셔너리의 키 정렬하기"
      ]
    },
    {
      "cell_type": "code",
      "metadata": {
        "id": "bERDCkSiZXiR"
      },
      "source": [
        "mart = {'과자':1500, '아이스크림':1700, '휴지':4800, '고기':10500, '우유':2600}"
      ],
      "execution_count": null,
      "outputs": []
    },
    {
      "cell_type": "code",
      "metadata": {
        "colab": {
          "base_uri": "https://localhost:8080/"
        },
        "id": "VjpertryW0hD",
        "outputId": "bd1019ef-080f-46db-f306-2b456fbde0c6"
      },
      "source": [
        "sorted(mart.keys())"
      ],
      "execution_count": null,
      "outputs": [
        {
          "output_type": "execute_result",
          "data": {
            "text/plain": [
              "['고기', '과자', '아이스크림', '우유', '휴지']"
            ]
          },
          "metadata": {
            "tags": []
          },
          "execution_count": 13
        }
      ]
    },
    {
      "cell_type": "markdown",
      "metadata": {
        "id": "yFktNx-kZXiS"
      },
      "source": [
        "오름차순, 내림차순 옵션 reverse\n",
        "\n",
        "> sorted(정렬할 대상, reverse = True/False)"
      ]
    },
    {
      "cell_type": "code",
      "metadata": {
        "colab": {
          "base_uri": "https://localhost:8080/"
        },
        "id": "fl_A4ZDrW_EJ",
        "outputId": "975d00be-af5f-4996-b983-29ff4ec9f1a1"
      },
      "source": [
        "sorted(mart.keys(), reverse=True)"
      ],
      "execution_count": null,
      "outputs": [
        {
          "output_type": "execute_result",
          "data": {
            "text/plain": [
              "['휴지', '우유', '아이스크림', '과자', '고기']"
            ]
          },
          "metadata": {
            "tags": []
          },
          "execution_count": 14
        }
      ]
    },
    {
      "cell_type": "markdown",
      "metadata": {
        "id": "9AO7wNC9XNN-"
      },
      "source": [
        "딕셔너리의 값 정렬"
      ]
    },
    {
      "cell_type": "code",
      "metadata": {
        "colab": {
          "base_uri": "https://localhost:8080/"
        },
        "id": "qbj3FJhEZXiT",
        "outputId": "56823055-2137-45e6-8b61-372ea372b9ab"
      },
      "source": [
        "sorted(mart.values())"
      ],
      "execution_count": null,
      "outputs": [
        {
          "output_type": "execute_result",
          "data": {
            "text/plain": [
              "[1500, 1700, 2600, 4800, 10500]"
            ]
          },
          "metadata": {
            "tags": []
          },
          "execution_count": 15
        }
      ]
    },
    {
      "cell_type": "code",
      "metadata": {
        "colab": {
          "base_uri": "https://localhost:8080/"
        },
        "id": "y2QlgRtuXPy6",
        "outputId": "1ac86839-d2f8-4968-b65e-cbda0a790420"
      },
      "source": [
        "sorted(mart.values(), reverse=True)"
      ],
      "execution_count": null,
      "outputs": [
        {
          "output_type": "execute_result",
          "data": {
            "text/plain": [
              "[10500, 4800, 2600, 1700, 1500]"
            ]
          },
          "metadata": {
            "tags": []
          },
          "execution_count": 16
        }
      ]
    },
    {
      "cell_type": "markdown",
      "metadata": {
        "id": "yTOIFty5XeKD"
      },
      "source": [
        "> 딕셔너리 정렬 결과는 리스트이다! "
      ]
    },
    {
      "cell_type": "code",
      "metadata": {
        "colab": {
          "base_uri": "https://localhost:8080/"
        },
        "id": "47mSPg_zZXiU",
        "outputId": "7f236759-05d8-4ea4-f46b-b0adc480c41c"
      },
      "source": [
        "# 가장 싼 상품의 가격은?\n",
        "sorted(mart.values())[0]"
      ],
      "execution_count": null,
      "outputs": [
        {
          "output_type": "execute_result",
          "data": {
            "text/plain": [
              "1500"
            ]
          },
          "metadata": {
            "tags": []
          },
          "execution_count": 17
        }
      ]
    },
    {
      "cell_type": "code",
      "metadata": {
        "colab": {
          "base_uri": "https://localhost:8080/"
        },
        "id": "WFH4PWWZZXiU",
        "outputId": "31d1dfdd-32fb-475b-e08e-f7d9ce1cecb2"
      },
      "source": [
        "# 가장 싼 상품 두 개의 가격은?\n",
        "sorted(mart.values())[:2]"
      ],
      "execution_count": null,
      "outputs": [
        {
          "output_type": "execute_result",
          "data": {
            "text/plain": [
              "[1500, 1700]"
            ]
          },
          "metadata": {
            "tags": []
          },
          "execution_count": 18
        }
      ]
    },
    {
      "cell_type": "code",
      "metadata": {
        "colab": {
          "base_uri": "https://localhost:8080/"
        },
        "id": "eesAp3eRZXiU",
        "outputId": "fa5aec6d-6f86-40f6-9c4f-12ed2dfbbd01"
      },
      "source": [
        "# 가장 비싼 상품의 두 개의 가격은?\n",
        "sorted(mart.values(), reverse = True)[:2]"
      ],
      "execution_count": null,
      "outputs": [
        {
          "output_type": "execute_result",
          "data": {
            "text/plain": [
              "[10500, 4800]"
            ]
          },
          "metadata": {
            "tags": []
          },
          "execution_count": 31
        }
      ]
    },
    {
      "cell_type": "markdown",
      "metadata": {
        "id": "4mAYDpDsXn9Q"
      },
      "source": [
        "딕셔너리의 키-값 쌍을 정렬하기"
      ]
    },
    {
      "cell_type": "code",
      "metadata": {
        "colab": {
          "base_uri": "https://localhost:8080/"
        },
        "id": "jcTua0ksVB8A",
        "outputId": "4f6a8534-a9eb-4271-df2d-9852fbbf88cc"
      },
      "source": [
        "# 딕셔너리의 (키-값) 쌍을 정렬하기\n",
        "sorted(mart.items())"
      ],
      "execution_count": null,
      "outputs": [
        {
          "output_type": "execute_result",
          "data": {
            "text/plain": [
              "[('고기', 10500), ('과자', 1500), ('아이스크림', 1700), ('우유', 2600), ('휴지', 4800)]"
            ]
          },
          "metadata": {
            "tags": []
          },
          "execution_count": 20
        }
      ]
    },
    {
      "cell_type": "code",
      "metadata": {
        "colab": {
          "base_uri": "https://localhost:8080/"
        },
        "id": "EGOyjkSqYPkn",
        "outputId": "cf7b3d18-8ba1-4f29-9949-1a8e081cfc11"
      },
      "source": [
        "sorted(mart.items(), reverse = True)"
      ],
      "execution_count": null,
      "outputs": [
        {
          "output_type": "execute_result",
          "data": {
            "text/plain": [
              "[('휴지', 4800), ('우유', 2600), ('아이스크림', 1700), ('과자', 1500), ('고기', 10500)]"
            ]
          },
          "metadata": {
            "tags": []
          },
          "execution_count": 21
        }
      ]
    },
    {
      "cell_type": "markdown",
      "metadata": {
        "id": "gLVK3OBHZXiW"
      },
      "source": [
        "딕셔너리 (키-값) 쌍은 자동으로 키를 기준으로 정렬됨\n",
        "\n",
        "> 값을 기준으로 (키-값) 쌍 정렬하기 \n",
        "\n",
        "```\n",
        "import operator\n",
        "\n",
        "sorted(딕셔너리.items(), key = operator.itemgetter(1))\n",
        "```\n",
        "\n",
        "\n",
        "\n"
      ]
    },
    {
      "cell_type": "code",
      "metadata": {
        "colab": {
          "base_uri": "https://localhost:8080/"
        },
        "id": "r5-mL7XIZXiW",
        "outputId": "5462392b-a729-4756-ef83-040056fb680f"
      },
      "source": [
        "# 딕셔너리 키-값 정렬시 값을 기준으로 정렬하기\n",
        "import operator\n",
        " \n",
        "sorted(mart.items(), key = operator.itemgetter(1))"
      ],
      "execution_count": null,
      "outputs": [
        {
          "output_type": "execute_result",
          "data": {
            "text/plain": [
              "[('과자', 1500), ('아이스크림', 1700), ('우유', 2600), ('휴지', 4800), ('고기', 10500)]"
            ]
          },
          "metadata": {
            "tags": []
          },
          "execution_count": 22
        }
      ]
    },
    {
      "cell_type": "code",
      "metadata": {
        "colab": {
          "base_uri": "https://localhost:8080/"
        },
        "id": "uAciMtpcYqMo",
        "outputId": "52889f97-cc38-4ded-edda-53493b7884d4"
      },
      "source": [
        "sorted(mart.items(), key = operator.itemgetter(1), reverse = True)"
      ],
      "execution_count": null,
      "outputs": [
        {
          "output_type": "execute_result",
          "data": {
            "text/plain": [
              "[('고기', 10500), ('휴지', 4800), ('우유', 2600), ('아이스크림', 1700), ('과자', 1500)]"
            ]
          },
          "metadata": {
            "tags": []
          },
          "execution_count": 23
        }
      ]
    },
    {
      "cell_type": "code",
      "metadata": {
        "colab": {
          "base_uri": "https://localhost:8080/"
        },
        "id": "f08bsp01ZXiY",
        "outputId": "4332bdb4-7efe-445e-e6a8-15f98ed288c7"
      },
      "source": [
        "# 가장 비싼 상품과 가격을 출력하시오 \n",
        "sorted(mart.items(), key = operator.itemgetter(1), reverse = True)[0]"
      ],
      "execution_count": null,
      "outputs": [
        {
          "output_type": "execute_result",
          "data": {
            "text/plain": [
              "('고기', 10500)"
            ]
          },
          "metadata": {
            "tags": []
          },
          "execution_count": 24
        }
      ]
    },
    {
      "cell_type": "code",
      "metadata": {
        "colab": {
          "base_uri": "https://localhost:8080/"
        },
        "id": "IyCkcxNeZXiY",
        "outputId": "931d8cd6-70cf-4a88-9b39-bc0a8cb785d9"
      },
      "source": [
        "# 가장 비싼 상품 두개의 이름과 가격을 출력하기? \n",
        "sorted(mart.items(), key = operator.itemgetter(1), reverse = True)[:2]"
      ],
      "execution_count": null,
      "outputs": [
        {
          "output_type": "execute_result",
          "data": {
            "text/plain": [
              "[('고기', 10500), ('휴지', 4800)]"
            ]
          },
          "metadata": {
            "tags": []
          },
          "execution_count": 25
        }
      ]
    },
    {
      "cell_type": "markdown",
      "metadata": {
        "id": "uFj8bD4j9O-f"
      },
      "source": [
        "# 4. 딕셔너리와 제어구조\n",
        "\n",
        "\n",
        "\n",
        "```\n",
        "# 다섯 명의 중간고사 점수를 저장한 딕셔너리\n",
        "midterm = {'도윤': 43, '하윤': 82, '시우': 76, '지유': 61, '주원': 94}\n",
        "```\n"
      ]
    },
    {
      "cell_type": "code",
      "metadata": {
        "colab": {
          "base_uri": "https://localhost:8080/"
        },
        "id": "-qj88bkQ9anF",
        "outputId": "1948475c-4d43-4bde-a3a9-27731cf0e487"
      },
      "source": [
        "# 학생 이름을 입력받나, 딕셔너리에 학생 이름이 있으면 점수를 출력\n",
        "# 없다면 '해당 학생이 없습니다.' 출력하기 \n",
        "midterm = {'도윤': 43, '하윤': 82, '시우': 76, '지유': 61, '주원': 94}\n",
        "\n",
        "student = input('어떤 학생의 점수가 궁금한가요? ')\n",
        "\n",
        "if student in midterm.keys() : \n",
        "    print(midterm[student],'점 입니다.')\n",
        "else : \n",
        "    print('해당 학생이 없습니다.')"
      ],
      "execution_count": null,
      "outputs": [
        {
          "output_type": "stream",
          "text": [
            "어떤 학생의 점수가 궁금한가요? 도윤\n",
            "43 점 입니다.\n"
          ],
          "name": "stdout"
        }
      ]
    },
    {
      "cell_type": "code",
      "metadata": {
        "colab": {
          "base_uri": "https://localhost:8080/"
        },
        "id": "SaGbxT9b9apS",
        "outputId": "6254c2e1-9d4e-42e0-87f2-5929ccfe8830"
      },
      "source": [
        "# 딕셔너리에 저장된 모든 학생의 이름 출력하기\n",
        "for k in midterm.keys() : \n",
        "    print(k)"
      ],
      "execution_count": null,
      "outputs": [
        {
          "output_type": "stream",
          "text": [
            "도윤\n",
            "하윤\n",
            "시우\n",
            "지유\n",
            "주원\n"
          ],
          "name": "stdout"
        }
      ]
    },
    {
      "cell_type": "markdown",
      "metadata": {
        "id": "9Fw3YuxyAAsk"
      },
      "source": [
        "<img src='https://github.com/teacher-jiejie/allinone_AI/blob/images/76_%EB%94%95%EC%85%94%EB%84%88%EB%A6%AC_%ED%82%A4%EB%B0%98%EB%B3%B5.png?raw=true' width=600>"
      ]
    },
    {
      "cell_type": "code",
      "metadata": {
        "colab": {
          "base_uri": "https://localhost:8080/"
        },
        "id": "RQkgM-Io-m95",
        "outputId": "8b69fec7-5fc2-4d93-918d-f720311ff954"
      },
      "source": [
        "# 딕셔너리에 저장된 모든 점수 출력하기\n",
        "for v in midterm.values() : \n",
        "    print(v)"
      ],
      "execution_count": null,
      "outputs": [
        {
          "output_type": "stream",
          "text": [
            "43\n",
            "82\n",
            "76\n",
            "61\n",
            "94\n"
          ],
          "name": "stdout"
        }
      ]
    },
    {
      "cell_type": "markdown",
      "metadata": {
        "id": "0SyNJh_FAGA7"
      },
      "source": [
        "<img src='https://github.com/teacher-jiejie/allinone_AI/blob/images/77_%EB%94%95%EC%85%94%EB%84%88%EB%A6%AC_%EA%B0%92%EB%B0%98%EB%B3%B5.png?raw=true' width=600>"
      ]
    },
    {
      "cell_type": "code",
      "metadata": {
        "colab": {
          "base_uri": "https://localhost:8080/"
        },
        "id": "2sP5sm_9-nTQ",
        "outputId": "99f75b87-b630-43e4-d294-1b59a47cf9a6"
      },
      "source": [
        "# 딕셔너리에 저장된 모든 학생과 점수를 같이 출력하기\n",
        "for i in midterm.items() : \n",
        "    print(i)"
      ],
      "execution_count": null,
      "outputs": [
        {
          "output_type": "stream",
          "text": [
            "('도윤', 43)\n",
            "('하윤', 82)\n",
            "('시우', 76)\n",
            "('지유', 61)\n",
            "('주원', 94)\n"
          ],
          "name": "stdout"
        }
      ]
    },
    {
      "cell_type": "code",
      "metadata": {
        "colab": {
          "base_uri": "https://localhost:8080/"
        },
        "id": "ta1vpZK3A4mZ",
        "outputId": "15f09f8f-da29-4b28-dbc3-47ce88e51ea8"
      },
      "source": [
        "for k, v in midterm.items() :\n",
        "    print(k,'의 점수는', v)"
      ],
      "execution_count": null,
      "outputs": [
        {
          "output_type": "stream",
          "text": [
            "도윤 의 점수는 43\n",
            "하윤 의 점수는 82\n",
            "시우 의 점수는 76\n",
            "지유 의 점수는 61\n",
            "주원 의 점수는 94\n"
          ],
          "name": "stdout"
        }
      ]
    },
    {
      "cell_type": "markdown",
      "metadata": {
        "id": "Z7Iu73cvAFOF"
      },
      "source": [
        "<img src='https://github.com/teacher-jiejie/allinone_AI/blob/images/78_%EB%94%95%EC%85%94%EB%84%88%EB%A6%AC_%EC%95%84%EC%9D%B4%ED%85%9C%EB%B0%98%EB%B3%B5.png?raw=true' width=600>"
      ]
    },
    {
      "cell_type": "code",
      "metadata": {
        "id": "SNPXwr3yAOOx"
      },
      "source": [
        ""
      ],
      "execution_count": null,
      "outputs": []
    }
  ]
}