{
  "nbformat": 4,
  "nbformat_minor": 0,
  "metadata": {
    "colab": {
      "name": "9장-(완성본)-데이터분석 기초.ipynb",
      "provenance": [],
      "collapsed_sections": [],
      "authorship_tag": "ABX9TyOW9Jefxe6WnxqtlVj/XJKL",
      "include_colab_link": true
    },
    "kernelspec": {
      "name": "python3",
      "display_name": "Python 3"
    }
  },
  "cells": [
    {
      "cell_type": "markdown",
      "metadata": {
        "id": "view-in-github",
        "colab_type": "text"
      },
      "source": [
        "<a href=\"https://colab.research.google.com/github/teacher-jiejie/Lets-get-it-Python-Lecture/blob/main/9%EC%9E%A5_(%EC%99%84%EC%84%B1%EB%B3%B8)_%EB%8D%B0%EC%9D%B4%ED%84%B0%EB%B6%84%EC%84%9D_%EA%B8%B0%EC%B4%88.ipynb\" target=\"_parent\"><img src=\"https://colab.research.google.com/assets/colab-badge.svg\" alt=\"Open In Colab\"/></a>"
      ]
    },
    {
      "cell_type": "markdown",
      "metadata": {
        "id": "uysixUXqPykY"
      },
      "source": [
        "# 0. 들어가기 전에, 한글 폰트 설정해주기\n",
        "\n",
        "#### 코랩에서 한글 폰트 설정\n",
        "1) 한글 폰트 코드 실행 \n",
        "\n",
        "```\n",
        "!sudo apt-get install -y fonts-nanum\n",
        "!sudo fc-cache -fv\n",
        "!rm ~/.cache/matplotlib -rf\n",
        "```\n",
        "\n",
        "2) 런타임 - 런타임 다시시작 \n",
        "\n",
        "3) 글꼴 지정 명령어 \n",
        "\n",
        "```\n",
        "plt.rc('font', family='NanumGothic')\n",
        "```\n",
        "\n"
      ]
    },
    {
      "cell_type": "code",
      "metadata": {
        "colab": {
          "base_uri": "https://localhost:8080/"
        },
        "id": "gbH02KhmPw6_",
        "outputId": "e43199e5-a946-4192-f519-34a78d50b94f"
      },
      "source": [
        "!sudo apt-get install -y fonts-nanum\n",
        "!sudo fc-cache -fv\n",
        "!rm ~/.cache/matplotlib -rf"
      ],
      "execution_count": null,
      "outputs": [
        {
          "output_type": "stream",
          "text": [
            "Reading package lists... Done\n",
            "Building dependency tree       \n",
            "Reading state information... Done\n",
            "The following NEW packages will be installed:\n",
            "  fonts-nanum\n",
            "0 upgraded, 1 newly installed, 0 to remove and 13 not upgraded.\n",
            "Need to get 9,604 kB of archives.\n",
            "After this operation, 29.5 MB of additional disk space will be used.\n",
            "Get:1 http://archive.ubuntu.com/ubuntu bionic/universe amd64 fonts-nanum all 20170925-1 [9,604 kB]\n",
            "Fetched 9,604 kB in 2s (5,597 kB/s)\n",
            "debconf: unable to initialize frontend: Dialog\n",
            "debconf: (No usable dialog-like program is installed, so the dialog based frontend cannot be used. at /usr/share/perl5/Debconf/FrontEnd/Dialog.pm line 76, <> line 1.)\n",
            "debconf: falling back to frontend: Readline\n",
            "debconf: unable to initialize frontend: Readline\n",
            "debconf: (This frontend requires a controlling tty.)\n",
            "debconf: falling back to frontend: Teletype\n",
            "dpkg-preconfigure: unable to re-open stdin: \n",
            "Selecting previously unselected package fonts-nanum.\n",
            "(Reading database ... 149406 files and directories currently installed.)\n",
            "Preparing to unpack .../fonts-nanum_20170925-1_all.deb ...\n",
            "Unpacking fonts-nanum (20170925-1) ...\n",
            "Setting up fonts-nanum (20170925-1) ...\n",
            "Processing triggers for fontconfig (2.12.6-0ubuntu2) ...\n",
            "/usr/share/fonts: caching, new cache contents: 0 fonts, 1 dirs\n",
            "/usr/share/fonts/truetype: caching, new cache contents: 0 fonts, 3 dirs\n",
            "/usr/share/fonts/truetype/humor-sans: caching, new cache contents: 1 fonts, 0 dirs\n",
            "/usr/share/fonts/truetype/liberation: caching, new cache contents: 16 fonts, 0 dirs\n",
            "/usr/share/fonts/truetype/nanum: caching, new cache contents: 10 fonts, 0 dirs\n",
            "/usr/local/share/fonts: caching, new cache contents: 0 fonts, 0 dirs\n",
            "/root/.local/share/fonts: skipping, no such directory\n",
            "/root/.fonts: skipping, no such directory\n",
            "/var/cache/fontconfig: cleaning cache directory\n",
            "/root/.cache/fontconfig: not cleaning non-existent cache directory\n",
            "/root/.fontconfig: not cleaning non-existent cache directory\n",
            "fc-cache: succeeded\n"
          ],
          "name": "stdout"
        }
      ]
    },
    {
      "cell_type": "markdown",
      "metadata": {
        "id": "R032dHnvuLca"
      },
      "source": [
        "# 1. 파일 업로드 \n",
        "\n",
        "#### csv 파일이란? \n",
        "comma seperated values의 약자로\n",
        "콤마(,)로 분리된 파일\n",
        "\n",
        "<img src='https://github.com/teacher-jiejie/allinone_AI/blob/images/18_csv%ED%8C%8C%EC%9D%BC.png?raw=true' width=800>\n",
        "\n",
        "\n",
        "\n",
        "```\n",
        "# 코랩에 파일 업로드하는 방법\n",
        " \n",
        "from google.colab import files\n",
        "uploaded = files.upload()\n",
        "```\n",
        "\n"
      ]
    },
    {
      "cell_type": "code",
      "metadata": {
        "id": "xMe9NjEmuO2o",
        "colab": {
          "resources": {
            "http://localhost:8080/nbextensions/google.colab/files.js": {
              "data": "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",
              "ok": true,
              "headers": [
                [
                  "content-type",
                  "application/javascript"
                ]
              ],
              "status": 200,
              "status_text": ""
            }
          },
          "base_uri": "https://localhost:8080/",
          "height": 76
        },
        "outputId": "86160fd2-9620-4a62-bff7-1381db469b17"
      },
      "source": [
        "from google.colab import files\n",
        "uploaded = files.upload()"
      ],
      "execution_count": null,
      "outputs": [
        {
          "output_type": "display_data",
          "data": {
            "text/html": [
              "\n",
              "     <input type=\"file\" id=\"files-b41def8d-8458-4473-baed-14467dd9df3d\" name=\"files[]\" multiple disabled\n",
              "        style=\"border:none\" />\n",
              "     <output id=\"result-b41def8d-8458-4473-baed-14467dd9df3d\">\n",
              "      Upload widget is only available when the cell has been executed in the\n",
              "      current browser session. Please rerun this cell to enable.\n",
              "      </output>\n",
              "      <script src=\"/nbextensions/google.colab/files.js\"></script> "
            ],
            "text/plain": [
              "<IPython.core.display.HTML object>"
            ]
          },
          "metadata": {
            "tags": []
          }
        },
        {
          "output_type": "stream",
          "text": [
            "Saving card.csv to card.csv\n"
          ],
          "name": "stdout"
        }
      ]
    },
    {
      "cell_type": "markdown",
      "metadata": {
        "id": "856yefHCuK2D"
      },
      "source": [
        "### csv 파일을 파이썬으로 읽어오기 \n",
        "\n",
        "\n",
        "\n",
        "1.   파일 open\n",
        "2.   파일 읽기 reader\n",
        "3.   파일 헤더 건너뛰기\n",
        "4.   파일을 리스트로 바꾸기\n",
        "\n",
        "\n",
        "\n",
        "```\n",
        "# csv 라이브러리 임포트\n",
        "import csv \n",
        "\n",
        "f = open('파일명.csv')         # 파일 오픈\n",
        "data = csv.reader(f)         # 파일 읽기 reader\n",
        "next(data)                   # 파일 헤더 건너뛰기 \n",
        "data = list(data)            # 파일 리스트로 바꾸기\n",
        "```\n",
        "\n"
      ]
    },
    {
      "cell_type": "code",
      "metadata": {
        "id": "--E-FxMCuRlC"
      },
      "source": [
        "import csv \n",
        " \n",
        "f = open('card.csv')         # 파일 오픈\n",
        "data = csv.reader(f)         # 파일 읽기 reader\n",
        "next(data)                   # 파일 헤더 건너뛰기 \n",
        "data = list(data)            # 파일 리스트로 바꾸기"
      ],
      "execution_count": null,
      "outputs": []
    },
    {
      "cell_type": "code",
      "metadata": {
        "id": "q3t86Z5LuRm7",
        "colab": {
          "base_uri": "https://localhost:8080/"
        },
        "outputId": "6fe09813-e3e9-4cce-895b-759d4d4daac8"
      },
      "source": [
        "print(data[0])"
      ],
      "execution_count": null,
      "outputs": [
        {
          "output_type": "execute_result",
          "data": {
            "text/plain": [
              "['2019-10-12 9:13',\n",
              " '1972753',\n",
              " '본',\n",
              " 'S&',\n",
              " '185',\n",
              " '네이버파이낸셜(주)',\n",
              " '546800',\n",
              " '일시불(A)',\n",
              " '부분취소']"
            ]
          },
          "metadata": {
            "tags": []
          },
          "execution_count": 3
        }
      ]
    },
    {
      "cell_type": "markdown",
      "metadata": {
        "id": "QjjysIWDqm34"
      },
      "source": [
        "<img src='https://github.com/teacher-jiejie/allinone_AI/blob/images/64_%EC%B9%B4%EB%93%9C%EB%8D%B0%EC%9D%B4%ED%84%B0.png?raw=true'>"
      ]
    },
    {
      "cell_type": "code",
      "metadata": {
        "colab": {
          "base_uri": "https://localhost:8080/"
        },
        "id": "AaAfV1s_qzOR",
        "outputId": "533bdee5-4275-4553-b54d-ff7e89fb1ca8"
      },
      "source": [
        "# 총 데이터의 개수는?\n",
        "len(data)"
      ],
      "execution_count": null,
      "outputs": [
        {
          "output_type": "execute_result",
          "data": {
            "text/plain": [
              "236"
            ]
          },
          "metadata": {
            "tags": []
          },
          "execution_count": 5
        }
      ]
    },
    {
      "cell_type": "markdown",
      "metadata": {
        "id": "mCKJAnCsuO7z"
      },
      "source": [
        "# 2. 데이터 다뤄보기"
      ]
    },
    {
      "cell_type": "markdown",
      "metadata": {
        "id": "89v0MUZ4y0uJ"
      },
      "source": [
        "<img src ='https://github.com/teacher-jiejie/allinone_AI/blob/images/19_%EB%8D%B0%EC%9D%B4%ED%84%B0%20%EA%B5%AC%EC%A1%B0.png?raw=true' width=600>"
      ]
    },
    {
      "cell_type": "code",
      "metadata": {
        "id": "0SSz-ZSvuRrV"
      },
      "source": [
        "# 카드이용일자 모두 출력하기\n",
        "for row in data : \n",
        "    print(row[0])"
      ],
      "execution_count": null,
      "outputs": []
    },
    {
      "cell_type": "code",
      "metadata": {
        "id": "RIz2XBOey6wh"
      },
      "source": [
        "# 카드 사용금액 모두 출력하기\n",
        "for row in data : \n",
        "    print(row[-3])"
      ],
      "execution_count": null,
      "outputs": []
    },
    {
      "cell_type": "markdown",
      "metadata": {
        "id": "RzWt9ggxy7Ap"
      },
      "source": [
        "<img src ='https://github.com/teacher-jiejie/allinone_AI/blob/images/20_%EB%8D%B0%EC%9D%B4%ED%84%B0%EB%B6%84%EC%84%9D%20%EB%B0%98%EB%B3%B5%EB%AC%B8.png?raw=true' width=800>"
      ]
    },
    {
      "cell_type": "code",
      "metadata": {
        "id": "JdHc9hvCy6y7"
      },
      "source": [
        "# 카드 사용처와 금액 모두 출력하기\n",
        "for row in data : \n",
        "    print(row[5],'에서',row[6],'원 사용')"
      ],
      "execution_count": null,
      "outputs": []
    },
    {
      "cell_type": "code",
      "metadata": {
        "id": "NgwKIIVszjfN"
      },
      "source": [
        "# 카드 사용처와 금액 모두 출력하기\n",
        "for row in data : \n",
        "    store = row[5]\n",
        "    payment = row[6]\n",
        "    print(store,'에서',payment,'원 사용')"
      ],
      "execution_count": null,
      "outputs": []
    },
    {
      "cell_type": "markdown",
      "metadata": {
        "id": "1IpuG5Jvy7Vk"
      },
      "source": [
        "<img src = 'https://github.com/teacher-jiejie/allinone_AI/blob/images/21_%EB%8D%B0%EC%9D%B4%ED%84%B0%EB%B6%84%EC%84%9D_%EB%B0%98%EB%B3%B5%EB%AC%B82.png?raw=true' width=800>"
      ]
    },
    {
      "cell_type": "markdown",
      "metadata": {
        "id": "k2rdRhwfAkES"
      },
      "source": [
        "### 3개월간 사용한 총 금액 구하기\n",
        "\n",
        "프로그램 흐름 생각해보기 \n",
        "\n",
        "\n",
        "```\n",
        "1. 총 지출액을 저장할 변수(spend)를 만들고 초깃값 0 저장하기\n",
        "2. 전체 이용내역(data)을 돌며 반복하기\n",
        "  2.1 이용금액(row[-3])만 골라 총 지출액(spend)에 더하기\n",
        "```\n",
        "\n"
      ]
    },
    {
      "cell_type": "code",
      "metadata": {
        "id": "XDbYFvliy61T",
        "colab": {
          "base_uri": "https://localhost:8080/",
          "height": 207
        },
        "outputId": "7a0f1eeb-d571-4703-cf76-e3132b2f89cb"
      },
      "source": [
        "spend = 0\n",
        "\n",
        "for row in data : \n",
        "    spend += row[-3]"
      ],
      "execution_count": null,
      "outputs": [
        {
          "output_type": "error",
          "ename": "TypeError",
          "evalue": "ignored",
          "traceback": [
            "\u001b[0;31m---------------------------------------------------------------------------\u001b[0m",
            "\u001b[0;31mTypeError\u001b[0m                                 Traceback (most recent call last)",
            "\u001b[0;32m<ipython-input-7-f2b4283a9711>\u001b[0m in \u001b[0;36m<module>\u001b[0;34m()\u001b[0m\n\u001b[1;32m      3\u001b[0m \u001b[0;32mfor\u001b[0m \u001b[0mrow\u001b[0m \u001b[0;32min\u001b[0m \u001b[0mdata\u001b[0m \u001b[0;34m:\u001b[0m\u001b[0;34m\u001b[0m\u001b[0;34m\u001b[0m\u001b[0m\n\u001b[1;32m      4\u001b[0m     \u001b[0mpayment\u001b[0m \u001b[0;34m=\u001b[0m \u001b[0mrow\u001b[0m\u001b[0;34m[\u001b[0m\u001b[0;36m6\u001b[0m\u001b[0;34m]\u001b[0m\u001b[0;34m\u001b[0m\u001b[0;34m\u001b[0m\u001b[0m\n\u001b[0;32m----> 5\u001b[0;31m     \u001b[0mtotal\u001b[0m \u001b[0;34m+=\u001b[0m \u001b[0mpayment\u001b[0m\u001b[0;34m\u001b[0m\u001b[0;34m\u001b[0m\u001b[0m\n\u001b[0m",
            "\u001b[0;31mTypeError\u001b[0m: unsupported operand type(s) for +=: 'int' and 'str'"
          ]
        }
      ]
    },
    {
      "cell_type": "markdown",
      "metadata": {
        "id": "sk_9v2hLyrNk"
      },
      "source": [
        "> 파일로 읽어들인 데이터는 모두 문자이다.  </br>\n",
        "> 따라서 연산하려면 숫자로 변경해주어야 함!!"
      ]
    },
    {
      "cell_type": "markdown",
      "metadata": {
        "id": "ufHT8XZKBCLm"
      },
      "source": [
        "수정된 프로그램 흐름\n",
        "\n",
        "```\n",
        "1. 총 지출액을 저장할 변수(spend)를 만들고 초깃값 0 저장하기\n",
        "2. 전체 이용내역(data)을 돌며 반복하기\n",
        "  2.1 이용금액(row[-3])만 골라 정수형으로 변환한 후 총 지출액(spend)에 더하기\n",
        "```\n",
        "\n"
      ]
    },
    {
      "cell_type": "code",
      "metadata": {
        "id": "Oaq__8xwyu7P",
        "colab": {
          "base_uri": "https://localhost:8080/"
        },
        "outputId": "07d68dff-609c-4d6a-cfc9-504da2cf6cf8"
      },
      "source": [
        "spend = 0\n",
        "\n",
        "for row in data : \n",
        "    spend += int(row[-3])\n",
        "\n",
        "print(spend)"
      ],
      "execution_count": null,
      "outputs": [
        {
          "output_type": "stream",
          "text": [
            "11419825\n"
          ],
          "name": "stdout"
        }
      ]
    },
    {
      "cell_type": "markdown",
      "metadata": {
        "id": "R2gvf4J8rS9s"
      },
      "source": [
        "매입상태를 잘 살펴보자 \n",
        "\n",
        "<img src='https://github.com/teacher-jiejie/allinone_AI/blob/images/64_%EC%B9%B4%EB%93%9C%EB%8D%B0%EC%9D%B4%ED%84%B0.png?raw=true' width=800>"
      ]
    },
    {
      "cell_type": "markdown",
      "metadata": {
        "id": "tLkg3gKbtAZe"
      },
      "source": [
        "수정된 프로그램 흐름\n",
        "\n",
        "```\n",
        "1. 총 지출액을 저장할 변수(spend)를 만들고 초깃값 0 저장하기\n",
        "2. 전체 이용내역(data)을 돌며 반복하기\n",
        "  2.1 매입상태(row[-1])가 '전표매입'이라면\n",
        "    2.1.1 이용금액(row[-3])만 골라 정수형으로 변환한 후 총 지출액(spend)에 더하기\n",
        "```\n",
        "\n"
      ]
    },
    {
      "cell_type": "code",
      "metadata": {
        "id": "-A7grbYry7JZ",
        "colab": {
          "base_uri": "https://localhost:8080/"
        },
        "outputId": "6c5437a0-6e64-4eab-eba0-49c1d0f1656e"
      },
      "source": [
        "spend = 0\n",
        "\n",
        "for row in data : \n",
        "    if row[-1] == '전표매입' : \n",
        "        spend += int(row[-3])\n",
        "\n",
        "print(spend)"
      ],
      "execution_count": null,
      "outputs": [
        {
          "output_type": "stream",
          "text": [
            "8174028\n"
          ],
          "name": "stdout"
        }
      ]
    },
    {
      "cell_type": "markdown",
      "metadata": {
        "id": "eaU_IIKYFAi_"
      },
      "source": [
        "# 3. 진짜! 데이터 분석!"
      ]
    },
    {
      "cell_type": "markdown",
      "metadata": {
        "id": "KKcsbWawz7_8"
      },
      "source": [
        "\n",
        "### 1) 10월, 11월, 12월 지출액을 막대그래프로 그리기\n",
        "\n",
        "<img src='https://github.com/teacher-jiejie/allinone_AI/blob/images/83_%ED%95%98%EC%9C%84%EB%AA%A9%ED%91%9C1.png?raw=true' width=300>\n",
        "\n",
        "Q. 그래프로 표현하려면 plt.bar()안에 뭐가 필요할까?\n",
        "\n"
      ]
    },
    {
      "cell_type": "markdown",
      "metadata": {
        "id": "b0rJSIsNxZq4"
      },
      "source": [
        "<img src = 'https://github.com/teacher-jiejie/allinone_AI/blob/images/24_%EC%B9%B4%EB%93%9C%20%EB%A6%AC%EC%8A%A4%ED%8A%B8.png?raw=true' width = 400>\n",
        "\n",
        "</br>\n",
        "</br>\n",
        "\n",
        "*   10월 -> [0]\n",
        "*   11월 -> [1]\n",
        "*   12월 -> [2]\n",
        "\n",
        "</br>\n",
        "\n",
        "Q. 규칙을 발견하셨나요?\n"
      ]
    },
    {
      "cell_type": "code",
      "metadata": {
        "id": "DRJXI5T-2EPT",
        "colab": {
          "base_uri": "https://localhost:8080/",
          "height": 36
        },
        "outputId": "013a0110-4e13-4be4-fe53-ad0f44112eb3"
      },
      "source": [
        "data[0][0]"
      ],
      "execution_count": null,
      "outputs": [
        {
          "output_type": "execute_result",
          "data": {
            "application/vnd.google.colaboratory.intrinsic+json": {
              "type": "string"
            },
            "text/plain": [
              "'2019-10-12 9:13'"
            ]
          },
          "metadata": {
            "tags": []
          },
          "execution_count": 54
        }
      ]
    },
    {
      "cell_type": "code",
      "metadata": {
        "id": "nzbtTm8H2Io6",
        "colab": {
          "base_uri": "https://localhost:8080/",
          "height": 36
        },
        "outputId": "d0495357-3826-4674-d6e2-58768cc20389"
      },
      "source": [
        "data[0][0].split('-')"
      ],
      "execution_count": null,
      "outputs": [
        {
          "output_type": "execute_result",
          "data": {
            "text/plain": [
              "['2019', '10', '12 9:13']"
            ]
          },
          "metadata": {
            "tags": []
          },
          "execution_count": 55
        }
      ]
    },
    {
      "cell_type": "markdown",
      "metadata": {
        "id": "gfP5bwPUCs7V"
      },
      "source": [
        "프로그램 흐름 생각해보기 \n",
        "\n",
        "\n",
        "```\n",
        "1. 10~12월의 월별 지출액을 저장할 리스트(s_mon)를 만들고 초깃값 0 저장하기\n",
        "2. 전체 이용내역(data)을 돌며 반복하기\n",
        "  2.1 각 이용내역에서 매입상태가 '전표매입'이라면\n",
        "    2.1.1 해당 건의 이용월과 이용금액 구하기 \n",
        "    2.1.2. 이용월에서 10을 빼 월별 지출액 리스트(s_mon)의 인덱스(idx) 구하기\n",
        "    2.1.3 과정 2.1.2에서 구한 인덱스의 값(s_mon[idx])에 과정 2.1.1에서 구한 이용금액 더하기\n",
        "3. 월별 지출액 리스트(s_mon)로 막대그래프 그리기\n",
        "```\n",
        "\n"
      ]
    },
    {
      "cell_type": "code",
      "metadata": {
        "id": "t2ja02zPy7L7",
        "colab": {
          "base_uri": "https://localhost:8080/",
          "height": 251
        },
        "outputId": "7b412c98-8e30-49c5-f020-367de0a99cb3"
      },
      "source": [
        "s_mon = [0, 0, 0]\n",
        "\n",
        "for row in data : \n",
        "    if row[-1] == '전표매입' : \n",
        "        mon = row[0].split('-')[1]   \n",
        "        idx = mon - 10                \n",
        "        payment = int(row[6])\n",
        "        s_mon[idx] += payment\n",
        "\n",
        "print(s_mon)"
      ],
      "execution_count": null,
      "outputs": [
        {
          "output_type": "error",
          "ename": "TypeError",
          "evalue": "ignored",
          "traceback": [
            "\u001b[0;31m---------------------------------------------------------------------------\u001b[0m",
            "\u001b[0;31mTypeError\u001b[0m                                 Traceback (most recent call last)",
            "\u001b[0;32m<ipython-input-60-49bddc8126d0>\u001b[0m in \u001b[0;36m<module>\u001b[0;34m()\u001b[0m\n\u001b[1;32m      6\u001b[0m     \u001b[0;32mif\u001b[0m \u001b[0mrow\u001b[0m\u001b[0;34m[\u001b[0m\u001b[0;34m-\u001b[0m\u001b[0;36m1\u001b[0m\u001b[0;34m]\u001b[0m \u001b[0;34m==\u001b[0m \u001b[0;34m'전표매입'\u001b[0m \u001b[0;34m:\u001b[0m\u001b[0;34m\u001b[0m\u001b[0;34m\u001b[0m\u001b[0m\n\u001b[1;32m      7\u001b[0m         \u001b[0mmon\u001b[0m \u001b[0;34m=\u001b[0m \u001b[0mrow\u001b[0m\u001b[0;34m[\u001b[0m\u001b[0;36m0\u001b[0m\u001b[0;34m]\u001b[0m\u001b[0;34m.\u001b[0m\u001b[0msplit\u001b[0m\u001b[0;34m(\u001b[0m\u001b[0;34m'-'\u001b[0m\u001b[0;34m)\u001b[0m\u001b[0;34m[\u001b[0m\u001b[0;36m1\u001b[0m\u001b[0;34m]\u001b[0m\u001b[0;34m\u001b[0m\u001b[0;34m\u001b[0m\u001b[0m\n\u001b[0;32m----> 8\u001b[0;31m         \u001b[0midx\u001b[0m \u001b[0;34m=\u001b[0m \u001b[0mmon\u001b[0m \u001b[0;34m-\u001b[0m \u001b[0;36m10\u001b[0m\u001b[0;34m\u001b[0m\u001b[0;34m\u001b[0m\u001b[0m\n\u001b[0m\u001b[1;32m      9\u001b[0m         \u001b[0mpayment\u001b[0m \u001b[0;34m=\u001b[0m \u001b[0mint\u001b[0m\u001b[0;34m(\u001b[0m\u001b[0mrow\u001b[0m\u001b[0;34m[\u001b[0m\u001b[0;36m6\u001b[0m\u001b[0;34m]\u001b[0m\u001b[0;34m)\u001b[0m\u001b[0;34m\u001b[0m\u001b[0;34m\u001b[0m\u001b[0m\n\u001b[1;32m     10\u001b[0m         \u001b[0mspend\u001b[0m\u001b[0;34m[\u001b[0m\u001b[0midx\u001b[0m\u001b[0;34m]\u001b[0m \u001b[0;34m+=\u001b[0m \u001b[0mpayment\u001b[0m\u001b[0;34m\u001b[0m\u001b[0;34m\u001b[0m\u001b[0m\n",
            "\u001b[0;31mTypeError\u001b[0m: unsupported operand type(s) for -: 'str' and 'int'"
          ]
        }
      ]
    },
    {
      "cell_type": "code",
      "metadata": {
        "id": "HTNFp2EZy7OD",
        "colab": {
          "base_uri": "https://localhost:8080/",
          "height": 36
        },
        "outputId": "10923fe9-aa42-4a1b-ad15-c5dba54f6977"
      },
      "source": [
        "s_mon = [0, 0, 0]\n",
        "\n",
        "for row in data : \n",
        "    if row[-1] == '전표매입' : \n",
        "        mon = int(row[0].split('-')[1]) \n",
        "        idx = mon - 10                \n",
        "        payment = int(row[6])\n",
        "        s_mon[idx] += payment\n",
        "\n",
        "print(s_mon)"
      ],
      "execution_count": null,
      "outputs": [
        {
          "output_type": "stream",
          "text": [
            "[2093015, 4127744, 1953269]\n"
          ],
          "name": "stdout"
        }
      ]
    },
    {
      "cell_type": "code",
      "metadata": {
        "id": "i2-cuPNs2y9d",
        "colab": {
          "base_uri": "https://localhost:8080/"
        },
        "outputId": "074c6842-a993-467d-c70d-3c58ff78aa98"
      },
      "source": [
        "# 초간단ver\n",
        "s_mon = [0, 0, 0]\n",
        "\n",
        "for row in data : \n",
        "    if row[-1] == '전표매입' : \n",
        "        s_mon[int(row[0].split('-')[1]) - 10 ] += int(row[6])\n",
        "\n",
        "print(s_mon)"
      ],
      "execution_count": null,
      "outputs": [
        {
          "output_type": "stream",
          "text": [
            "[2093015, 4127744, 1953269]\n"
          ],
          "name": "stdout"
        }
      ]
    },
    {
      "cell_type": "code",
      "metadata": {
        "id": "VxmnUsvcy7Qq",
        "colab": {
          "base_uri": "https://localhost:8080/",
          "height": 383
        },
        "outputId": "6cd86989-37f4-4426-870f-cfae595fec33"
      },
      "source": [
        "import matplotlib.pyplot as plt\n",
        "\n",
        "plt.figure(dpi=100)\n",
        "plt.rc('font',family ='NanumGothic')\n",
        "plt.title('10-12월 지출현황')\n",
        "plt.bar(['10월','11월','12월'], s_mon, color = 'royalblue')\n",
        "plt.show()"
      ],
      "execution_count": null,
      "outputs": [
        {
          "output_type": "display_data",
          "data": {
            "image/png": "[encoded data removed]",
            "text/plain": [
              "<Figure size 600x400 with 1 Axes>"
            ]
          },
          "metadata": {
            "tags": [],
            "needs_background": "light"
          }
        }
      ]
    },
    {
      "cell_type": "markdown",
      "metadata": {
        "id": "dfK9j1ZQSrBX"
      },
      "source": [
        "지수표기법 e를 검색해보세요!"
      ]
    },
    {
      "cell_type": "markdown",
      "metadata": {
        "id": "CJIzyZgU3nAD"
      },
      "source": [
        "### 2) 월별 택시 이용 금액 구하기"
      ]
    },
    {
      "cell_type": "markdown",
      "metadata": {
        "id": "s2wFwrVoCyaS"
      },
      "source": [
        "프로그램 흐름 생각해보기 \n",
        "\n",
        "\n",
        "```\n",
        "1. 10-12월의 월별 택시비 지출액을 저장할 리스트(taxi)를 만들고 각 월별 택시 지출액의 초깃값을 0으로 저장하기\n",
        "2. 전체 이용내역(data)를 돌며 반복하기\n",
        "  2.1 매입상태(row[-1])가 '전표매입'이고, 가맹점명에 '택시'가 있다면\n",
        "    2.1.1 해당 건의 이용월 구하고, 이용금액도 구하기\n",
        "    2.1.2 이용월에서 10을 빼서 taxi의 인덱스 구하기\n",
        "    2.1.3 taxi[인덱스] += 이용금액\n",
        "3. 월별 지출액 리스트로 막대그래프 그리기\n",
        "```\n",
        "\n"
      ]
    },
    {
      "cell_type": "code",
      "metadata": {
        "id": "NAKsjo--zCXX",
        "colab": {
          "base_uri": "https://localhost:8080/",
          "height": 409
        },
        "outputId": "47cab11b-2433-447e-a7b2-8b051d387251"
      },
      "source": [
        "taxi = [0, 0, 0]\n",
        "\n",
        "for row in data : \n",
        "    if row[-1] == '전표매입' and '택시' in row[5] : \n",
        "        mon = int(row[0].split('-')[1])\n",
        "        payment = int(row[-3])\n",
        "        idx = mon-10\n",
        "        taxi[idx] += payment\n",
        "\n",
        "print(taxi)"
      ],
      "execution_count": null,
      "outputs": [
        {
          "output_type": "stream",
          "text": [
            "카카오페이(택시) 10 월 [4200, 0, 0]\n",
            "티머니 개인택시 10 월 [8600, 0, 0]\n",
            "티머니 개인택시 11 월 [8600, 4700, 0]\n",
            "티머니 개인택시 11 월 [8600, 12800, 0]\n",
            "카카오페이(택시) 11 월 [8600, 19600, 0]\n",
            "카카오페이(택시) 11 월 [8600, 24600, 0]\n",
            "티머니 개인택시 11 월 [8600, 34700, 0]\n",
            "카카오페이(택시) 11 월 [8600, 62600, 0]\n",
            "카카오페이(택시) 11 월 [8600, 73000, 0]\n",
            "카카오페이(택시) 11 월 [8600, 78600, 0]\n",
            "카카오페이(택시) 11 월 [8600, 83900, 0]\n",
            "카카오페이(택시) 12 월 [8600, 83900, 5900]\n",
            "카카오페이(택시)1 12 월 [8600, 83900, 13600]\n",
            "카카오페이(택시) 12 월 [8600, 83900, 14600]\n",
            "카카오페이(택시)1 12 월 [8600, 83900, 23300]\n",
            "카카오페이(택시) 12 월 [8600, 83900, 24300]\n",
            "디지비유페이택시개인1 12 월 [8600, 83900, 30600]\n",
            "티머니 법인택시 12 월 [8600, 83900, 44100]\n",
            "티머니 법인택시 12 월 [8600, 83900, 47900]\n",
            "카카오페이(택시) 12 월 [8600, 83900, 52800]\n",
            "[8600, 83900, 52800]\n"
          ],
          "name": "stdout"
        }
      ]
    },
    {
      "cell_type": "code",
      "metadata": {
        "id": "k9rWiM2y31QN",
        "colab": {
          "base_uri": "https://localhost:8080/"
        },
        "outputId": "d210efe6-15cf-4908-bcfe-bf05f7667b02"
      },
      "source": [
        "# 초간단 ver\n",
        "taxi = [0,0,0]\n",
        "\n",
        "for row in data : \n",
        "    if row[-1] == '전표매입' and '택시' in row[5] : \n",
        "        taxi[int(row[0].split('-')[1])-10] += int(row[-3])\n",
        "\n",
        "print(taxi)"
      ],
      "execution_count": null,
      "outputs": [
        {
          "output_type": "stream",
          "text": [
            "[8600, 83900, 52800]\n"
          ],
          "name": "stdout"
        }
      ]
    },
    {
      "cell_type": "code",
      "metadata": {
        "id": "eC-54uUm31So",
        "colab": {
          "base_uri": "https://localhost:8080/",
          "height": 383
        },
        "outputId": "d133940c-76e1-40a3-9626-a4e9bf501350"
      },
      "source": [
        "plt.figure(dpi=100)\n",
        "plt.title('10-12월 택시비 지출 현황')\n",
        "plt.plot(['10월','11월','12월'],taxi, color = 'crimson', label ='택시 지출액')\n",
        "plt.legend()\n",
        "plt.show()"
      ],
      "execution_count": null,
      "outputs": [
        {
          "output_type": "display_data",
          "data": {
            "image/png": "[encoded data removed]",
            "text/plain": [
              "<Figure size 600x400 with 1 Axes>"
            ]
          },
          "metadata": {
            "tags": [],
            "needs_background": "light"
          }
        }
      ]
    },
    {
      "cell_type": "markdown",
      "metadata": {
        "id": "9yQp40sX31ar"
      },
      "source": [
        "### 3) 월별 배달 이용 금액 구하기"
      ]
    },
    {
      "cell_type": "code",
      "metadata": {
        "id": "IU4xutnd31VM",
        "colab": {
          "base_uri": "https://localhost:8080/"
        },
        "outputId": "fd269903-6287-4f06-ae82-54d795aa1e15"
      },
      "source": [
        "deli = [0,0,0]\n",
        "\n",
        "for row in data : \n",
        "    if row[-1] == '전표매입' and row[5] == '(주)우아한형제들': \n",
        "        mon = int(row[0].split('-')[1])\n",
        "        idx = mon-10\n",
        "        payment = int(row[-3])        \n",
        "        deli[idx] += payment\n",
        "\n",
        "print(deli)"
      ],
      "execution_count": null,
      "outputs": [
        {
          "output_type": "stream",
          "text": [
            "[134300, 127900, 99230]\n"
          ],
          "name": "stdout"
        }
      ]
    },
    {
      "cell_type": "code",
      "metadata": {
        "id": "nIoEOuNJ31fz",
        "colab": {
          "base_uri": "https://localhost:8080/",
          "height": 383
        },
        "outputId": "1a979c9d-a9cb-498a-d14c-7cd1ec684725"
      },
      "source": [
        "plt.figure(dpi=100)\n",
        "\n",
        "plt.title('10-12월 배달음식 지출 현황')\n",
        "plt.plot(['10월','11월','12월'], deli, color = 'indigo', label ='배달음식 지출액')\n",
        "plt.legend()\n",
        "plt.show()"
      ],
      "execution_count": null,
      "outputs": [
        {
          "output_type": "display_data",
          "data": {
            "image/png": "[encoded data removed]",
            "text/plain": [
              "<Figure size 600x400 with 1 Axes>"
            ]
          },
          "metadata": {
            "tags": [],
            "needs_background": "light"
          }
        }
      ]
    },
    {
      "cell_type": "markdown",
      "metadata": {
        "id": "A2F6ROi_4Rix"
      },
      "source": [
        "### 4) 택시 지출액과 배달음식 지출액 비교하기\n",
        "\n",
        "<img src='https://github.com/Ahnjihye/allinone_AI/blob/images/84_%ED%95%98%EC%9C%84%EB%AA%A9%ED%91%9C2.png?raw=true' width=300>"
      ]
    },
    {
      "cell_type": "markdown",
      "metadata": {
        "id": "DU3V80mxS9Mh"
      },
      "source": [
        "여러 그래프 한 번에 표시하기\n",
        "\n",
        "\n",
        "```\n",
        "# 그래프 그리는 명령어를 여러개 작성하고, plt.show()를 마지막에 한번만 작성\n",
        "plt.plot(리스트A)\n",
        "plt.plot(리스트B)\n",
        "plt.show()\n",
        "```\n",
        "\n"
      ]
    },
    {
      "cell_type": "code",
      "metadata": {
        "colab": {
          "base_uri": "https://localhost:8080/",
          "height": 383
        },
        "id": "tXcHIDs7-k9E",
        "outputId": "4debd049-dfda-4907-bf16-ec956e956656"
      },
      "source": [
        "plt.figure(dpi=100)\n",
        "\n",
        "plt.title('10-12월 택시/배달음식 지출 현황')\n",
        "\n",
        "plt.plot(['10월', '11월','12월'], taxi, color = 'crimson', label = '택시 지출액')\n",
        "plt.plot(['10월','11월','12월'], deli, color = 'indigo', label='배달음식 지출액')\n",
        "\n",
        "plt.legend()\n",
        "plt.show()"
      ],
      "execution_count": null,
      "outputs": [
        {
          "output_type": "display_data",
          "data": {
            "image/png": "[encoded data removed]",
            "text/plain": [
              "<Figure size 600x400 with 1 Axes>"
            ]
          },
          "metadata": {
            "tags": [],
            "needs_background": "light"
          }
        }
      ]
    },
    {
      "cell_type": "code",
      "metadata": {
        "id": "yADCELZdK792"
      },
      "source": [
        ""
      ],
      "execution_count": null,
      "outputs": []
    }
  ]
}